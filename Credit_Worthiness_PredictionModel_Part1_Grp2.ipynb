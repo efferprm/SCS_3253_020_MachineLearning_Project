{
 "cells": [
  {
   "cell_type": "markdown",
   "metadata": {},
   "source": [
    "\n",
    "# Credit Worthiness Prediction Model\n",
    "## Data Cleansing and Preparation\n"
   ]
  },
  {
   "cell_type": "markdown",
   "metadata": {},
   "source": [
    "### Team Members:\n",
    "\n",
    "<pre> Pablo Macaraeg</pre>\n",
    "<pre> Jennifer Macaraeg</pre>\n",
    "<pre> John Derek Requejo</pre>\n"
   ]
  },
  {
   "cell_type": "markdown",
   "metadata": {},
   "source": [
    "### Loading Libraries"
   ]
  },
  {
   "cell_type": "code",
   "execution_count": 1,
   "metadata": {
    "_cell_guid": "b1076dfc-b9ad-4769-8c92-a6c4dae69d19",
    "_uuid": "8f2839f25d086af736a60e9eeb907d3b93b6e0e5"
   },
   "outputs": [
    {
     "data": {
      "text/html": [
       "        <script type=\"text/javascript\">\n",
       "        window.PlotlyConfig = {MathJaxConfig: 'local'};\n",
       "        if (window.MathJax) {MathJax.Hub.Config({SVG: {font: \"STIX-Web\"}});}\n",
       "        if (typeof require !== 'undefined') {\n",
       "        require.undef(\"plotly\");\n",
       "        requirejs.config({\n",
       "            paths: {\n",
       "                'plotly': ['https://cdn.plot.ly/plotly-latest.min']\n",
       "            }\n",
       "        });\n",
       "        require(['plotly'], function(Plotly) {\n",
       "            window._Plotly = Plotly;\n",
       "        });\n",
       "        }\n",
       "        </script>\n",
       "        "
      ]
     },
     "metadata": {},
     "output_type": "display_data"
    }
   ],
   "source": [
    "\n",
    "import numpy as np \n",
    "import pandas as pd \n",
    "import matplotlib.pyplot as plt\n",
    "import seaborn as sns\n",
    "from plotly.offline import init_notebook_mode, download_plotlyjs, iplot\n",
    "\n",
    "init_notebook_mode(connected=True)\n",
    "\n",
    "import warnings\n",
    "warnings.filterwarnings('ignore')\n",
    "\n",
    "# Model imports\n",
    "from sklearn.linear_model import LogisticRegression\n",
    "from sklearn.naive_bayes import GaussianNB\n",
    "from sklearn.neighbors import KNeighborsClassifier\n",
    "from sklearn.tree import DecisionTreeClassifier\n",
    "from sklearn.ensemble import RandomForestClassifier\n",
    "from sklearn.svm import SVC\n",
    "\n",
    "# Plotting imports and settings\n",
    "import seaborn as sns\n",
    "import matplotlib.pyplot as plt\n",
    "plt.style.use(\"ggplot\")\n",
    "import matplotlib as mpl\n",
    "mpl.rcParams['figure.figsize'] = (13,8)\n",
    "\n",
    "# ML imports\n",
    "from sklearn.metrics import accuracy_score, roc_auc_score, precision_score, recall_score, f1_score, confusion_matrix\n",
    "from sklearn.model_selection import train_test_split, cross_validate, StratifiedKFold\n",
    "\n",
    "\n",
    "from pathlib import Path\n",
    "from tqdm import tqdm"
   ]
  },
  {
   "cell_type": "markdown",
   "metadata": {},
   "source": [
    "### Loading the Dataset"
   ]
  },
  {
   "cell_type": "code",
   "execution_count": 2,
   "metadata": {
    "_cell_guid": "79c7e3d0-c299-4dcb-8224-4455121ee9b0",
    "_uuid": "d629ff2d2480ee46fbb7e2d37f6b5fab8052498a"
   },
   "outputs": [],
   "source": [
    "df_train = pd.read_csv(\"credit_train.csv\") \n",
    "df_test = pd.read_csv(\"credit_test.csv\")   \n",
    "\n",
    "#source: https://www.kaggle.com/zaurbegiev/my-dataset"
   ]
  },
  {
   "cell_type": "markdown",
   "metadata": {},
   "source": [
    "## Exploring/Cleaning credit_train Data Set\n",
    "\n",
    "This dataset will be used for training the model."
   ]
  },
  {
   "cell_type": "code",
   "execution_count": 3,
   "metadata": {},
   "outputs": [
    {
     "data": {
      "text/html": [
       "<div>\n",
       "<style scoped>\n",
       "    .dataframe tbody tr th:only-of-type {\n",
       "        vertical-align: middle;\n",
       "    }\n",
       "\n",
       "    .dataframe tbody tr th {\n",
       "        vertical-align: top;\n",
       "    }\n",
       "\n",
       "    .dataframe thead th {\n",
       "        text-align: right;\n",
       "    }\n",
       "</style>\n",
       "<table border=\"1\" class=\"dataframe\">\n",
       "  <thead>\n",
       "    <tr style=\"text-align: right;\">\n",
       "      <th></th>\n",
       "      <th>Loan ID</th>\n",
       "      <th>Customer ID</th>\n",
       "      <th>Loan Status</th>\n",
       "      <th>Current Loan Amount</th>\n",
       "      <th>Term</th>\n",
       "      <th>Credit Score</th>\n",
       "      <th>Annual Income</th>\n",
       "      <th>Years in current job</th>\n",
       "      <th>Home Ownership</th>\n",
       "      <th>Purpose</th>\n",
       "      <th>Monthly Debt</th>\n",
       "      <th>Years of Credit History</th>\n",
       "      <th>Months since last delinquent</th>\n",
       "      <th>Number of Open Accounts</th>\n",
       "      <th>Number of Credit Problems</th>\n",
       "      <th>Current Credit Balance</th>\n",
       "      <th>Maximum Open Credit</th>\n",
       "      <th>Bankruptcies</th>\n",
       "      <th>Tax Liens</th>\n",
       "    </tr>\n",
       "  </thead>\n",
       "  <tbody>\n",
       "    <tr>\n",
       "      <th>0</th>\n",
       "      <td>14dd8831-6af5-400b-83ec-68e61888a048</td>\n",
       "      <td>981165ec-3274-42f5-a3b4-d104041a9ca9</td>\n",
       "      <td>Fully Paid</td>\n",
       "      <td>445412.0</td>\n",
       "      <td>Short Term</td>\n",
       "      <td>709.0</td>\n",
       "      <td>1167493.0</td>\n",
       "      <td>8 years</td>\n",
       "      <td>Home Mortgage</td>\n",
       "      <td>Home Improvements</td>\n",
       "      <td>5214.74</td>\n",
       "      <td>17.2</td>\n",
       "      <td>NaN</td>\n",
       "      <td>6.0</td>\n",
       "      <td>1.0</td>\n",
       "      <td>228190.0</td>\n",
       "      <td>416746.0</td>\n",
       "      <td>1.0</td>\n",
       "      <td>0.0</td>\n",
       "    </tr>\n",
       "    <tr>\n",
       "      <th>1</th>\n",
       "      <td>4771cc26-131a-45db-b5aa-537ea4ba5342</td>\n",
       "      <td>2de017a3-2e01-49cb-a581-08169e83be29</td>\n",
       "      <td>Fully Paid</td>\n",
       "      <td>262328.0</td>\n",
       "      <td>Short Term</td>\n",
       "      <td>NaN</td>\n",
       "      <td>NaN</td>\n",
       "      <td>10+ years</td>\n",
       "      <td>Home Mortgage</td>\n",
       "      <td>Debt Consolidation</td>\n",
       "      <td>33295.98</td>\n",
       "      <td>21.1</td>\n",
       "      <td>8.0</td>\n",
       "      <td>35.0</td>\n",
       "      <td>0.0</td>\n",
       "      <td>229976.0</td>\n",
       "      <td>850784.0</td>\n",
       "      <td>0.0</td>\n",
       "      <td>0.0</td>\n",
       "    </tr>\n",
       "    <tr>\n",
       "      <th>2</th>\n",
       "      <td>4eed4e6a-aa2f-4c91-8651-ce984ee8fb26</td>\n",
       "      <td>5efb2b2b-bf11-4dfd-a572-3761a2694725</td>\n",
       "      <td>Fully Paid</td>\n",
       "      <td>99999999.0</td>\n",
       "      <td>Short Term</td>\n",
       "      <td>741.0</td>\n",
       "      <td>2231892.0</td>\n",
       "      <td>8 years</td>\n",
       "      <td>Own Home</td>\n",
       "      <td>Debt Consolidation</td>\n",
       "      <td>29200.53</td>\n",
       "      <td>14.9</td>\n",
       "      <td>29.0</td>\n",
       "      <td>18.0</td>\n",
       "      <td>1.0</td>\n",
       "      <td>297996.0</td>\n",
       "      <td>750090.0</td>\n",
       "      <td>0.0</td>\n",
       "      <td>0.0</td>\n",
       "    </tr>\n",
       "    <tr>\n",
       "      <th>3</th>\n",
       "      <td>77598f7b-32e7-4e3b-a6e5-06ba0d98fe8a</td>\n",
       "      <td>e777faab-98ae-45af-9a86-7ce5b33b1011</td>\n",
       "      <td>Fully Paid</td>\n",
       "      <td>347666.0</td>\n",
       "      <td>Long Term</td>\n",
       "      <td>721.0</td>\n",
       "      <td>806949.0</td>\n",
       "      <td>3 years</td>\n",
       "      <td>Own Home</td>\n",
       "      <td>Debt Consolidation</td>\n",
       "      <td>8741.90</td>\n",
       "      <td>12.0</td>\n",
       "      <td>NaN</td>\n",
       "      <td>9.0</td>\n",
       "      <td>0.0</td>\n",
       "      <td>256329.0</td>\n",
       "      <td>386958.0</td>\n",
       "      <td>0.0</td>\n",
       "      <td>0.0</td>\n",
       "    </tr>\n",
       "    <tr>\n",
       "      <th>4</th>\n",
       "      <td>d4062e70-befa-4995-8643-a0de73938182</td>\n",
       "      <td>81536ad9-5ccf-4eb8-befb-47a4d608658e</td>\n",
       "      <td>Fully Paid</td>\n",
       "      <td>176220.0</td>\n",
       "      <td>Short Term</td>\n",
       "      <td>NaN</td>\n",
       "      <td>NaN</td>\n",
       "      <td>5 years</td>\n",
       "      <td>Rent</td>\n",
       "      <td>Debt Consolidation</td>\n",
       "      <td>20639.70</td>\n",
       "      <td>6.1</td>\n",
       "      <td>NaN</td>\n",
       "      <td>15.0</td>\n",
       "      <td>0.0</td>\n",
       "      <td>253460.0</td>\n",
       "      <td>427174.0</td>\n",
       "      <td>0.0</td>\n",
       "      <td>0.0</td>\n",
       "    </tr>\n",
       "  </tbody>\n",
       "</table>\n",
       "</div>"
      ],
      "text/plain": [
       "                                Loan ID                           Customer ID  \\\n",
       "0  14dd8831-6af5-400b-83ec-68e61888a048  981165ec-3274-42f5-a3b4-d104041a9ca9   \n",
       "1  4771cc26-131a-45db-b5aa-537ea4ba5342  2de017a3-2e01-49cb-a581-08169e83be29   \n",
       "2  4eed4e6a-aa2f-4c91-8651-ce984ee8fb26  5efb2b2b-bf11-4dfd-a572-3761a2694725   \n",
       "3  77598f7b-32e7-4e3b-a6e5-06ba0d98fe8a  e777faab-98ae-45af-9a86-7ce5b33b1011   \n",
       "4  d4062e70-befa-4995-8643-a0de73938182  81536ad9-5ccf-4eb8-befb-47a4d608658e   \n",
       "\n",
       "  Loan Status  Current Loan Amount        Term  Credit Score  Annual Income  \\\n",
       "0  Fully Paid             445412.0  Short Term         709.0      1167493.0   \n",
       "1  Fully Paid             262328.0  Short Term           NaN            NaN   \n",
       "2  Fully Paid           99999999.0  Short Term         741.0      2231892.0   \n",
       "3  Fully Paid             347666.0   Long Term         721.0       806949.0   \n",
       "4  Fully Paid             176220.0  Short Term           NaN            NaN   \n",
       "\n",
       "  Years in current job Home Ownership             Purpose  Monthly Debt  \\\n",
       "0              8 years  Home Mortgage   Home Improvements       5214.74   \n",
       "1            10+ years  Home Mortgage  Debt Consolidation      33295.98   \n",
       "2              8 years       Own Home  Debt Consolidation      29200.53   \n",
       "3              3 years       Own Home  Debt Consolidation       8741.90   \n",
       "4              5 years           Rent  Debt Consolidation      20639.70   \n",
       "\n",
       "   Years of Credit History  Months since last delinquent  \\\n",
       "0                     17.2                           NaN   \n",
       "1                     21.1                           8.0   \n",
       "2                     14.9                          29.0   \n",
       "3                     12.0                           NaN   \n",
       "4                      6.1                           NaN   \n",
       "\n",
       "   Number of Open Accounts  Number of Credit Problems  Current Credit Balance  \\\n",
       "0                      6.0                        1.0                228190.0   \n",
       "1                     35.0                        0.0                229976.0   \n",
       "2                     18.0                        1.0                297996.0   \n",
       "3                      9.0                        0.0                256329.0   \n",
       "4                     15.0                        0.0                253460.0   \n",
       "\n",
       "   Maximum Open Credit  Bankruptcies  Tax Liens  \n",
       "0             416746.0           1.0        0.0  \n",
       "1             850784.0           0.0        0.0  \n",
       "2             750090.0           0.0        0.0  \n",
       "3             386958.0           0.0        0.0  \n",
       "4             427174.0           0.0        0.0  "
      ]
     },
     "execution_count": 3,
     "metadata": {},
     "output_type": "execute_result"
    }
   ],
   "source": [
    "df_train.head()"
   ]
  },
  {
   "cell_type": "code",
   "execution_count": 4,
   "metadata": {},
   "outputs": [
    {
     "data": {
      "text/html": [
       "<div>\n",
       "<style scoped>\n",
       "    .dataframe tbody tr th:only-of-type {\n",
       "        vertical-align: middle;\n",
       "    }\n",
       "\n",
       "    .dataframe tbody tr th {\n",
       "        vertical-align: top;\n",
       "    }\n",
       "\n",
       "    .dataframe thead th {\n",
       "        text-align: right;\n",
       "    }\n",
       "</style>\n",
       "<table border=\"1\" class=\"dataframe\">\n",
       "  <thead>\n",
       "    <tr style=\"text-align: right;\">\n",
       "      <th></th>\n",
       "      <th>Current Loan Amount</th>\n",
       "      <th>Credit Score</th>\n",
       "      <th>Annual Income</th>\n",
       "      <th>Monthly Debt</th>\n",
       "      <th>Years of Credit History</th>\n",
       "      <th>Months since last delinquent</th>\n",
       "      <th>Number of Open Accounts</th>\n",
       "      <th>Number of Credit Problems</th>\n",
       "      <th>Current Credit Balance</th>\n",
       "      <th>Maximum Open Credit</th>\n",
       "      <th>Bankruptcies</th>\n",
       "      <th>Tax Liens</th>\n",
       "    </tr>\n",
       "  </thead>\n",
       "  <tbody>\n",
       "    <tr>\n",
       "      <th>count</th>\n",
       "      <td>1.000000e+05</td>\n",
       "      <td>80846.000000</td>\n",
       "      <td>8.084600e+04</td>\n",
       "      <td>100000.000000</td>\n",
       "      <td>100000.000000</td>\n",
       "      <td>46859.000000</td>\n",
       "      <td>100000.00000</td>\n",
       "      <td>100000.000000</td>\n",
       "      <td>1.000000e+05</td>\n",
       "      <td>9.999800e+04</td>\n",
       "      <td>99796.000000</td>\n",
       "      <td>99990.000000</td>\n",
       "    </tr>\n",
       "    <tr>\n",
       "      <th>mean</th>\n",
       "      <td>1.176045e+07</td>\n",
       "      <td>1076.456089</td>\n",
       "      <td>1.378277e+06</td>\n",
       "      <td>18472.412336</td>\n",
       "      <td>18.199141</td>\n",
       "      <td>34.901321</td>\n",
       "      <td>11.12853</td>\n",
       "      <td>0.168310</td>\n",
       "      <td>2.946374e+05</td>\n",
       "      <td>7.607984e+05</td>\n",
       "      <td>0.117740</td>\n",
       "      <td>0.029313</td>\n",
       "    </tr>\n",
       "    <tr>\n",
       "      <th>std</th>\n",
       "      <td>3.178394e+07</td>\n",
       "      <td>1475.403791</td>\n",
       "      <td>1.081360e+06</td>\n",
       "      <td>12174.992609</td>\n",
       "      <td>7.015324</td>\n",
       "      <td>21.997829</td>\n",
       "      <td>5.00987</td>\n",
       "      <td>0.482705</td>\n",
       "      <td>3.761709e+05</td>\n",
       "      <td>8.384503e+06</td>\n",
       "      <td>0.351424</td>\n",
       "      <td>0.258182</td>\n",
       "    </tr>\n",
       "    <tr>\n",
       "      <th>min</th>\n",
       "      <td>1.080200e+04</td>\n",
       "      <td>585.000000</td>\n",
       "      <td>7.662700e+04</td>\n",
       "      <td>0.000000</td>\n",
       "      <td>3.600000</td>\n",
       "      <td>0.000000</td>\n",
       "      <td>0.00000</td>\n",
       "      <td>0.000000</td>\n",
       "      <td>0.000000e+00</td>\n",
       "      <td>0.000000e+00</td>\n",
       "      <td>0.000000</td>\n",
       "      <td>0.000000</td>\n",
       "    </tr>\n",
       "    <tr>\n",
       "      <th>25%</th>\n",
       "      <td>1.796520e+05</td>\n",
       "      <td>705.000000</td>\n",
       "      <td>8.488440e+05</td>\n",
       "      <td>10214.162500</td>\n",
       "      <td>13.500000</td>\n",
       "      <td>16.000000</td>\n",
       "      <td>8.00000</td>\n",
       "      <td>0.000000</td>\n",
       "      <td>1.126700e+05</td>\n",
       "      <td>2.734380e+05</td>\n",
       "      <td>0.000000</td>\n",
       "      <td>0.000000</td>\n",
       "    </tr>\n",
       "    <tr>\n",
       "      <th>50%</th>\n",
       "      <td>3.122460e+05</td>\n",
       "      <td>724.000000</td>\n",
       "      <td>1.174162e+06</td>\n",
       "      <td>16220.300000</td>\n",
       "      <td>16.900000</td>\n",
       "      <td>32.000000</td>\n",
       "      <td>10.00000</td>\n",
       "      <td>0.000000</td>\n",
       "      <td>2.098170e+05</td>\n",
       "      <td>4.678740e+05</td>\n",
       "      <td>0.000000</td>\n",
       "      <td>0.000000</td>\n",
       "    </tr>\n",
       "    <tr>\n",
       "      <th>75%</th>\n",
       "      <td>5.249420e+05</td>\n",
       "      <td>741.000000</td>\n",
       "      <td>1.650663e+06</td>\n",
       "      <td>24012.057500</td>\n",
       "      <td>21.700000</td>\n",
       "      <td>51.000000</td>\n",
       "      <td>14.00000</td>\n",
       "      <td>0.000000</td>\n",
       "      <td>3.679588e+05</td>\n",
       "      <td>7.829580e+05</td>\n",
       "      <td>0.000000</td>\n",
       "      <td>0.000000</td>\n",
       "    </tr>\n",
       "    <tr>\n",
       "      <th>max</th>\n",
       "      <td>1.000000e+08</td>\n",
       "      <td>7510.000000</td>\n",
       "      <td>1.655574e+08</td>\n",
       "      <td>435843.280000</td>\n",
       "      <td>70.500000</td>\n",
       "      <td>176.000000</td>\n",
       "      <td>76.00000</td>\n",
       "      <td>15.000000</td>\n",
       "      <td>3.287897e+07</td>\n",
       "      <td>1.539738e+09</td>\n",
       "      <td>7.000000</td>\n",
       "      <td>15.000000</td>\n",
       "    </tr>\n",
       "  </tbody>\n",
       "</table>\n",
       "</div>"
      ],
      "text/plain": [
       "       Current Loan Amount  Credit Score  Annual Income   Monthly Debt  \\\n",
       "count         1.000000e+05  80846.000000   8.084600e+04  100000.000000   \n",
       "mean          1.176045e+07   1076.456089   1.378277e+06   18472.412336   \n",
       "std           3.178394e+07   1475.403791   1.081360e+06   12174.992609   \n",
       "min           1.080200e+04    585.000000   7.662700e+04       0.000000   \n",
       "25%           1.796520e+05    705.000000   8.488440e+05   10214.162500   \n",
       "50%           3.122460e+05    724.000000   1.174162e+06   16220.300000   \n",
       "75%           5.249420e+05    741.000000   1.650663e+06   24012.057500   \n",
       "max           1.000000e+08   7510.000000   1.655574e+08  435843.280000   \n",
       "\n",
       "       Years of Credit History  Months since last delinquent  \\\n",
       "count            100000.000000                  46859.000000   \n",
       "mean                 18.199141                     34.901321   \n",
       "std                   7.015324                     21.997829   \n",
       "min                   3.600000                      0.000000   \n",
       "25%                  13.500000                     16.000000   \n",
       "50%                  16.900000                     32.000000   \n",
       "75%                  21.700000                     51.000000   \n",
       "max                  70.500000                    176.000000   \n",
       "\n",
       "       Number of Open Accounts  Number of Credit Problems  \\\n",
       "count             100000.00000              100000.000000   \n",
       "mean                  11.12853                   0.168310   \n",
       "std                    5.00987                   0.482705   \n",
       "min                    0.00000                   0.000000   \n",
       "25%                    8.00000                   0.000000   \n",
       "50%                   10.00000                   0.000000   \n",
       "75%                   14.00000                   0.000000   \n",
       "max                   76.00000                  15.000000   \n",
       "\n",
       "       Current Credit Balance  Maximum Open Credit  Bankruptcies     Tax Liens  \n",
       "count            1.000000e+05         9.999800e+04  99796.000000  99990.000000  \n",
       "mean             2.946374e+05         7.607984e+05      0.117740      0.029313  \n",
       "std              3.761709e+05         8.384503e+06      0.351424      0.258182  \n",
       "min              0.000000e+00         0.000000e+00      0.000000      0.000000  \n",
       "25%              1.126700e+05         2.734380e+05      0.000000      0.000000  \n",
       "50%              2.098170e+05         4.678740e+05      0.000000      0.000000  \n",
       "75%              3.679588e+05         7.829580e+05      0.000000      0.000000  \n",
       "max              3.287897e+07         1.539738e+09      7.000000     15.000000  "
      ]
     },
     "execution_count": 4,
     "metadata": {},
     "output_type": "execute_result"
    }
   ],
   "source": [
    "df_train.describe()"
   ]
  },
  {
   "cell_type": "code",
   "execution_count": 5,
   "metadata": {},
   "outputs": [
    {
     "data": {
      "text/plain": [
       "(100514, 19)"
      ]
     },
     "execution_count": 5,
     "metadata": {},
     "output_type": "execute_result"
    }
   ],
   "source": [
    "df_train.shape"
   ]
  },
  {
   "cell_type": "code",
   "execution_count": 6,
   "metadata": {},
   "outputs": [
    {
     "data": {
      "text/plain": [
       "Index(['Loan ID', 'Customer ID', 'Loan Status', 'Current Loan Amount', 'Term',\n",
       "       'Credit Score', 'Annual Income', 'Years in current job',\n",
       "       'Home Ownership', 'Purpose', 'Monthly Debt', 'Years of Credit History',\n",
       "       'Months since last delinquent', 'Number of Open Accounts',\n",
       "       'Number of Credit Problems', 'Current Credit Balance',\n",
       "       'Maximum Open Credit', 'Bankruptcies', 'Tax Liens'],\n",
       "      dtype='object')"
      ]
     },
     "execution_count": 6,
     "metadata": {},
     "output_type": "execute_result"
    }
   ],
   "source": [
    "df_train.columns"
   ]
  },
  {
   "cell_type": "markdown",
   "metadata": {},
   "source": [
    "Replace spaces in all column names with space with underscore."
   ]
  },
  {
   "cell_type": "code",
   "execution_count": 7,
   "metadata": {},
   "outputs": [],
   "source": [
    "df_train.columns = [c.replace(' ', '_') for c in df_train.columns]"
   ]
  },
  {
   "cell_type": "code",
   "execution_count": 8,
   "metadata": {},
   "outputs": [
    {
     "data": {
      "text/plain": [
       "Index(['Loan_ID', 'Customer_ID', 'Loan_Status', 'Current_Loan_Amount', 'Term',\n",
       "       'Credit_Score', 'Annual_Income', 'Years_in_current_job',\n",
       "       'Home_Ownership', 'Purpose', 'Monthly_Debt', 'Years_of_Credit_History',\n",
       "       'Months_since_last_delinquent', 'Number_of_Open_Accounts',\n",
       "       'Number_of_Credit_Problems', 'Current_Credit_Balance',\n",
       "       'Maximum_Open_Credit', 'Bankruptcies', 'Tax_Liens'],\n",
       "      dtype='object')"
      ]
     },
     "execution_count": 8,
     "metadata": {},
     "output_type": "execute_result"
    }
   ],
   "source": [
    "df_train.columns"
   ]
  },
  {
   "cell_type": "code",
   "execution_count": 9,
   "metadata": {},
   "outputs": [
    {
     "data": {
      "text/html": [
       "<div>\n",
       "<style scoped>\n",
       "    .dataframe tbody tr th:only-of-type {\n",
       "        vertical-align: middle;\n",
       "    }\n",
       "\n",
       "    .dataframe tbody tr th {\n",
       "        vertical-align: top;\n",
       "    }\n",
       "\n",
       "    .dataframe thead th {\n",
       "        text-align: right;\n",
       "    }\n",
       "</style>\n",
       "<table border=\"1\" class=\"dataframe\">\n",
       "  <thead>\n",
       "    <tr style=\"text-align: right;\">\n",
       "      <th></th>\n",
       "      <th>Loan_ID</th>\n",
       "      <th>Customer_ID</th>\n",
       "      <th>Loan_Status</th>\n",
       "      <th>Current_Loan_Amount</th>\n",
       "      <th>Term</th>\n",
       "      <th>Credit_Score</th>\n",
       "      <th>Annual_Income</th>\n",
       "      <th>Years_in_current_job</th>\n",
       "      <th>Home_Ownership</th>\n",
       "      <th>Purpose</th>\n",
       "      <th>Monthly_Debt</th>\n",
       "      <th>Years_of_Credit_History</th>\n",
       "      <th>Months_since_last_delinquent</th>\n",
       "      <th>Number_of_Open_Accounts</th>\n",
       "      <th>Number_of_Credit_Problems</th>\n",
       "      <th>Current_Credit_Balance</th>\n",
       "      <th>Maximum_Open_Credit</th>\n",
       "      <th>Bankruptcies</th>\n",
       "      <th>Tax_Liens</th>\n",
       "    </tr>\n",
       "  </thead>\n",
       "  <tbody>\n",
       "    <tr>\n",
       "      <th>0</th>\n",
       "      <td>14dd8831-6af5-400b-83ec-68e61888a048</td>\n",
       "      <td>981165ec-3274-42f5-a3b4-d104041a9ca9</td>\n",
       "      <td>1.0</td>\n",
       "      <td>445412.0</td>\n",
       "      <td>Short Term</td>\n",
       "      <td>709.0</td>\n",
       "      <td>1167493.0</td>\n",
       "      <td>8 years</td>\n",
       "      <td>Home Mortgage</td>\n",
       "      <td>Home Improvements</td>\n",
       "      <td>5214.74</td>\n",
       "      <td>17.2</td>\n",
       "      <td>NaN</td>\n",
       "      <td>6.0</td>\n",
       "      <td>1.0</td>\n",
       "      <td>228190.0</td>\n",
       "      <td>416746.0</td>\n",
       "      <td>1.0</td>\n",
       "      <td>0.0</td>\n",
       "    </tr>\n",
       "    <tr>\n",
       "      <th>1</th>\n",
       "      <td>4771cc26-131a-45db-b5aa-537ea4ba5342</td>\n",
       "      <td>2de017a3-2e01-49cb-a581-08169e83be29</td>\n",
       "      <td>1.0</td>\n",
       "      <td>262328.0</td>\n",
       "      <td>Short Term</td>\n",
       "      <td>NaN</td>\n",
       "      <td>NaN</td>\n",
       "      <td>10+ years</td>\n",
       "      <td>Home Mortgage</td>\n",
       "      <td>Debt Consolidation</td>\n",
       "      <td>33295.98</td>\n",
       "      <td>21.1</td>\n",
       "      <td>8.0</td>\n",
       "      <td>35.0</td>\n",
       "      <td>0.0</td>\n",
       "      <td>229976.0</td>\n",
       "      <td>850784.0</td>\n",
       "      <td>0.0</td>\n",
       "      <td>0.0</td>\n",
       "    </tr>\n",
       "    <tr>\n",
       "      <th>2</th>\n",
       "      <td>4eed4e6a-aa2f-4c91-8651-ce984ee8fb26</td>\n",
       "      <td>5efb2b2b-bf11-4dfd-a572-3761a2694725</td>\n",
       "      <td>1.0</td>\n",
       "      <td>99999999.0</td>\n",
       "      <td>Short Term</td>\n",
       "      <td>741.0</td>\n",
       "      <td>2231892.0</td>\n",
       "      <td>8 years</td>\n",
       "      <td>Own Home</td>\n",
       "      <td>Debt Consolidation</td>\n",
       "      <td>29200.53</td>\n",
       "      <td>14.9</td>\n",
       "      <td>29.0</td>\n",
       "      <td>18.0</td>\n",
       "      <td>1.0</td>\n",
       "      <td>297996.0</td>\n",
       "      <td>750090.0</td>\n",
       "      <td>0.0</td>\n",
       "      <td>0.0</td>\n",
       "    </tr>\n",
       "    <tr>\n",
       "      <th>3</th>\n",
       "      <td>77598f7b-32e7-4e3b-a6e5-06ba0d98fe8a</td>\n",
       "      <td>e777faab-98ae-45af-9a86-7ce5b33b1011</td>\n",
       "      <td>1.0</td>\n",
       "      <td>347666.0</td>\n",
       "      <td>Long Term</td>\n",
       "      <td>721.0</td>\n",
       "      <td>806949.0</td>\n",
       "      <td>3 years</td>\n",
       "      <td>Own Home</td>\n",
       "      <td>Debt Consolidation</td>\n",
       "      <td>8741.90</td>\n",
       "      <td>12.0</td>\n",
       "      <td>NaN</td>\n",
       "      <td>9.0</td>\n",
       "      <td>0.0</td>\n",
       "      <td>256329.0</td>\n",
       "      <td>386958.0</td>\n",
       "      <td>0.0</td>\n",
       "      <td>0.0</td>\n",
       "    </tr>\n",
       "    <tr>\n",
       "      <th>4</th>\n",
       "      <td>d4062e70-befa-4995-8643-a0de73938182</td>\n",
       "      <td>81536ad9-5ccf-4eb8-befb-47a4d608658e</td>\n",
       "      <td>1.0</td>\n",
       "      <td>176220.0</td>\n",
       "      <td>Short Term</td>\n",
       "      <td>NaN</td>\n",
       "      <td>NaN</td>\n",
       "      <td>5 years</td>\n",
       "      <td>Rent</td>\n",
       "      <td>Debt Consolidation</td>\n",
       "      <td>20639.70</td>\n",
       "      <td>6.1</td>\n",
       "      <td>NaN</td>\n",
       "      <td>15.0</td>\n",
       "      <td>0.0</td>\n",
       "      <td>253460.0</td>\n",
       "      <td>427174.0</td>\n",
       "      <td>0.0</td>\n",
       "      <td>0.0</td>\n",
       "    </tr>\n",
       "  </tbody>\n",
       "</table>\n",
       "</div>"
      ],
      "text/plain": [
       "                                Loan_ID                           Customer_ID  \\\n",
       "0  14dd8831-6af5-400b-83ec-68e61888a048  981165ec-3274-42f5-a3b4-d104041a9ca9   \n",
       "1  4771cc26-131a-45db-b5aa-537ea4ba5342  2de017a3-2e01-49cb-a581-08169e83be29   \n",
       "2  4eed4e6a-aa2f-4c91-8651-ce984ee8fb26  5efb2b2b-bf11-4dfd-a572-3761a2694725   \n",
       "3  77598f7b-32e7-4e3b-a6e5-06ba0d98fe8a  e777faab-98ae-45af-9a86-7ce5b33b1011   \n",
       "4  d4062e70-befa-4995-8643-a0de73938182  81536ad9-5ccf-4eb8-befb-47a4d608658e   \n",
       "\n",
       "   Loan_Status  Current_Loan_Amount        Term  Credit_Score  Annual_Income  \\\n",
       "0          1.0             445412.0  Short Term         709.0      1167493.0   \n",
       "1          1.0             262328.0  Short Term           NaN            NaN   \n",
       "2          1.0           99999999.0  Short Term         741.0      2231892.0   \n",
       "3          1.0             347666.0   Long Term         721.0       806949.0   \n",
       "4          1.0             176220.0  Short Term           NaN            NaN   \n",
       "\n",
       "  Years_in_current_job Home_Ownership             Purpose  Monthly_Debt  \\\n",
       "0              8 years  Home Mortgage   Home Improvements       5214.74   \n",
       "1            10+ years  Home Mortgage  Debt Consolidation      33295.98   \n",
       "2              8 years       Own Home  Debt Consolidation      29200.53   \n",
       "3              3 years       Own Home  Debt Consolidation       8741.90   \n",
       "4              5 years           Rent  Debt Consolidation      20639.70   \n",
       "\n",
       "   Years_of_Credit_History  Months_since_last_delinquent  \\\n",
       "0                     17.2                           NaN   \n",
       "1                     21.1                           8.0   \n",
       "2                     14.9                          29.0   \n",
       "3                     12.0                           NaN   \n",
       "4                      6.1                           NaN   \n",
       "\n",
       "   Number_of_Open_Accounts  Number_of_Credit_Problems  Current_Credit_Balance  \\\n",
       "0                      6.0                        1.0                228190.0   \n",
       "1                     35.0                        0.0                229976.0   \n",
       "2                     18.0                        1.0                297996.0   \n",
       "3                      9.0                        0.0                256329.0   \n",
       "4                     15.0                        0.0                253460.0   \n",
       "\n",
       "   Maximum_Open_Credit  Bankruptcies  Tax_Liens  \n",
       "0             416746.0           1.0        0.0  \n",
       "1             850784.0           0.0        0.0  \n",
       "2             750090.0           0.0        0.0  \n",
       "3             386958.0           0.0        0.0  \n",
       "4             427174.0           0.0        0.0  "
      ]
     },
     "execution_count": 9,
     "metadata": {},
     "output_type": "execute_result"
    }
   ],
   "source": [
    "#Replacing Loan_Status description to binary integer classification (0 for Charged Off and 1 for Fully Paid) to easily calculate values.\n",
    "\n",
    "df_train[\"Loan_Status\"].replace(['Fully Paid', 'Charged Off'], [1, 0], inplace=True)\n",
    "\n",
    "#df_train['Loan_Status'].values\n",
    "\n",
    "df_train.head()"
   ]
  },
  {
   "cell_type": "code",
   "execution_count": 10,
   "metadata": {},
   "outputs": [
    {
     "data": {
      "text/plain": [
       "Loan_ID                           514\n",
       "Customer_ID                       514\n",
       "Loan_Status                       514\n",
       "Current_Loan_Amount               514\n",
       "Term                              514\n",
       "Credit_Score                    19668\n",
       "Annual_Income                   19668\n",
       "Years_in_current_job             4736\n",
       "Home_Ownership                    514\n",
       "Purpose                           514\n",
       "Monthly_Debt                      514\n",
       "Years_of_Credit_History           514\n",
       "Months_since_last_delinquent    53655\n",
       "Number_of_Open_Accounts           514\n",
       "Number_of_Credit_Problems         514\n",
       "Current_Credit_Balance            514\n",
       "Maximum_Open_Credit               516\n",
       "Bankruptcies                      718\n",
       "Tax_Liens                         524\n",
       "dtype: int64"
      ]
     },
     "execution_count": 10,
     "metadata": {},
     "output_type": "execute_result"
    }
   ],
   "source": [
    "df_train.isnull().sum()"
   ]
  },
  {
   "cell_type": "markdown",
   "metadata": {},
   "source": [
    "#### Check rows where Loan_ID is null"
   ]
  },
  {
   "cell_type": "code",
   "execution_count": 11,
   "metadata": {},
   "outputs": [],
   "source": [
    "null_Loan_ID = df_train[df_train['Loan_ID'].isna()]"
   ]
  },
  {
   "cell_type": "code",
   "execution_count": 12,
   "metadata": {},
   "outputs": [
    {
     "data": {
      "text/html": [
       "<div>\n",
       "<style scoped>\n",
       "    .dataframe tbody tr th:only-of-type {\n",
       "        vertical-align: middle;\n",
       "    }\n",
       "\n",
       "    .dataframe tbody tr th {\n",
       "        vertical-align: top;\n",
       "    }\n",
       "\n",
       "    .dataframe thead th {\n",
       "        text-align: right;\n",
       "    }\n",
       "</style>\n",
       "<table border=\"1\" class=\"dataframe\">\n",
       "  <thead>\n",
       "    <tr style=\"text-align: right;\">\n",
       "      <th></th>\n",
       "      <th>Loan_ID</th>\n",
       "      <th>Customer_ID</th>\n",
       "      <th>Loan_Status</th>\n",
       "      <th>Current_Loan_Amount</th>\n",
       "      <th>Term</th>\n",
       "      <th>Credit_Score</th>\n",
       "      <th>Annual_Income</th>\n",
       "      <th>Years_in_current_job</th>\n",
       "      <th>Home_Ownership</th>\n",
       "      <th>Purpose</th>\n",
       "      <th>Monthly_Debt</th>\n",
       "      <th>Years_of_Credit_History</th>\n",
       "      <th>Months_since_last_delinquent</th>\n",
       "      <th>Number_of_Open_Accounts</th>\n",
       "      <th>Number_of_Credit_Problems</th>\n",
       "      <th>Current_Credit_Balance</th>\n",
       "      <th>Maximum_Open_Credit</th>\n",
       "      <th>Bankruptcies</th>\n",
       "      <th>Tax_Liens</th>\n",
       "    </tr>\n",
       "  </thead>\n",
       "  <tbody>\n",
       "    <tr>\n",
       "      <th>100000</th>\n",
       "      <td>NaN</td>\n",
       "      <td>NaN</td>\n",
       "      <td>NaN</td>\n",
       "      <td>NaN</td>\n",
       "      <td>NaN</td>\n",
       "      <td>NaN</td>\n",
       "      <td>NaN</td>\n",
       "      <td>NaN</td>\n",
       "      <td>NaN</td>\n",
       "      <td>NaN</td>\n",
       "      <td>NaN</td>\n",
       "      <td>NaN</td>\n",
       "      <td>NaN</td>\n",
       "      <td>NaN</td>\n",
       "      <td>NaN</td>\n",
       "      <td>NaN</td>\n",
       "      <td>NaN</td>\n",
       "      <td>NaN</td>\n",
       "      <td>NaN</td>\n",
       "    </tr>\n",
       "    <tr>\n",
       "      <th>100001</th>\n",
       "      <td>NaN</td>\n",
       "      <td>NaN</td>\n",
       "      <td>NaN</td>\n",
       "      <td>NaN</td>\n",
       "      <td>NaN</td>\n",
       "      <td>NaN</td>\n",
       "      <td>NaN</td>\n",
       "      <td>NaN</td>\n",
       "      <td>NaN</td>\n",
       "      <td>NaN</td>\n",
       "      <td>NaN</td>\n",
       "      <td>NaN</td>\n",
       "      <td>NaN</td>\n",
       "      <td>NaN</td>\n",
       "      <td>NaN</td>\n",
       "      <td>NaN</td>\n",
       "      <td>NaN</td>\n",
       "      <td>NaN</td>\n",
       "      <td>NaN</td>\n",
       "    </tr>\n",
       "    <tr>\n",
       "      <th>100002</th>\n",
       "      <td>NaN</td>\n",
       "      <td>NaN</td>\n",
       "      <td>NaN</td>\n",
       "      <td>NaN</td>\n",
       "      <td>NaN</td>\n",
       "      <td>NaN</td>\n",
       "      <td>NaN</td>\n",
       "      <td>NaN</td>\n",
       "      <td>NaN</td>\n",
       "      <td>NaN</td>\n",
       "      <td>NaN</td>\n",
       "      <td>NaN</td>\n",
       "      <td>NaN</td>\n",
       "      <td>NaN</td>\n",
       "      <td>NaN</td>\n",
       "      <td>NaN</td>\n",
       "      <td>NaN</td>\n",
       "      <td>NaN</td>\n",
       "      <td>NaN</td>\n",
       "    </tr>\n",
       "    <tr>\n",
       "      <th>100003</th>\n",
       "      <td>NaN</td>\n",
       "      <td>NaN</td>\n",
       "      <td>NaN</td>\n",
       "      <td>NaN</td>\n",
       "      <td>NaN</td>\n",
       "      <td>NaN</td>\n",
       "      <td>NaN</td>\n",
       "      <td>NaN</td>\n",
       "      <td>NaN</td>\n",
       "      <td>NaN</td>\n",
       "      <td>NaN</td>\n",
       "      <td>NaN</td>\n",
       "      <td>NaN</td>\n",
       "      <td>NaN</td>\n",
       "      <td>NaN</td>\n",
       "      <td>NaN</td>\n",
       "      <td>NaN</td>\n",
       "      <td>NaN</td>\n",
       "      <td>NaN</td>\n",
       "    </tr>\n",
       "    <tr>\n",
       "      <th>100004</th>\n",
       "      <td>NaN</td>\n",
       "      <td>NaN</td>\n",
       "      <td>NaN</td>\n",
       "      <td>NaN</td>\n",
       "      <td>NaN</td>\n",
       "      <td>NaN</td>\n",
       "      <td>NaN</td>\n",
       "      <td>NaN</td>\n",
       "      <td>NaN</td>\n",
       "      <td>NaN</td>\n",
       "      <td>NaN</td>\n",
       "      <td>NaN</td>\n",
       "      <td>NaN</td>\n",
       "      <td>NaN</td>\n",
       "      <td>NaN</td>\n",
       "      <td>NaN</td>\n",
       "      <td>NaN</td>\n",
       "      <td>NaN</td>\n",
       "      <td>NaN</td>\n",
       "    </tr>\n",
       "  </tbody>\n",
       "</table>\n",
       "</div>"
      ],
      "text/plain": [
       "       Loan_ID Customer_ID  Loan_Status  Current_Loan_Amount Term  \\\n",
       "100000     NaN         NaN          NaN                  NaN  NaN   \n",
       "100001     NaN         NaN          NaN                  NaN  NaN   \n",
       "100002     NaN         NaN          NaN                  NaN  NaN   \n",
       "100003     NaN         NaN          NaN                  NaN  NaN   \n",
       "100004     NaN         NaN          NaN                  NaN  NaN   \n",
       "\n",
       "        Credit_Score  Annual_Income Years_in_current_job Home_Ownership  \\\n",
       "100000           NaN            NaN                  NaN            NaN   \n",
       "100001           NaN            NaN                  NaN            NaN   \n",
       "100002           NaN            NaN                  NaN            NaN   \n",
       "100003           NaN            NaN                  NaN            NaN   \n",
       "100004           NaN            NaN                  NaN            NaN   \n",
       "\n",
       "       Purpose  Monthly_Debt  Years_of_Credit_History  \\\n",
       "100000     NaN           NaN                      NaN   \n",
       "100001     NaN           NaN                      NaN   \n",
       "100002     NaN           NaN                      NaN   \n",
       "100003     NaN           NaN                      NaN   \n",
       "100004     NaN           NaN                      NaN   \n",
       "\n",
       "        Months_since_last_delinquent  Number_of_Open_Accounts  \\\n",
       "100000                           NaN                      NaN   \n",
       "100001                           NaN                      NaN   \n",
       "100002                           NaN                      NaN   \n",
       "100003                           NaN                      NaN   \n",
       "100004                           NaN                      NaN   \n",
       "\n",
       "        Number_of_Credit_Problems  Current_Credit_Balance  \\\n",
       "100000                        NaN                     NaN   \n",
       "100001                        NaN                     NaN   \n",
       "100002                        NaN                     NaN   \n",
       "100003                        NaN                     NaN   \n",
       "100004                        NaN                     NaN   \n",
       "\n",
       "        Maximum_Open_Credit  Bankruptcies  Tax_Liens  \n",
       "100000                  NaN           NaN        NaN  \n",
       "100001                  NaN           NaN        NaN  \n",
       "100002                  NaN           NaN        NaN  \n",
       "100003                  NaN           NaN        NaN  \n",
       "100004                  NaN           NaN        NaN  "
      ]
     },
     "execution_count": 12,
     "metadata": {},
     "output_type": "execute_result"
    }
   ],
   "source": [
    "null_Loan_ID.head(5)"
   ]
  },
  {
   "cell_type": "code",
   "execution_count": 13,
   "metadata": {},
   "outputs": [
    {
     "data": {
      "text/html": [
       "<div>\n",
       "<style scoped>\n",
       "    .dataframe tbody tr th:only-of-type {\n",
       "        vertical-align: middle;\n",
       "    }\n",
       "\n",
       "    .dataframe tbody tr th {\n",
       "        vertical-align: top;\n",
       "    }\n",
       "\n",
       "    .dataframe thead th {\n",
       "        text-align: right;\n",
       "    }\n",
       "</style>\n",
       "<table border=\"1\" class=\"dataframe\">\n",
       "  <thead>\n",
       "    <tr style=\"text-align: right;\">\n",
       "      <th></th>\n",
       "      <th>Loan_ID</th>\n",
       "      <th>Customer_ID</th>\n",
       "      <th>Loan_Status</th>\n",
       "      <th>Current_Loan_Amount</th>\n",
       "      <th>Term</th>\n",
       "      <th>Credit_Score</th>\n",
       "      <th>Annual_Income</th>\n",
       "      <th>Years_in_current_job</th>\n",
       "      <th>Home_Ownership</th>\n",
       "      <th>Purpose</th>\n",
       "      <th>Monthly_Debt</th>\n",
       "      <th>Years_of_Credit_History</th>\n",
       "      <th>Months_since_last_delinquent</th>\n",
       "      <th>Number_of_Open_Accounts</th>\n",
       "      <th>Number_of_Credit_Problems</th>\n",
       "      <th>Current_Credit_Balance</th>\n",
       "      <th>Maximum_Open_Credit</th>\n",
       "      <th>Bankruptcies</th>\n",
       "      <th>Tax_Liens</th>\n",
       "    </tr>\n",
       "  </thead>\n",
       "  <tbody>\n",
       "    <tr>\n",
       "      <th>100509</th>\n",
       "      <td>NaN</td>\n",
       "      <td>NaN</td>\n",
       "      <td>NaN</td>\n",
       "      <td>NaN</td>\n",
       "      <td>NaN</td>\n",
       "      <td>NaN</td>\n",
       "      <td>NaN</td>\n",
       "      <td>NaN</td>\n",
       "      <td>NaN</td>\n",
       "      <td>NaN</td>\n",
       "      <td>NaN</td>\n",
       "      <td>NaN</td>\n",
       "      <td>NaN</td>\n",
       "      <td>NaN</td>\n",
       "      <td>NaN</td>\n",
       "      <td>NaN</td>\n",
       "      <td>NaN</td>\n",
       "      <td>NaN</td>\n",
       "      <td>NaN</td>\n",
       "    </tr>\n",
       "    <tr>\n",
       "      <th>100510</th>\n",
       "      <td>NaN</td>\n",
       "      <td>NaN</td>\n",
       "      <td>NaN</td>\n",
       "      <td>NaN</td>\n",
       "      <td>NaN</td>\n",
       "      <td>NaN</td>\n",
       "      <td>NaN</td>\n",
       "      <td>NaN</td>\n",
       "      <td>NaN</td>\n",
       "      <td>NaN</td>\n",
       "      <td>NaN</td>\n",
       "      <td>NaN</td>\n",
       "      <td>NaN</td>\n",
       "      <td>NaN</td>\n",
       "      <td>NaN</td>\n",
       "      <td>NaN</td>\n",
       "      <td>NaN</td>\n",
       "      <td>NaN</td>\n",
       "      <td>NaN</td>\n",
       "    </tr>\n",
       "    <tr>\n",
       "      <th>100511</th>\n",
       "      <td>NaN</td>\n",
       "      <td>NaN</td>\n",
       "      <td>NaN</td>\n",
       "      <td>NaN</td>\n",
       "      <td>NaN</td>\n",
       "      <td>NaN</td>\n",
       "      <td>NaN</td>\n",
       "      <td>NaN</td>\n",
       "      <td>NaN</td>\n",
       "      <td>NaN</td>\n",
       "      <td>NaN</td>\n",
       "      <td>NaN</td>\n",
       "      <td>NaN</td>\n",
       "      <td>NaN</td>\n",
       "      <td>NaN</td>\n",
       "      <td>NaN</td>\n",
       "      <td>NaN</td>\n",
       "      <td>NaN</td>\n",
       "      <td>NaN</td>\n",
       "    </tr>\n",
       "    <tr>\n",
       "      <th>100512</th>\n",
       "      <td>NaN</td>\n",
       "      <td>NaN</td>\n",
       "      <td>NaN</td>\n",
       "      <td>NaN</td>\n",
       "      <td>NaN</td>\n",
       "      <td>NaN</td>\n",
       "      <td>NaN</td>\n",
       "      <td>NaN</td>\n",
       "      <td>NaN</td>\n",
       "      <td>NaN</td>\n",
       "      <td>NaN</td>\n",
       "      <td>NaN</td>\n",
       "      <td>NaN</td>\n",
       "      <td>NaN</td>\n",
       "      <td>NaN</td>\n",
       "      <td>NaN</td>\n",
       "      <td>NaN</td>\n",
       "      <td>NaN</td>\n",
       "      <td>NaN</td>\n",
       "    </tr>\n",
       "    <tr>\n",
       "      <th>100513</th>\n",
       "      <td>NaN</td>\n",
       "      <td>NaN</td>\n",
       "      <td>NaN</td>\n",
       "      <td>NaN</td>\n",
       "      <td>NaN</td>\n",
       "      <td>NaN</td>\n",
       "      <td>NaN</td>\n",
       "      <td>NaN</td>\n",
       "      <td>NaN</td>\n",
       "      <td>NaN</td>\n",
       "      <td>NaN</td>\n",
       "      <td>NaN</td>\n",
       "      <td>NaN</td>\n",
       "      <td>NaN</td>\n",
       "      <td>NaN</td>\n",
       "      <td>NaN</td>\n",
       "      <td>NaN</td>\n",
       "      <td>NaN</td>\n",
       "      <td>NaN</td>\n",
       "    </tr>\n",
       "  </tbody>\n",
       "</table>\n",
       "</div>"
      ],
      "text/plain": [
       "       Loan_ID Customer_ID  Loan_Status  Current_Loan_Amount Term  \\\n",
       "100509     NaN         NaN          NaN                  NaN  NaN   \n",
       "100510     NaN         NaN          NaN                  NaN  NaN   \n",
       "100511     NaN         NaN          NaN                  NaN  NaN   \n",
       "100512     NaN         NaN          NaN                  NaN  NaN   \n",
       "100513     NaN         NaN          NaN                  NaN  NaN   \n",
       "\n",
       "        Credit_Score  Annual_Income Years_in_current_job Home_Ownership  \\\n",
       "100509           NaN            NaN                  NaN            NaN   \n",
       "100510           NaN            NaN                  NaN            NaN   \n",
       "100511           NaN            NaN                  NaN            NaN   \n",
       "100512           NaN            NaN                  NaN            NaN   \n",
       "100513           NaN            NaN                  NaN            NaN   \n",
       "\n",
       "       Purpose  Monthly_Debt  Years_of_Credit_History  \\\n",
       "100509     NaN           NaN                      NaN   \n",
       "100510     NaN           NaN                      NaN   \n",
       "100511     NaN           NaN                      NaN   \n",
       "100512     NaN           NaN                      NaN   \n",
       "100513     NaN           NaN                      NaN   \n",
       "\n",
       "        Months_since_last_delinquent  Number_of_Open_Accounts  \\\n",
       "100509                           NaN                      NaN   \n",
       "100510                           NaN                      NaN   \n",
       "100511                           NaN                      NaN   \n",
       "100512                           NaN                      NaN   \n",
       "100513                           NaN                      NaN   \n",
       "\n",
       "        Number_of_Credit_Problems  Current_Credit_Balance  \\\n",
       "100509                        NaN                     NaN   \n",
       "100510                        NaN                     NaN   \n",
       "100511                        NaN                     NaN   \n",
       "100512                        NaN                     NaN   \n",
       "100513                        NaN                     NaN   \n",
       "\n",
       "        Maximum_Open_Credit  Bankruptcies  Tax_Liens  \n",
       "100509                  NaN           NaN        NaN  \n",
       "100510                  NaN           NaN        NaN  \n",
       "100511                  NaN           NaN        NaN  \n",
       "100512                  NaN           NaN        NaN  \n",
       "100513                  NaN           NaN        NaN  "
      ]
     },
     "execution_count": 13,
     "metadata": {},
     "output_type": "execute_result"
    }
   ],
   "source": [
    "null_Loan_ID.tail(5)"
   ]
  },
  {
   "cell_type": "markdown",
   "metadata": {},
   "source": [
    "As shown above, where Loan_ID is null, the values of the rest of the columns are all nulls as well. We will just drop these rows as these will not be relevant in training the model."
   ]
  },
  {
   "cell_type": "markdown",
   "metadata": {},
   "source": [
    "### Cleaning Data Set."
   ]
  },
  {
   "cell_type": "markdown",
   "metadata": {},
   "source": [
    "Drop the rows with null values such Loan_ID, Customer_ID etc"
   ]
  },
  {
   "cell_type": "code",
   "execution_count": 14,
   "metadata": {},
   "outputs": [],
   "source": [
    "dfLoan = df_train[df_train['Loan_ID'].notnull()]"
   ]
  },
  {
   "cell_type": "code",
   "execution_count": 15,
   "metadata": {},
   "outputs": [
    {
     "data": {
      "text/plain": [
       "0"
      ]
     },
     "execution_count": 15,
     "metadata": {},
     "output_type": "execute_result"
    }
   ],
   "source": [
    "#check if there are rows where Loan_ID is null\n",
    "dfLoan.Loan_ID.isnull().sum()"
   ]
  },
  {
   "cell_type": "code",
   "execution_count": 16,
   "metadata": {},
   "outputs": [
    {
     "data": {
      "text/html": [
       "<div>\n",
       "<style scoped>\n",
       "    .dataframe tbody tr th:only-of-type {\n",
       "        vertical-align: middle;\n",
       "    }\n",
       "\n",
       "    .dataframe tbody tr th {\n",
       "        vertical-align: top;\n",
       "    }\n",
       "\n",
       "    .dataframe thead th {\n",
       "        text-align: right;\n",
       "    }\n",
       "</style>\n",
       "<table border=\"1\" class=\"dataframe\">\n",
       "  <thead>\n",
       "    <tr style=\"text-align: right;\">\n",
       "      <th></th>\n",
       "      <th>Loan_Status</th>\n",
       "      <th>Current_Loan_Amount</th>\n",
       "      <th>Credit_Score</th>\n",
       "      <th>Annual_Income</th>\n",
       "      <th>Monthly_Debt</th>\n",
       "      <th>Years_of_Credit_History</th>\n",
       "      <th>Months_since_last_delinquent</th>\n",
       "      <th>Number_of_Open_Accounts</th>\n",
       "      <th>Number_of_Credit_Problems</th>\n",
       "      <th>Current_Credit_Balance</th>\n",
       "      <th>Maximum_Open_Credit</th>\n",
       "      <th>Bankruptcies</th>\n",
       "      <th>Tax_Liens</th>\n",
       "    </tr>\n",
       "  </thead>\n",
       "  <tbody>\n",
       "    <tr>\n",
       "      <th>count</th>\n",
       "      <td>100000.000000</td>\n",
       "      <td>1.000000e+05</td>\n",
       "      <td>80846.000000</td>\n",
       "      <td>8.084600e+04</td>\n",
       "      <td>100000.000000</td>\n",
       "      <td>100000.000000</td>\n",
       "      <td>46859.000000</td>\n",
       "      <td>100000.00000</td>\n",
       "      <td>100000.000000</td>\n",
       "      <td>1.000000e+05</td>\n",
       "      <td>9.999800e+04</td>\n",
       "      <td>99796.000000</td>\n",
       "      <td>99990.000000</td>\n",
       "    </tr>\n",
       "    <tr>\n",
       "      <th>mean</th>\n",
       "      <td>0.773610</td>\n",
       "      <td>1.176045e+07</td>\n",
       "      <td>1076.456089</td>\n",
       "      <td>1.378277e+06</td>\n",
       "      <td>18472.412336</td>\n",
       "      <td>18.199141</td>\n",
       "      <td>34.901321</td>\n",
       "      <td>11.12853</td>\n",
       "      <td>0.168310</td>\n",
       "      <td>2.946374e+05</td>\n",
       "      <td>7.607984e+05</td>\n",
       "      <td>0.117740</td>\n",
       "      <td>0.029313</td>\n",
       "    </tr>\n",
       "    <tr>\n",
       "      <th>std</th>\n",
       "      <td>0.418496</td>\n",
       "      <td>3.178394e+07</td>\n",
       "      <td>1475.403791</td>\n",
       "      <td>1.081360e+06</td>\n",
       "      <td>12174.992609</td>\n",
       "      <td>7.015324</td>\n",
       "      <td>21.997829</td>\n",
       "      <td>5.00987</td>\n",
       "      <td>0.482705</td>\n",
       "      <td>3.761709e+05</td>\n",
       "      <td>8.384503e+06</td>\n",
       "      <td>0.351424</td>\n",
       "      <td>0.258182</td>\n",
       "    </tr>\n",
       "    <tr>\n",
       "      <th>min</th>\n",
       "      <td>0.000000</td>\n",
       "      <td>1.080200e+04</td>\n",
       "      <td>585.000000</td>\n",
       "      <td>7.662700e+04</td>\n",
       "      <td>0.000000</td>\n",
       "      <td>3.600000</td>\n",
       "      <td>0.000000</td>\n",
       "      <td>0.00000</td>\n",
       "      <td>0.000000</td>\n",
       "      <td>0.000000e+00</td>\n",
       "      <td>0.000000e+00</td>\n",
       "      <td>0.000000</td>\n",
       "      <td>0.000000</td>\n",
       "    </tr>\n",
       "    <tr>\n",
       "      <th>25%</th>\n",
       "      <td>1.000000</td>\n",
       "      <td>1.796520e+05</td>\n",
       "      <td>705.000000</td>\n",
       "      <td>8.488440e+05</td>\n",
       "      <td>10214.162500</td>\n",
       "      <td>13.500000</td>\n",
       "      <td>16.000000</td>\n",
       "      <td>8.00000</td>\n",
       "      <td>0.000000</td>\n",
       "      <td>1.126700e+05</td>\n",
       "      <td>2.734380e+05</td>\n",
       "      <td>0.000000</td>\n",
       "      <td>0.000000</td>\n",
       "    </tr>\n",
       "    <tr>\n",
       "      <th>50%</th>\n",
       "      <td>1.000000</td>\n",
       "      <td>3.122460e+05</td>\n",
       "      <td>724.000000</td>\n",
       "      <td>1.174162e+06</td>\n",
       "      <td>16220.300000</td>\n",
       "      <td>16.900000</td>\n",
       "      <td>32.000000</td>\n",
       "      <td>10.00000</td>\n",
       "      <td>0.000000</td>\n",
       "      <td>2.098170e+05</td>\n",
       "      <td>4.678740e+05</td>\n",
       "      <td>0.000000</td>\n",
       "      <td>0.000000</td>\n",
       "    </tr>\n",
       "    <tr>\n",
       "      <th>75%</th>\n",
       "      <td>1.000000</td>\n",
       "      <td>5.249420e+05</td>\n",
       "      <td>741.000000</td>\n",
       "      <td>1.650663e+06</td>\n",
       "      <td>24012.057500</td>\n",
       "      <td>21.700000</td>\n",
       "      <td>51.000000</td>\n",
       "      <td>14.00000</td>\n",
       "      <td>0.000000</td>\n",
       "      <td>3.679588e+05</td>\n",
       "      <td>7.829580e+05</td>\n",
       "      <td>0.000000</td>\n",
       "      <td>0.000000</td>\n",
       "    </tr>\n",
       "    <tr>\n",
       "      <th>max</th>\n",
       "      <td>1.000000</td>\n",
       "      <td>1.000000e+08</td>\n",
       "      <td>7510.000000</td>\n",
       "      <td>1.655574e+08</td>\n",
       "      <td>435843.280000</td>\n",
       "      <td>70.500000</td>\n",
       "      <td>176.000000</td>\n",
       "      <td>76.00000</td>\n",
       "      <td>15.000000</td>\n",
       "      <td>3.287897e+07</td>\n",
       "      <td>1.539738e+09</td>\n",
       "      <td>7.000000</td>\n",
       "      <td>15.000000</td>\n",
       "    </tr>\n",
       "  </tbody>\n",
       "</table>\n",
       "</div>"
      ],
      "text/plain": [
       "         Loan_Status  Current_Loan_Amount  Credit_Score  Annual_Income  \\\n",
       "count  100000.000000         1.000000e+05  80846.000000   8.084600e+04   \n",
       "mean        0.773610         1.176045e+07   1076.456089   1.378277e+06   \n",
       "std         0.418496         3.178394e+07   1475.403791   1.081360e+06   \n",
       "min         0.000000         1.080200e+04    585.000000   7.662700e+04   \n",
       "25%         1.000000         1.796520e+05    705.000000   8.488440e+05   \n",
       "50%         1.000000         3.122460e+05    724.000000   1.174162e+06   \n",
       "75%         1.000000         5.249420e+05    741.000000   1.650663e+06   \n",
       "max         1.000000         1.000000e+08   7510.000000   1.655574e+08   \n",
       "\n",
       "        Monthly_Debt  Years_of_Credit_History  Months_since_last_delinquent  \\\n",
       "count  100000.000000            100000.000000                  46859.000000   \n",
       "mean    18472.412336                18.199141                     34.901321   \n",
       "std     12174.992609                 7.015324                     21.997829   \n",
       "min         0.000000                 3.600000                      0.000000   \n",
       "25%     10214.162500                13.500000                     16.000000   \n",
       "50%     16220.300000                16.900000                     32.000000   \n",
       "75%     24012.057500                21.700000                     51.000000   \n",
       "max    435843.280000                70.500000                    176.000000   \n",
       "\n",
       "       Number_of_Open_Accounts  Number_of_Credit_Problems  \\\n",
       "count             100000.00000              100000.000000   \n",
       "mean                  11.12853                   0.168310   \n",
       "std                    5.00987                   0.482705   \n",
       "min                    0.00000                   0.000000   \n",
       "25%                    8.00000                   0.000000   \n",
       "50%                   10.00000                   0.000000   \n",
       "75%                   14.00000                   0.000000   \n",
       "max                   76.00000                  15.000000   \n",
       "\n",
       "       Current_Credit_Balance  Maximum_Open_Credit  Bankruptcies     Tax_Liens  \n",
       "count            1.000000e+05         9.999800e+04  99796.000000  99990.000000  \n",
       "mean             2.946374e+05         7.607984e+05      0.117740      0.029313  \n",
       "std              3.761709e+05         8.384503e+06      0.351424      0.258182  \n",
       "min              0.000000e+00         0.000000e+00      0.000000      0.000000  \n",
       "25%              1.126700e+05         2.734380e+05      0.000000      0.000000  \n",
       "50%              2.098170e+05         4.678740e+05      0.000000      0.000000  \n",
       "75%              3.679588e+05         7.829580e+05      0.000000      0.000000  \n",
       "max              3.287897e+07         1.539738e+09      7.000000     15.000000  "
      ]
     },
     "execution_count": 16,
     "metadata": {},
     "output_type": "execute_result"
    }
   ],
   "source": [
    "dfLoan.describe()"
   ]
  },
  {
   "cell_type": "code",
   "execution_count": 17,
   "metadata": {},
   "outputs": [
    {
     "data": {
      "text/plain": [
       "Loan_ID                             0\n",
       "Customer_ID                         0\n",
       "Loan_Status                         0\n",
       "Current_Loan_Amount                 0\n",
       "Term                                0\n",
       "Credit_Score                    19154\n",
       "Annual_Income                   19154\n",
       "Years_in_current_job             4222\n",
       "Home_Ownership                      0\n",
       "Purpose                             0\n",
       "Monthly_Debt                        0\n",
       "Years_of_Credit_History             0\n",
       "Months_since_last_delinquent    53141\n",
       "Number_of_Open_Accounts             0\n",
       "Number_of_Credit_Problems           0\n",
       "Current_Credit_Balance              0\n",
       "Maximum_Open_Credit                 2\n",
       "Bankruptcies                      204\n",
       "Tax_Liens                          10\n",
       "dtype: int64"
      ]
     },
     "execution_count": 17,
     "metadata": {},
     "output_type": "execute_result"
    }
   ],
   "source": [
    "dfLoan.isnull().sum()"
   ]
  },
  {
   "cell_type": "code",
   "execution_count": 18,
   "metadata": {},
   "outputs": [
    {
     "data": {
      "text/plain": [
       "Index(['Loan_ID', 'Customer_ID', 'Loan_Status', 'Current_Loan_Amount', 'Term',\n",
       "       'Credit_Score', 'Annual_Income', 'Years_in_current_job',\n",
       "       'Home_Ownership', 'Purpose', 'Monthly_Debt', 'Years_of_Credit_History',\n",
       "       'Months_since_last_delinquent', 'Number_of_Open_Accounts',\n",
       "       'Number_of_Credit_Problems', 'Current_Credit_Balance',\n",
       "       'Maximum_Open_Credit', 'Bankruptcies', 'Tax_Liens'],\n",
       "      dtype='object')"
      ]
     },
     "execution_count": 18,
     "metadata": {},
     "output_type": "execute_result"
    }
   ],
   "source": [
    "dfLoan.columns"
   ]
  },
  {
   "cell_type": "code",
   "execution_count": 19,
   "metadata": {},
   "outputs": [],
   "source": [
    "# Dropping the column \"Months since last delinquent\" since null values is as at 53% and \n",
    "# dropping columns that are not needed or relevant.\n",
    "\n",
    "dfLoan = dfLoan.drop(['Months_since_last_delinquent','Loan_ID', 'Customer_ID'], axis=1)\n"
   ]
  },
  {
   "cell_type": "code",
   "execution_count": 20,
   "metadata": {},
   "outputs": [
    {
     "data": {
      "text/plain": [
       "Index(['Loan_Status', 'Current_Loan_Amount', 'Term', 'Credit_Score',\n",
       "       'Annual_Income', 'Years_in_current_job', 'Home_Ownership', 'Purpose',\n",
       "       'Monthly_Debt', 'Years_of_Credit_History', 'Number_of_Open_Accounts',\n",
       "       'Number_of_Credit_Problems', 'Current_Credit_Balance',\n",
       "       'Maximum_Open_Credit', 'Bankruptcies', 'Tax_Liens'],\n",
       "      dtype='object')"
      ]
     },
     "execution_count": 20,
     "metadata": {},
     "output_type": "execute_result"
    }
   ],
   "source": [
    "dfLoan.columns"
   ]
  },
  {
   "cell_type": "code",
   "execution_count": 21,
   "metadata": {},
   "outputs": [
    {
     "data": {
      "text/plain": [
       "array(['8 years', '10+ years', '3 years', '5 years', '< 1 year',\n",
       "       '2 years', '4 years', '9 years', '7 years', '1 year', nan,\n",
       "       '6 years'], dtype=object)"
      ]
     },
     "execution_count": 21,
     "metadata": {},
     "output_type": "execute_result"
    }
   ],
   "source": [
    "dfLoan[\"Years_in_current_job\"].unique()\n",
    "\n",
    "# Below values should be converted to the number of years in integer format alone without the 'years' word."
   ]
  },
  {
   "cell_type": "code",
   "execution_count": 22,
   "metadata": {},
   "outputs": [],
   "source": [
    "dfLoan['Years_in_current_job'] = dfLoan['Years_in_current_job'].map({'< 1 year':0.5,'2 years':2,'3 years':3,'4 years':4,'5 years':5,\n",
    "'6 years':6, '7 years':7,'8 years':8,'9 years':9, '10+ years':15})\n",
    "\n",
    "\n",
    "# Assigned less than 1 year to 0.5 and 10 plus years to 15 years to simplify assumption."
   ]
  },
  {
   "cell_type": "code",
   "execution_count": 23,
   "metadata": {},
   "outputs": [
    {
     "data": {
      "text/plain": [
       "array([ 8. , 15. ,  3. ,  5. ,  0.5,  2. ,  4. ,  9. ,  7. ,  nan,  6. ])"
      ]
     },
     "execution_count": 23,
     "metadata": {},
     "output_type": "execute_result"
    }
   ],
   "source": [
    "dfLoan.Years_in_current_job.unique()"
   ]
  },
  {
   "cell_type": "code",
   "execution_count": 24,
   "metadata": {},
   "outputs": [
    {
     "data": {
      "text/plain": [
       "<matplotlib.axes._subplots.AxesSubplot at 0x221fa052d68>"
      ]
     },
     "execution_count": 24,
     "metadata": {},
     "output_type": "execute_result"
    },
    {
     "data": {
      "image/png": "[encoded data removed]",
      "text/plain": [
       "<Figure size 432x288 with 1 Axes>"
      ]
     },
     "metadata": {
      "needs_background": "light"
     },
     "output_type": "display_data"
    }
   ],
   "source": [
    "sns.countplot(x=\"Years_in_current_job\", hue=\"Loan_Status\", data=dfLoan)"
   ]
  },
  {
   "cell_type": "code",
   "execution_count": 25,
   "metadata": {},
   "outputs": [
    {
     "data": {
      "text/plain": [
       "array(['Home Mortgage', 'Own Home', 'Rent', 'HaveMortgage'], dtype=object)"
      ]
     },
     "execution_count": 25,
     "metadata": {},
     "output_type": "execute_result"
    }
   ],
   "source": [
    "dfLoan[\"Home_Ownership\"].unique()"
   ]
  },
  {
   "cell_type": "code",
   "execution_count": 26,
   "metadata": {},
   "outputs": [
    {
     "data": {
      "text/plain": [
       "<matplotlib.axes._subplots.AxesSubplot at 0x22180c29828>"
      ]
     },
     "execution_count": 26,
     "metadata": {},
     "output_type": "execute_result"
    },
    {
     "data": {
      "image/png": "[encoded data removed]",
      "text/plain": [
       "<Figure size 432x288 with 1 Axes>"
      ]
     },
     "metadata": {
      "needs_background": "light"
     },
     "output_type": "display_data"
    }
   ],
   "source": [
    "sns.countplot(x=\"Home_Ownership\", hue=\"Loan_Status\", data=dfLoan)\n",
    "#Home mortgage has the most number of Fully Paid loan status."
   ]
  },
  {
   "cell_type": "code",
   "execution_count": 27,
   "metadata": {},
   "outputs": [
    {
     "data": {
      "text/plain": [
       "<matplotlib.axes._subplots.AxesSubplot at 0x22180f26d30>"
      ]
     },
     "execution_count": 27,
     "metadata": {},
     "output_type": "execute_result"
    },
    {
     "data": {
      "image/png": "[encoded data removed]",
      "text/plain": [
       "<Figure size 432x288 with 1 Axes>"
      ]
     },
     "metadata": {
      "needs_background": "light"
     },
     "output_type": "display_data"
    }
   ],
   "source": [
    "sns.countplot(x=\"Term\", hue=\"Loan_Status\", data=dfLoan)\n",
    "#Short Term has the most number of loan duration."
   ]
  },
  {
   "cell_type": "code",
   "execution_count": 28,
   "metadata": {},
   "outputs": [
    {
     "data": {
      "image/png": "[encoded data removed]",
      "text/plain": [
       "<Figure size 432x288 with 1 Axes>"
      ]
     },
     "metadata": {
      "needs_background": "light"
     },
     "output_type": "display_data"
    }
   ],
   "source": [
    "sns.countplot(data=dfLoan, x='Purpose', hue=\"Loan_Status\")\n",
    "plt.xticks(rotation=90)\n",
    "plt.show()"
   ]
  },
  {
   "cell_type": "code",
   "execution_count": 29,
   "metadata": {},
   "outputs": [
    {
     "data": {
      "text/plain": [
       "<matplotlib.axes._subplots.AxesSubplot at 0x22181053ba8>"
      ]
     },
     "execution_count": 29,
     "metadata": {},
     "output_type": "execute_result"
    },
    {
     "data": {
      "image/png": "[encoded data removed]",
      "text/plain": [
       "<Figure size 432x288 with 1 Axes>"
      ]
     },
     "metadata": {
      "needs_background": "light"
     },
     "output_type": "display_data"
    }
   ],
   "source": [
    "sns.countplot(x=\"Bankruptcies\", hue=\"Loan_Status\", data=dfLoan)"
   ]
  },
  {
   "cell_type": "code",
   "execution_count": 30,
   "metadata": {
    "scrolled": true
   },
   "outputs": [
    {
     "data": {
      "text/plain": [
       "array([ 0.,  1.,  2.,  4.,  3.,  6.,  5., nan, 11., 15.,  9.,  7., 10.])"
      ]
     },
     "execution_count": 30,
     "metadata": {},
     "output_type": "execute_result"
    }
   ],
   "source": [
    "dfLoan[\"Tax_Liens\"].unique()"
   ]
  },
  {
   "cell_type": "code",
   "execution_count": 31,
   "metadata": {},
   "outputs": [
    {
     "data": {
      "text/plain": [
       "<matplotlib.axes._subplots.AxesSubplot at 0x22180f943c8>"
      ]
     },
     "execution_count": 31,
     "metadata": {},
     "output_type": "execute_result"
    },
    {
     "data": {
      "image/png": "[encoded data removed]",
      "text/plain": [
       "<Figure size 432x288 with 1 Axes>"
      ]
     },
     "metadata": {
      "needs_background": "light"
     },
     "output_type": "display_data"
    }
   ],
   "source": [
    "sns.countplot(x=\"Tax_Liens\", hue=\"Loan_Status\", data=dfLoan)"
   ]
  },
  {
   "cell_type": "code",
   "execution_count": 32,
   "metadata": {},
   "outputs": [
    {
     "data": {
      "text/plain": [
       "<matplotlib.axes._subplots.AxesSubplot at 0x221810deda0>"
      ]
     },
     "execution_count": 32,
     "metadata": {},
     "output_type": "execute_result"
    },
    {
     "data": {
      "image/png": "[encoded data removed]",
      "text/plain": [
       "<Figure size 432x288 with 1 Axes>"
      ]
     },
     "metadata": {
      "needs_background": "light"
     },
     "output_type": "display_data"
    }
   ],
   "source": [
    "sns.countplot(x=\"Loan_Status\", hue=\"Loan_Status\", data=dfLoan)"
   ]
  },
  {
   "cell_type": "code",
   "execution_count": 33,
   "metadata": {},
   "outputs": [
    {
     "data": {
      "text/plain": [
       "76627.0"
      ]
     },
     "execution_count": 33,
     "metadata": {},
     "output_type": "execute_result"
    }
   ],
   "source": [
    "dfLoan[\"Annual_Income\"].min()"
   ]
  },
  {
   "cell_type": "code",
   "execution_count": 34,
   "metadata": {},
   "outputs": [
    {
     "data": {
      "text/plain": [
       "165557393.0"
      ]
     },
     "execution_count": 34,
     "metadata": {},
     "output_type": "execute_result"
    }
   ],
   "source": [
    "dfLoan[\"Annual_Income\"].max()"
   ]
  },
  {
   "cell_type": "code",
   "execution_count": 35,
   "metadata": {},
   "outputs": [
    {
     "data": {
      "text/plain": [
       "<matplotlib.axes._subplots.AxesSubplot at 0x221811675f8>"
      ]
     },
     "execution_count": 35,
     "metadata": {},
     "output_type": "execute_result"
    },
    {
     "data": {
      "image/png": "[encoded data removed]",
      "text/plain": [
       "<Figure size 432x288 with 1 Axes>"
      ]
     },
     "metadata": {
      "needs_background": "light"
     },
     "output_type": "display_data"
    }
   ],
   "source": [
    "Annual_Income =  pd.cut(dfLoan[\"Annual_Income\"], np.arange(0,17000000,1000000))\n",
    "\n",
    "AI_Grouping = dfLoan.groupby(Annual_Income).mean()\n",
    "plt.title(\"Loan Status by Annual Income\")\n",
    "AI_Grouping[\"Loan_Status\"].plot.bar()"
   ]
  },
  {
   "cell_type": "markdown",
   "metadata": {},
   "source": [
    "### Cleaning credit score\n",
    "<pre>For a score with a range between 300-850, a credit score of 700 or above is generally considered good. \n",
    "A score of 800 or above on the same range is considered to be excellent. Most credit scores fall between 600 and 750.</pre>\n",
    "\n",
    "\n",
    "source: https://www.experian.com/blogs/ask-experian/credit-education/score-basics/what-is-a-good-credit-score/\n"
   ]
  },
  {
   "cell_type": "markdown",
   "metadata": {},
   "source": [
    "Note that credit score attribute based from the data has values above 850 and seems that zero were added at the end, so we\n",
    " will need to remove the zeo for credit score above 850 by dividing credit score by 10\n",
    " dfLoan[\"Credit Score\",\">850\"]\n",
    " "
   ]
  },
  {
   "cell_type": "code",
   "execution_count": 36,
   "metadata": {},
   "outputs": [],
   "source": [
    "dfLoan['Credit_Score'] = dfLoan['Credit_Score'].apply(lambda val: (val /10) if val>850 else val)"
   ]
  },
  {
   "cell_type": "code",
   "execution_count": 37,
   "metadata": {
    "scrolled": true
   },
   "outputs": [
    {
     "data": {
      "text/plain": [
       "array([709.,  nan, 741., 721., 729., 730., 678., 739., 728., 740., 743.,\n",
       "       727., 723., 747., 687., 750., 714., 724., 704., 688., 749., 746.,\n",
       "       737., 733., 725., 745., 720., 718., 682., 712., 680., 710., 598.,\n",
       "       719., 661., 652., 736., 738., 644., 672., 699., 751., 694., 675.,\n",
       "       657., 748., 666., 734., 742., 705., 731., 624., 685., 717., 722.,\n",
       "       618., 676., 692., 732., 649., 695., 744., 686., 637., 697., 706.,\n",
       "       715., 707., 726., 716., 702., 651., 708., 698., 689., 735., 703.,\n",
       "       693., 645., 691., 673., 700., 658., 674., 654., 681., 696., 713.,\n",
       "       668., 659., 647., 683., 670., 623., 711., 639., 671., 614., 667.,\n",
       "       701., 615., 656., 653., 664., 613., 636., 594., 646., 669., 612.,\n",
       "       690., 641., 665., 677., 684., 655., 630., 663., 638., 596., 660.,\n",
       "       679., 609., 603., 643., 633., 586., 629., 648., 640., 625., 635.,\n",
       "       662., 627., 611., 604., 642., 621., 632., 602., 616., 600., 650.,\n",
       "       597., 622., 610., 619., 628., 599., 606., 608., 620., 626., 605.,\n",
       "       631., 589., 607., 590., 634., 587., 588., 591., 617., 601., 595.,\n",
       "       585., 592., 593.])"
      ]
     },
     "execution_count": 37,
     "metadata": {},
     "output_type": "execute_result"
    }
   ],
   "source": [
    "dfLoan['Credit_Score'].unique()\n",
    "#Now Credit Score above 850 is now normalized."
   ]
  },
  {
   "cell_type": "code",
   "execution_count": 38,
   "metadata": {},
   "outputs": [],
   "source": [
    "#Fill the null Credit Score with the mean credit score\n",
    "dfLoan[\"Credit_Score\"] = dfLoan[\"Credit_Score\"].fillna(dfLoan[\"Credit_Score\"].mean())"
   ]
  },
  {
   "cell_type": "code",
   "execution_count": 39,
   "metadata": {},
   "outputs": [
    {
     "data": {
      "text/plain": [
       "0"
      ]
     },
     "execution_count": 39,
     "metadata": {},
     "output_type": "execute_result"
    }
   ],
   "source": [
    "#check if there are rows where Loan_ID is null\n",
    "dfLoan.Credit_Score.isnull().sum()"
   ]
  },
  {
   "cell_type": "code",
   "execution_count": 40,
   "metadata": {},
   "outputs": [],
   "source": [
    "dfLoan['Credit_Score'] = dfLoan['Credit_Score'].apply(lambda val: \"Poor\" if np.isreal(val) and val < 580 else val)\n",
    "dfLoan['Credit_Score'] = dfLoan['Credit_Score'].apply(lambda val: \"Average\" if np.isreal(val) and (val >= 580 and val < 670) else val)\n",
    "dfLoan['Credit_Score'] = dfLoan['Credit_Score'].apply(lambda val: \"Good\" if np.isreal(val) and (val >= 670 and val < 740) else val)\n",
    "dfLoan['Credit_Score'] = dfLoan['Credit_Score'].apply(lambda val: \"Very Good\" if np.isreal(val) and (val >= 740 and val < 800) else val)\n",
    "dfLoan['Credit_Score'] = dfLoan['Credit_Score'].apply(lambda val: \"Exceptional\" if np.isreal(val) and (val >= 800 and val <= 850) else val)"
   ]
  },
  {
   "cell_type": "code",
   "execution_count": 41,
   "metadata": {},
   "outputs": [
    {
     "data": {
      "text/plain": [
       "<matplotlib.axes._subplots.AxesSubplot at 0x2218009df60>"
      ]
     },
     "execution_count": 41,
     "metadata": {},
     "output_type": "execute_result"
    },
    {
     "data": {
      "image/png": "[encoded data removed]",
      "text/plain": [
       "<Figure size 432x288 with 1 Axes>"
      ]
     },
     "metadata": {
      "needs_background": "light"
     },
     "output_type": "display_data"
    }
   ],
   "source": [
    "sns.countplot(x=\"Credit_Score\", hue=\"Loan_Status\", data=dfLoan)"
   ]
  },
  {
   "cell_type": "code",
   "execution_count": 42,
   "metadata": {},
   "outputs": [
    {
     "data": {
      "text/plain": [
       "Loan_Status                      0\n",
       "Current_Loan_Amount              0\n",
       "Term                             0\n",
       "Credit_Score                     0\n",
       "Annual_Income                19154\n",
       "Years_in_current_job         10682\n",
       "Home_Ownership                   0\n",
       "Purpose                          0\n",
       "Monthly_Debt                     0\n",
       "Years_of_Credit_History          0\n",
       "Number_of_Open_Accounts          0\n",
       "Number_of_Credit_Problems        0\n",
       "Current_Credit_Balance           0\n",
       "Maximum_Open_Credit              2\n",
       "Bankruptcies                   204\n",
       "Tax_Liens                       10\n",
       "dtype: int64"
      ]
     },
     "execution_count": 42,
     "metadata": {},
     "output_type": "execute_result"
    }
   ],
   "source": [
    "dfLoan.isnull().sum()"
   ]
  },
  {
   "cell_type": "code",
   "execution_count": 43,
   "metadata": {},
   "outputs": [],
   "source": [
    "null_YrsCurJob = dfLoan[dfLoan['Years_in_current_job'].isna()]"
   ]
  },
  {
   "cell_type": "code",
   "execution_count": 44,
   "metadata": {},
   "outputs": [
    {
     "data": {
      "text/html": [
       "<div>\n",
       "<style scoped>\n",
       "    .dataframe tbody tr th:only-of-type {\n",
       "        vertical-align: middle;\n",
       "    }\n",
       "\n",
       "    .dataframe tbody tr th {\n",
       "        vertical-align: top;\n",
       "    }\n",
       "\n",
       "    .dataframe thead th {\n",
       "        text-align: right;\n",
       "    }\n",
       "</style>\n",
       "<table border=\"1\" class=\"dataframe\">\n",
       "  <thead>\n",
       "    <tr style=\"text-align: right;\">\n",
       "      <th></th>\n",
       "      <th>Loan_Status</th>\n",
       "      <th>Current_Loan_Amount</th>\n",
       "      <th>Term</th>\n",
       "      <th>Credit_Score</th>\n",
       "      <th>Annual_Income</th>\n",
       "      <th>Years_in_current_job</th>\n",
       "      <th>Home_Ownership</th>\n",
       "      <th>Purpose</th>\n",
       "      <th>Monthly_Debt</th>\n",
       "      <th>Years_of_Credit_History</th>\n",
       "      <th>Number_of_Open_Accounts</th>\n",
       "      <th>Number_of_Credit_Problems</th>\n",
       "      <th>Current_Credit_Balance</th>\n",
       "      <th>Maximum_Open_Credit</th>\n",
       "      <th>Bankruptcies</th>\n",
       "      <th>Tax_Liens</th>\n",
       "    </tr>\n",
       "  </thead>\n",
       "  <tbody>\n",
       "    <tr>\n",
       "      <th>26</th>\n",
       "      <td>1.0</td>\n",
       "      <td>99999999.0</td>\n",
       "      <td>Short Term</td>\n",
       "      <td>Good</td>\n",
       "      <td>1029857.0</td>\n",
       "      <td>NaN</td>\n",
       "      <td>Rent</td>\n",
       "      <td>Debt Consolidation</td>\n",
       "      <td>13817.18</td>\n",
       "      <td>12.0</td>\n",
       "      <td>6.0</td>\n",
       "      <td>0.0</td>\n",
       "      <td>138339.0</td>\n",
       "      <td>221232.0</td>\n",
       "      <td>0.0</td>\n",
       "      <td>0.0</td>\n",
       "    </tr>\n",
       "    <tr>\n",
       "      <th>29</th>\n",
       "      <td>1.0</td>\n",
       "      <td>107404.0</td>\n",
       "      <td>Short Term</td>\n",
       "      <td>Good</td>\n",
       "      <td>NaN</td>\n",
       "      <td>NaN</td>\n",
       "      <td>Home Mortgage</td>\n",
       "      <td>other</td>\n",
       "      <td>19238.07</td>\n",
       "      <td>43.7</td>\n",
       "      <td>5.0</td>\n",
       "      <td>0.0</td>\n",
       "      <td>28956.0</td>\n",
       "      <td>58014.0</td>\n",
       "      <td>0.0</td>\n",
       "      <td>0.0</td>\n",
       "    </tr>\n",
       "    <tr>\n",
       "      <th>45</th>\n",
       "      <td>1.0</td>\n",
       "      <td>266112.0</td>\n",
       "      <td>Short Term</td>\n",
       "      <td>Very Good</td>\n",
       "      <td>919296.0</td>\n",
       "      <td>NaN</td>\n",
       "      <td>Rent</td>\n",
       "      <td>Debt Consolidation</td>\n",
       "      <td>12946.79</td>\n",
       "      <td>21.6</td>\n",
       "      <td>9.0</td>\n",
       "      <td>0.0</td>\n",
       "      <td>266266.0</td>\n",
       "      <td>485518.0</td>\n",
       "      <td>0.0</td>\n",
       "      <td>0.0</td>\n",
       "    </tr>\n",
       "    <tr>\n",
       "      <th>73</th>\n",
       "      <td>1.0</td>\n",
       "      <td>311058.0</td>\n",
       "      <td>Long Term</td>\n",
       "      <td>Good</td>\n",
       "      <td>1343167.0</td>\n",
       "      <td>NaN</td>\n",
       "      <td>Home Mortgage</td>\n",
       "      <td>Debt Consolidation</td>\n",
       "      <td>21378.80</td>\n",
       "      <td>31.4</td>\n",
       "      <td>11.0</td>\n",
       "      <td>0.0</td>\n",
       "      <td>247912.0</td>\n",
       "      <td>541596.0</td>\n",
       "      <td>0.0</td>\n",
       "      <td>0.0</td>\n",
       "    </tr>\n",
       "    <tr>\n",
       "      <th>76</th>\n",
       "      <td>1.0</td>\n",
       "      <td>389884.0</td>\n",
       "      <td>Short Term</td>\n",
       "      <td>Average</td>\n",
       "      <td>4776125.0</td>\n",
       "      <td>NaN</td>\n",
       "      <td>Home Mortgage</td>\n",
       "      <td>Debt Consolidation</td>\n",
       "      <td>42985.22</td>\n",
       "      <td>21.5</td>\n",
       "      <td>14.0</td>\n",
       "      <td>1.0</td>\n",
       "      <td>237500.0</td>\n",
       "      <td>562386.0</td>\n",
       "      <td>1.0</td>\n",
       "      <td>0.0</td>\n",
       "    </tr>\n",
       "  </tbody>\n",
       "</table>\n",
       "</div>"
      ],
      "text/plain": [
       "    Loan_Status  Current_Loan_Amount        Term Credit_Score  Annual_Income  \\\n",
       "26          1.0           99999999.0  Short Term         Good      1029857.0   \n",
       "29          1.0             107404.0  Short Term         Good            NaN   \n",
       "45          1.0             266112.0  Short Term    Very Good       919296.0   \n",
       "73          1.0             311058.0   Long Term         Good      1343167.0   \n",
       "76          1.0             389884.0  Short Term      Average      4776125.0   \n",
       "\n",
       "    Years_in_current_job Home_Ownership             Purpose  Monthly_Debt  \\\n",
       "26                   NaN           Rent  Debt Consolidation      13817.18   \n",
       "29                   NaN  Home Mortgage               other      19238.07   \n",
       "45                   NaN           Rent  Debt Consolidation      12946.79   \n",
       "73                   NaN  Home Mortgage  Debt Consolidation      21378.80   \n",
       "76                   NaN  Home Mortgage  Debt Consolidation      42985.22   \n",
       "\n",
       "    Years_of_Credit_History  Number_of_Open_Accounts  \\\n",
       "26                     12.0                      6.0   \n",
       "29                     43.7                      5.0   \n",
       "45                     21.6                      9.0   \n",
       "73                     31.4                     11.0   \n",
       "76                     21.5                     14.0   \n",
       "\n",
       "    Number_of_Credit_Problems  Current_Credit_Balance  Maximum_Open_Credit  \\\n",
       "26                        0.0                138339.0             221232.0   \n",
       "29                        0.0                 28956.0              58014.0   \n",
       "45                        0.0                266266.0             485518.0   \n",
       "73                        0.0                247912.0             541596.0   \n",
       "76                        1.0                237500.0             562386.0   \n",
       "\n",
       "    Bankruptcies  Tax_Liens  \n",
       "26           0.0        0.0  \n",
       "29           0.0        0.0  \n",
       "45           0.0        0.0  \n",
       "73           0.0        0.0  \n",
       "76           1.0        0.0  "
      ]
     },
     "execution_count": 44,
     "metadata": {},
     "output_type": "execute_result"
    }
   ],
   "source": [
    "null_YrsCurJob.head(5)"
   ]
  },
  {
   "cell_type": "code",
   "execution_count": 45,
   "metadata": {},
   "outputs": [],
   "source": [
    "null_AnnualIncm = dfLoan[dfLoan['Annual_Income'].isna()]"
   ]
  },
  {
   "cell_type": "code",
   "execution_count": 46,
   "metadata": {},
   "outputs": [
    {
     "data": {
      "text/html": [
       "<div>\n",
       "<style scoped>\n",
       "    .dataframe tbody tr th:only-of-type {\n",
       "        vertical-align: middle;\n",
       "    }\n",
       "\n",
       "    .dataframe tbody tr th {\n",
       "        vertical-align: top;\n",
       "    }\n",
       "\n",
       "    .dataframe thead th {\n",
       "        text-align: right;\n",
       "    }\n",
       "</style>\n",
       "<table border=\"1\" class=\"dataframe\">\n",
       "  <thead>\n",
       "    <tr style=\"text-align: right;\">\n",
       "      <th></th>\n",
       "      <th>Loan_Status</th>\n",
       "      <th>Current_Loan_Amount</th>\n",
       "      <th>Term</th>\n",
       "      <th>Credit_Score</th>\n",
       "      <th>Annual_Income</th>\n",
       "      <th>Years_in_current_job</th>\n",
       "      <th>Home_Ownership</th>\n",
       "      <th>Purpose</th>\n",
       "      <th>Monthly_Debt</th>\n",
       "      <th>Years_of_Credit_History</th>\n",
       "      <th>Number_of_Open_Accounts</th>\n",
       "      <th>Number_of_Credit_Problems</th>\n",
       "      <th>Current_Credit_Balance</th>\n",
       "      <th>Maximum_Open_Credit</th>\n",
       "      <th>Bankruptcies</th>\n",
       "      <th>Tax_Liens</th>\n",
       "    </tr>\n",
       "  </thead>\n",
       "  <tbody>\n",
       "    <tr>\n",
       "      <th>1</th>\n",
       "      <td>1.0</td>\n",
       "      <td>262328.0</td>\n",
       "      <td>Short Term</td>\n",
       "      <td>Good</td>\n",
       "      <td>NaN</td>\n",
       "      <td>15.0</td>\n",
       "      <td>Home Mortgage</td>\n",
       "      <td>Debt Consolidation</td>\n",
       "      <td>33295.98</td>\n",
       "      <td>21.1</td>\n",
       "      <td>35.0</td>\n",
       "      <td>0.0</td>\n",
       "      <td>229976.0</td>\n",
       "      <td>850784.0</td>\n",
       "      <td>0.0</td>\n",
       "      <td>0.0</td>\n",
       "    </tr>\n",
       "    <tr>\n",
       "      <th>4</th>\n",
       "      <td>1.0</td>\n",
       "      <td>176220.0</td>\n",
       "      <td>Short Term</td>\n",
       "      <td>Good</td>\n",
       "      <td>NaN</td>\n",
       "      <td>5.0</td>\n",
       "      <td>Rent</td>\n",
       "      <td>Debt Consolidation</td>\n",
       "      <td>20639.70</td>\n",
       "      <td>6.1</td>\n",
       "      <td>15.0</td>\n",
       "      <td>0.0</td>\n",
       "      <td>253460.0</td>\n",
       "      <td>427174.0</td>\n",
       "      <td>0.0</td>\n",
       "      <td>0.0</td>\n",
       "    </tr>\n",
       "    <tr>\n",
       "      <th>7</th>\n",
       "      <td>0.0</td>\n",
       "      <td>648714.0</td>\n",
       "      <td>Long Term</td>\n",
       "      <td>Good</td>\n",
       "      <td>NaN</td>\n",
       "      <td>0.5</td>\n",
       "      <td>Home Mortgage</td>\n",
       "      <td>Buy House</td>\n",
       "      <td>14806.13</td>\n",
       "      <td>8.2</td>\n",
       "      <td>15.0</td>\n",
       "      <td>0.0</td>\n",
       "      <td>193306.0</td>\n",
       "      <td>864204.0</td>\n",
       "      <td>0.0</td>\n",
       "      <td>0.0</td>\n",
       "    </tr>\n",
       "    <tr>\n",
       "      <th>11</th>\n",
       "      <td>1.0</td>\n",
       "      <td>541970.0</td>\n",
       "      <td>Short Term</td>\n",
       "      <td>Good</td>\n",
       "      <td>NaN</td>\n",
       "      <td>15.0</td>\n",
       "      <td>Home Mortgage</td>\n",
       "      <td>Home Improvements</td>\n",
       "      <td>23568.55</td>\n",
       "      <td>23.2</td>\n",
       "      <td>23.0</td>\n",
       "      <td>0.0</td>\n",
       "      <td>60705.0</td>\n",
       "      <td>1634468.0</td>\n",
       "      <td>0.0</td>\n",
       "      <td>0.0</td>\n",
       "    </tr>\n",
       "    <tr>\n",
       "      <th>15</th>\n",
       "      <td>1.0</td>\n",
       "      <td>449020.0</td>\n",
       "      <td>Long Term</td>\n",
       "      <td>Good</td>\n",
       "      <td>NaN</td>\n",
       "      <td>9.0</td>\n",
       "      <td>Own Home</td>\n",
       "      <td>Debt Consolidation</td>\n",
       "      <td>18904.81</td>\n",
       "      <td>19.4</td>\n",
       "      <td>8.0</td>\n",
       "      <td>0.0</td>\n",
       "      <td>334533.0</td>\n",
       "      <td>428956.0</td>\n",
       "      <td>0.0</td>\n",
       "      <td>0.0</td>\n",
       "    </tr>\n",
       "  </tbody>\n",
       "</table>\n",
       "</div>"
      ],
      "text/plain": [
       "    Loan_Status  Current_Loan_Amount        Term Credit_Score  Annual_Income  \\\n",
       "1           1.0             262328.0  Short Term         Good            NaN   \n",
       "4           1.0             176220.0  Short Term         Good            NaN   \n",
       "7           0.0             648714.0   Long Term         Good            NaN   \n",
       "11          1.0             541970.0  Short Term         Good            NaN   \n",
       "15          1.0             449020.0   Long Term         Good            NaN   \n",
       "\n",
       "    Years_in_current_job Home_Ownership             Purpose  Monthly_Debt  \\\n",
       "1                   15.0  Home Mortgage  Debt Consolidation      33295.98   \n",
       "4                    5.0           Rent  Debt Consolidation      20639.70   \n",
       "7                    0.5  Home Mortgage           Buy House      14806.13   \n",
       "11                  15.0  Home Mortgage   Home Improvements      23568.55   \n",
       "15                   9.0       Own Home  Debt Consolidation      18904.81   \n",
       "\n",
       "    Years_of_Credit_History  Number_of_Open_Accounts  \\\n",
       "1                      21.1                     35.0   \n",
       "4                       6.1                     15.0   \n",
       "7                       8.2                     15.0   \n",
       "11                     23.2                     23.0   \n",
       "15                     19.4                      8.0   \n",
       "\n",
       "    Number_of_Credit_Problems  Current_Credit_Balance  Maximum_Open_Credit  \\\n",
       "1                         0.0                229976.0             850784.0   \n",
       "4                         0.0                253460.0             427174.0   \n",
       "7                         0.0                193306.0             864204.0   \n",
       "11                        0.0                 60705.0            1634468.0   \n",
       "15                        0.0                334533.0             428956.0   \n",
       "\n",
       "    Bankruptcies  Tax_Liens  \n",
       "1            0.0        0.0  \n",
       "4            0.0        0.0  \n",
       "7            0.0        0.0  \n",
       "11           0.0        0.0  \n",
       "15           0.0        0.0  "
      ]
     },
     "execution_count": 46,
     "metadata": {},
     "output_type": "execute_result"
    }
   ],
   "source": [
    "null_AnnualIncm.head(5)"
   ]
  },
  {
   "cell_type": "code",
   "execution_count": 47,
   "metadata": {},
   "outputs": [],
   "source": [
    "dfLoan[\"Years_in_current_job\"] = dfLoan[\"Years_in_current_job\"].fillna(dfLoan[\"Years_in_current_job\"].mean())"
   ]
  },
  {
   "cell_type": "code",
   "execution_count": 48,
   "metadata": {},
   "outputs": [],
   "source": [
    "dfLoan[\"Annual_Income\"] = dfLoan[\"Annual_Income\"].fillna(dfLoan[\"Annual_Income\"].mean())"
   ]
  },
  {
   "cell_type": "code",
   "execution_count": 49,
   "metadata": {},
   "outputs": [
    {
     "data": {
      "text/plain": [
       "Loan_Status                    0\n",
       "Current_Loan_Amount            0\n",
       "Term                           0\n",
       "Credit_Score                   0\n",
       "Annual_Income                  0\n",
       "Years_in_current_job           0\n",
       "Home_Ownership                 0\n",
       "Purpose                        0\n",
       "Monthly_Debt                   0\n",
       "Years_of_Credit_History        0\n",
       "Number_of_Open_Accounts        0\n",
       "Number_of_Credit_Problems      0\n",
       "Current_Credit_Balance         0\n",
       "Maximum_Open_Credit            2\n",
       "Bankruptcies                 204\n",
       "Tax_Liens                     10\n",
       "dtype: int64"
      ]
     },
     "execution_count": 49,
     "metadata": {},
     "output_type": "execute_result"
    }
   ],
   "source": [
    "dfLoan.isnull().sum()"
   ]
  },
  {
   "cell_type": "code",
   "execution_count": 50,
   "metadata": {},
   "outputs": [
    {
     "data": {
      "text/html": [
       "<div>\n",
       "<style scoped>\n",
       "    .dataframe tbody tr th:only-of-type {\n",
       "        vertical-align: middle;\n",
       "    }\n",
       "\n",
       "    .dataframe tbody tr th {\n",
       "        vertical-align: top;\n",
       "    }\n",
       "\n",
       "    .dataframe thead th {\n",
       "        text-align: right;\n",
       "    }\n",
       "</style>\n",
       "<table border=\"1\" class=\"dataframe\">\n",
       "  <thead>\n",
       "    <tr style=\"text-align: right;\">\n",
       "      <th></th>\n",
       "      <th>Loan_Status</th>\n",
       "      <th>Current_Loan_Amount</th>\n",
       "      <th>Annual_Income</th>\n",
       "      <th>Years_in_current_job</th>\n",
       "      <th>Monthly_Debt</th>\n",
       "      <th>Years_of_Credit_History</th>\n",
       "      <th>Number_of_Open_Accounts</th>\n",
       "      <th>Number_of_Credit_Problems</th>\n",
       "      <th>Current_Credit_Balance</th>\n",
       "      <th>Maximum_Open_Credit</th>\n",
       "      <th>Tax_Liens</th>\n",
       "    </tr>\n",
       "    <tr>\n",
       "      <th>Bankruptcies</th>\n",
       "      <th></th>\n",
       "      <th></th>\n",
       "      <th></th>\n",
       "      <th></th>\n",
       "      <th></th>\n",
       "      <th></th>\n",
       "      <th></th>\n",
       "      <th></th>\n",
       "      <th></th>\n",
       "      <th></th>\n",
       "      <th></th>\n",
       "    </tr>\n",
       "  </thead>\n",
       "  <tbody>\n",
       "    <tr>\n",
       "      <th>0.0</th>\n",
       "      <td>68591.0</td>\n",
       "      <td>1.044893e+12</td>\n",
       "      <td>1.237573e+11</td>\n",
       "      <td>706958.254719</td>\n",
       "      <td>1.672559e+09</td>\n",
       "      <td>1599232.7</td>\n",
       "      <td>992028.0</td>\n",
       "      <td>4200.0</td>\n",
       "      <td>2.764789e+10</td>\n",
       "      <td>7.124970e+10</td>\n",
       "      <td>2299.0</td>\n",
       "    </tr>\n",
       "    <tr>\n",
       "      <th>1.0</th>\n",
       "      <td>8188.0</td>\n",
       "      <td>1.211998e+11</td>\n",
       "      <td>1.310242e+10</td>\n",
       "      <td>90984.427316</td>\n",
       "      <td>1.639814e+08</td>\n",
       "      <td>206075.6</td>\n",
       "      <td>112967.0</td>\n",
       "      <td>11244.0</td>\n",
       "      <td>1.689544e+09</td>\n",
       "      <td>4.125280e+09</td>\n",
       "      <td>545.0</td>\n",
       "    </tr>\n",
       "    <tr>\n",
       "      <th>2.0</th>\n",
       "      <td>325.0</td>\n",
       "      <td>5.685665e+09</td>\n",
       "      <td>5.238356e+08</td>\n",
       "      <td>3314.542813</td>\n",
       "      <td>6.308784e+06</td>\n",
       "      <td>8003.9</td>\n",
       "      <td>4444.0</td>\n",
       "      <td>906.0</td>\n",
       "      <td>5.366818e+07</td>\n",
       "      <td>1.736030e+08</td>\n",
       "      <td>60.0</td>\n",
       "    </tr>\n",
       "    <tr>\n",
       "      <th>3.0</th>\n",
       "      <td>75.0</td>\n",
       "      <td>1.218647e+09</td>\n",
       "      <td>1.186046e+08</td>\n",
       "      <td>782.340469</td>\n",
       "      <td>1.358889e+06</td>\n",
       "      <td>1650.4</td>\n",
       "      <td>1002.0</td>\n",
       "      <td>292.0</td>\n",
       "      <td>1.021554e+07</td>\n",
       "      <td>3.552626e+07</td>\n",
       "      <td>10.0</td>\n",
       "    </tr>\n",
       "    <tr>\n",
       "      <th>4.0</th>\n",
       "      <td>20.0</td>\n",
       "      <td>3.066105e+08</td>\n",
       "      <td>3.531430e+07</td>\n",
       "      <td>185.238328</td>\n",
       "      <td>4.427350e+05</td>\n",
       "      <td>509.3</td>\n",
       "      <td>275.0</td>\n",
       "      <td>126.0</td>\n",
       "      <td>2.743467e+06</td>\n",
       "      <td>8.836388e+06</td>\n",
       "      <td>17.0</td>\n",
       "    </tr>\n",
       "    <tr>\n",
       "      <th>5.0</th>\n",
       "      <td>5.0</td>\n",
       "      <td>1.970386e+06</td>\n",
       "      <td>1.034593e+07</td>\n",
       "      <td>46.068094</td>\n",
       "      <td>1.615087e+05</td>\n",
       "      <td>138.8</td>\n",
       "      <td>65.0</td>\n",
       "      <td>36.0</td>\n",
       "      <td>9.528310e+05</td>\n",
       "      <td>3.091440e+06</td>\n",
       "      <td>0.0</td>\n",
       "    </tr>\n",
       "    <tr>\n",
       "      <th>6.0</th>\n",
       "      <td>2.0</td>\n",
       "      <td>3.979360e+05</td>\n",
       "      <td>2.129710e+06</td>\n",
       "      <td>14.000000</td>\n",
       "      <td>1.707340e+04</td>\n",
       "      <td>30.8</td>\n",
       "      <td>18.0</td>\n",
       "      <td>12.0</td>\n",
       "      <td>1.761300e+05</td>\n",
       "      <td>3.498440e+05</td>\n",
       "      <td>0.0</td>\n",
       "    </tr>\n",
       "    <tr>\n",
       "      <th>7.0</th>\n",
       "      <td>1.0</td>\n",
       "      <td>2.219140e+05</td>\n",
       "      <td>2.012366e+06</td>\n",
       "      <td>5.000000</td>\n",
       "      <td>2.012366e+04</td>\n",
       "      <td>17.7</td>\n",
       "      <td>11.0</td>\n",
       "      <td>7.0</td>\n",
       "      <td>1.265970e+05</td>\n",
       "      <td>2.130920e+05</td>\n",
       "      <td>0.0</td>\n",
       "    </tr>\n",
       "  </tbody>\n",
       "</table>\n",
       "</div>"
      ],
      "text/plain": [
       "              Loan_Status  Current_Loan_Amount  Annual_Income  \\\n",
       "Bankruptcies                                                    \n",
       "0.0               68591.0         1.044893e+12   1.237573e+11   \n",
       "1.0                8188.0         1.211998e+11   1.310242e+10   \n",
       "2.0                 325.0         5.685665e+09   5.238356e+08   \n",
       "3.0                  75.0         1.218647e+09   1.186046e+08   \n",
       "4.0                  20.0         3.066105e+08   3.531430e+07   \n",
       "5.0                   5.0         1.970386e+06   1.034593e+07   \n",
       "6.0                   2.0         3.979360e+05   2.129710e+06   \n",
       "7.0                   1.0         2.219140e+05   2.012366e+06   \n",
       "\n",
       "              Years_in_current_job  Monthly_Debt  Years_of_Credit_History  \\\n",
       "Bankruptcies                                                                \n",
       "0.0                  706958.254719  1.672559e+09                1599232.7   \n",
       "1.0                   90984.427316  1.639814e+08                 206075.6   \n",
       "2.0                    3314.542813  6.308784e+06                   8003.9   \n",
       "3.0                     782.340469  1.358889e+06                   1650.4   \n",
       "4.0                     185.238328  4.427350e+05                    509.3   \n",
       "5.0                      46.068094  1.615087e+05                    138.8   \n",
       "6.0                      14.000000  1.707340e+04                     30.8   \n",
       "7.0                       5.000000  2.012366e+04                     17.7   \n",
       "\n",
       "              Number_of_Open_Accounts  Number_of_Credit_Problems  \\\n",
       "Bankruptcies                                                       \n",
       "0.0                          992028.0                     4200.0   \n",
       "1.0                          112967.0                    11244.0   \n",
       "2.0                            4444.0                      906.0   \n",
       "3.0                            1002.0                      292.0   \n",
       "4.0                             275.0                      126.0   \n",
       "5.0                              65.0                       36.0   \n",
       "6.0                              18.0                       12.0   \n",
       "7.0                              11.0                        7.0   \n",
       "\n",
       "              Current_Credit_Balance  Maximum_Open_Credit  Tax_Liens  \n",
       "Bankruptcies                                                          \n",
       "0.0                     2.764789e+10         7.124970e+10     2299.0  \n",
       "1.0                     1.689544e+09         4.125280e+09      545.0  \n",
       "2.0                     5.366818e+07         1.736030e+08       60.0  \n",
       "3.0                     1.021554e+07         3.552626e+07       10.0  \n",
       "4.0                     2.743467e+06         8.836388e+06       17.0  \n",
       "5.0                     9.528310e+05         3.091440e+06        0.0  \n",
       "6.0                     1.761300e+05         3.498440e+05        0.0  \n",
       "7.0                     1.265970e+05         2.130920e+05        0.0  "
      ]
     },
     "execution_count": 50,
     "metadata": {},
     "output_type": "execute_result"
    }
   ],
   "source": [
    "dfLoan.groupby(['Bankruptcies']).sum()"
   ]
  },
  {
   "cell_type": "code",
   "execution_count": 51,
   "metadata": {},
   "outputs": [],
   "source": [
    "dfLoan[\"Bankruptcies\"] = dfLoan[\"Bankruptcies\"].fillna(0)"
   ]
  },
  {
   "cell_type": "code",
   "execution_count": 52,
   "metadata": {},
   "outputs": [
    {
     "data": {
      "text/plain": [
       "array([ 0.,  1.,  2.,  4.,  3.,  6.,  5., nan, 11., 15.,  9.,  7., 10.])"
      ]
     },
     "execution_count": 52,
     "metadata": {},
     "output_type": "execute_result"
    }
   ],
   "source": [
    "dfLoan.Tax_Liens.unique()"
   ]
  },
  {
   "cell_type": "code",
   "execution_count": 53,
   "metadata": {},
   "outputs": [
    {
     "data": {
      "text/html": [
       "<div>\n",
       "<style scoped>\n",
       "    .dataframe tbody tr th:only-of-type {\n",
       "        vertical-align: middle;\n",
       "    }\n",
       "\n",
       "    .dataframe tbody tr th {\n",
       "        vertical-align: top;\n",
       "    }\n",
       "\n",
       "    .dataframe thead th {\n",
       "        text-align: right;\n",
       "    }\n",
       "</style>\n",
       "<table border=\"1\" class=\"dataframe\">\n",
       "  <thead>\n",
       "    <tr style=\"text-align: right;\">\n",
       "      <th></th>\n",
       "      <th>Loan_Status</th>\n",
       "      <th>Current_Loan_Amount</th>\n",
       "      <th>Annual_Income</th>\n",
       "      <th>Years_in_current_job</th>\n",
       "      <th>Monthly_Debt</th>\n",
       "      <th>Years_of_Credit_History</th>\n",
       "      <th>Number_of_Open_Accounts</th>\n",
       "      <th>Number_of_Credit_Problems</th>\n",
       "      <th>Current_Credit_Balance</th>\n",
       "      <th>Maximum_Open_Credit</th>\n",
       "      <th>Bankruptcies</th>\n",
       "    </tr>\n",
       "    <tr>\n",
       "      <th>Tax_Liens</th>\n",
       "      <th></th>\n",
       "      <th></th>\n",
       "      <th></th>\n",
       "      <th></th>\n",
       "      <th></th>\n",
       "      <th></th>\n",
       "      <th></th>\n",
       "      <th></th>\n",
       "      <th></th>\n",
       "      <th></th>\n",
       "      <th></th>\n",
       "    </tr>\n",
       "  </thead>\n",
       "  <tbody>\n",
       "    <tr>\n",
       "      <th>0.0</th>\n",
       "      <td>75912.0</td>\n",
       "      <td>1.154165e+12</td>\n",
       "      <td>1.346575e+11</td>\n",
       "      <td>786920.370721</td>\n",
       "      <td>1.807637e+09</td>\n",
       "      <td>1782645.0</td>\n",
       "      <td>1090466.0</td>\n",
       "      <td>13257.0</td>\n",
       "      <td>2.896729e+10</td>\n",
       "      <td>7.431553e+10</td>\n",
       "      <td>11252.0</td>\n",
       "    </tr>\n",
       "    <tr>\n",
       "      <th>1.0</th>\n",
       "      <td>1013.0</td>\n",
       "      <td>1.529785e+10</td>\n",
       "      <td>2.132807e+09</td>\n",
       "      <td>11341.196534</td>\n",
       "      <td>2.705537e+07</td>\n",
       "      <td>25592.2</td>\n",
       "      <td>15625.0</td>\n",
       "      <td>1777.0</td>\n",
       "      <td>3.548879e+08</td>\n",
       "      <td>1.167181e+09</td>\n",
       "      <td>338.0</td>\n",
       "    </tr>\n",
       "    <tr>\n",
       "      <th>2.0</th>\n",
       "      <td>284.0</td>\n",
       "      <td>4.017920e+09</td>\n",
       "      <td>6.261457e+08</td>\n",
       "      <td>3138.338532</td>\n",
       "      <td>7.997781e+06</td>\n",
       "      <td>7393.1</td>\n",
       "      <td>4279.0</td>\n",
       "      <td>890.0</td>\n",
       "      <td>9.287814e+07</td>\n",
       "      <td>2.101520e+08</td>\n",
       "      <td>107.0</td>\n",
       "    </tr>\n",
       "    <tr>\n",
       "      <th>3.0</th>\n",
       "      <td>75.0</td>\n",
       "      <td>1.431843e+09</td>\n",
       "      <td>1.920893e+08</td>\n",
       "      <td>1042.374516</td>\n",
       "      <td>2.397570e+06</td>\n",
       "      <td>2152.0</td>\n",
       "      <td>1226.0</td>\n",
       "      <td>357.0</td>\n",
       "      <td>2.476637e+07</td>\n",
       "      <td>5.676495e+07</td>\n",
       "      <td>20.0</td>\n",
       "    </tr>\n",
       "    <tr>\n",
       "      <th>4.0</th>\n",
       "      <td>37.0</td>\n",
       "      <td>4.189498e+08</td>\n",
       "      <td>1.302706e+08</td>\n",
       "      <td>489.272375</td>\n",
       "      <td>1.240891e+06</td>\n",
       "      <td>1122.1</td>\n",
       "      <td>666.0</td>\n",
       "      <td>261.0</td>\n",
       "      <td>1.132873e+07</td>\n",
       "      <td>2.920713e+07</td>\n",
       "      <td>26.0</td>\n",
       "    </tr>\n",
       "    <tr>\n",
       "      <th>5.0</th>\n",
       "      <td>10.0</td>\n",
       "      <td>3.047749e+08</td>\n",
       "      <td>2.835436e+07</td>\n",
       "      <td>164.068094</td>\n",
       "      <td>3.085159e+05</td>\n",
       "      <td>338.8</td>\n",
       "      <td>189.0</td>\n",
       "      <td>82.0</td>\n",
       "      <td>3.196332e+06</td>\n",
       "      <td>1.016448e+07</td>\n",
       "      <td>2.0</td>\n",
       "    </tr>\n",
       "    <tr>\n",
       "      <th>6.0</th>\n",
       "      <td>10.0</td>\n",
       "      <td>2.019505e+08</td>\n",
       "      <td>2.034522e+07</td>\n",
       "      <td>104.500000</td>\n",
       "      <td>2.244314e+05</td>\n",
       "      <td>198.3</td>\n",
       "      <td>154.0</td>\n",
       "      <td>74.0</td>\n",
       "      <td>1.989623e+06</td>\n",
       "      <td>4.144976e+06</td>\n",
       "      <td>0.0</td>\n",
       "    </tr>\n",
       "    <tr>\n",
       "      <th>7.0</th>\n",
       "      <td>4.0</td>\n",
       "      <td>1.033313e+08</td>\n",
       "      <td>1.941266e+07</td>\n",
       "      <td>48.500000</td>\n",
       "      <td>2.212400e+05</td>\n",
       "      <td>128.1</td>\n",
       "      <td>82.0</td>\n",
       "      <td>56.0</td>\n",
       "      <td>1.638085e+06</td>\n",
       "      <td>3.066008e+06</td>\n",
       "      <td>4.0</td>\n",
       "    </tr>\n",
       "    <tr>\n",
       "      <th>9.0</th>\n",
       "      <td>2.0</td>\n",
       "      <td>9.741380e+05</td>\n",
       "      <td>4.020588e+06</td>\n",
       "      <td>38.034047</td>\n",
       "      <td>4.163033e+04</td>\n",
       "      <td>65.4</td>\n",
       "      <td>23.0</td>\n",
       "      <td>28.0</td>\n",
       "      <td>3.690560e+05</td>\n",
       "      <td>9.388280e+05</td>\n",
       "      <td>1.0</td>\n",
       "    </tr>\n",
       "    <tr>\n",
       "      <th>10.0</th>\n",
       "      <td>1.0</td>\n",
       "      <td>3.146000e+05</td>\n",
       "      <td>9.259270e+05</td>\n",
       "      <td>15.000000</td>\n",
       "      <td>4.899720e+03</td>\n",
       "      <td>12.5</td>\n",
       "      <td>6.0</td>\n",
       "      <td>10.0</td>\n",
       "      <td>5.468200e+04</td>\n",
       "      <td>2.016300e+05</td>\n",
       "      <td>0.0</td>\n",
       "    </tr>\n",
       "    <tr>\n",
       "      <th>11.0</th>\n",
       "      <td>2.0</td>\n",
       "      <td>6.475920e+05</td>\n",
       "      <td>1.864280e+06</td>\n",
       "      <td>30.000000</td>\n",
       "      <td>1.525624e+04</td>\n",
       "      <td>31.4</td>\n",
       "      <td>14.0</td>\n",
       "      <td>22.0</td>\n",
       "      <td>3.244060e+05</td>\n",
       "      <td>9.885480e+05</td>\n",
       "      <td>0.0</td>\n",
       "    </tr>\n",
       "    <tr>\n",
       "      <th>15.0</th>\n",
       "      <td>1.0</td>\n",
       "      <td>4.473920e+05</td>\n",
       "      <td>1.410294e+06</td>\n",
       "      <td>15.000000</td>\n",
       "      <td>1.551331e+04</td>\n",
       "      <td>20.1</td>\n",
       "      <td>5.0</td>\n",
       "      <td>15.0</td>\n",
       "      <td>3.015490e+05</td>\n",
       "      <td>4.789840e+05</td>\n",
       "      <td>0.0</td>\n",
       "    </tr>\n",
       "  </tbody>\n",
       "</table>\n",
       "</div>"
      ],
      "text/plain": [
       "           Loan_Status  Current_Loan_Amount  Annual_Income  \\\n",
       "Tax_Liens                                                    \n",
       "0.0            75912.0         1.154165e+12   1.346575e+11   \n",
       "1.0             1013.0         1.529785e+10   2.132807e+09   \n",
       "2.0              284.0         4.017920e+09   6.261457e+08   \n",
       "3.0               75.0         1.431843e+09   1.920893e+08   \n",
       "4.0               37.0         4.189498e+08   1.302706e+08   \n",
       "5.0               10.0         3.047749e+08   2.835436e+07   \n",
       "6.0               10.0         2.019505e+08   2.034522e+07   \n",
       "7.0                4.0         1.033313e+08   1.941266e+07   \n",
       "9.0                2.0         9.741380e+05   4.020588e+06   \n",
       "10.0               1.0         3.146000e+05   9.259270e+05   \n",
       "11.0               2.0         6.475920e+05   1.864280e+06   \n",
       "15.0               1.0         4.473920e+05   1.410294e+06   \n",
       "\n",
       "           Years_in_current_job  Monthly_Debt  Years_of_Credit_History  \\\n",
       "Tax_Liens                                                                \n",
       "0.0               786920.370721  1.807637e+09                1782645.0   \n",
       "1.0                11341.196534  2.705537e+07                  25592.2   \n",
       "2.0                 3138.338532  7.997781e+06                   7393.1   \n",
       "3.0                 1042.374516  2.397570e+06                   2152.0   \n",
       "4.0                  489.272375  1.240891e+06                   1122.1   \n",
       "5.0                  164.068094  3.085159e+05                    338.8   \n",
       "6.0                  104.500000  2.244314e+05                    198.3   \n",
       "7.0                   48.500000  2.212400e+05                    128.1   \n",
       "9.0                   38.034047  4.163033e+04                     65.4   \n",
       "10.0                  15.000000  4.899720e+03                     12.5   \n",
       "11.0                  30.000000  1.525624e+04                     31.4   \n",
       "15.0                  15.000000  1.551331e+04                     20.1   \n",
       "\n",
       "           Number_of_Open_Accounts  Number_of_Credit_Problems  \\\n",
       "Tax_Liens                                                       \n",
       "0.0                      1090466.0                    13257.0   \n",
       "1.0                        15625.0                     1777.0   \n",
       "2.0                         4279.0                      890.0   \n",
       "3.0                         1226.0                      357.0   \n",
       "4.0                          666.0                      261.0   \n",
       "5.0                          189.0                       82.0   \n",
       "6.0                          154.0                       74.0   \n",
       "7.0                           82.0                       56.0   \n",
       "9.0                           23.0                       28.0   \n",
       "10.0                           6.0                       10.0   \n",
       "11.0                          14.0                       22.0   \n",
       "15.0                           5.0                       15.0   \n",
       "\n",
       "           Current_Credit_Balance  Maximum_Open_Credit  Bankruptcies  \n",
       "Tax_Liens                                                             \n",
       "0.0                  2.896729e+10         7.431553e+10       11252.0  \n",
       "1.0                  3.548879e+08         1.167181e+09         338.0  \n",
       "2.0                  9.287814e+07         2.101520e+08         107.0  \n",
       "3.0                  2.476637e+07         5.676495e+07          20.0  \n",
       "4.0                  1.132873e+07         2.920713e+07          26.0  \n",
       "5.0                  3.196332e+06         1.016448e+07           2.0  \n",
       "6.0                  1.989623e+06         4.144976e+06           0.0  \n",
       "7.0                  1.638085e+06         3.066008e+06           4.0  \n",
       "9.0                  3.690560e+05         9.388280e+05           1.0  \n",
       "10.0                 5.468200e+04         2.016300e+05           0.0  \n",
       "11.0                 3.244060e+05         9.885480e+05           0.0  \n",
       "15.0                 3.015490e+05         4.789840e+05           0.0  "
      ]
     },
     "execution_count": 53,
     "metadata": {},
     "output_type": "execute_result"
    }
   ],
   "source": [
    "dfLoan.groupby(['Tax_Liens']).sum()"
   ]
  },
  {
   "cell_type": "code",
   "execution_count": 54,
   "metadata": {},
   "outputs": [],
   "source": [
    "dfLoan[\"Tax_Liens\"] = dfLoan[\"Tax_Liens\"].fillna(0)"
   ]
  },
  {
   "cell_type": "code",
   "execution_count": 55,
   "metadata": {},
   "outputs": [
    {
     "data": {
      "text/plain": [
       "array([ 416746.,  850784.,  750090., ..., 1287792., 2299198.,  892606.])"
      ]
     },
     "execution_count": 55,
     "metadata": {},
     "output_type": "execute_result"
    }
   ],
   "source": [
    "dfLoan.Maximum_Open_Credit.unique()"
   ]
  },
  {
   "cell_type": "code",
   "execution_count": 56,
   "metadata": {},
   "outputs": [],
   "source": [
    "null_MaxOpnCrdt = dfLoan[dfLoan['Maximum_Open_Credit'].isna()]"
   ]
  },
  {
   "cell_type": "code",
   "execution_count": 57,
   "metadata": {},
   "outputs": [
    {
     "data": {
      "text/html": [
       "<div>\n",
       "<style scoped>\n",
       "    .dataframe tbody tr th:only-of-type {\n",
       "        vertical-align: middle;\n",
       "    }\n",
       "\n",
       "    .dataframe tbody tr th {\n",
       "        vertical-align: top;\n",
       "    }\n",
       "\n",
       "    .dataframe thead th {\n",
       "        text-align: right;\n",
       "    }\n",
       "</style>\n",
       "<table border=\"1\" class=\"dataframe\">\n",
       "  <thead>\n",
       "    <tr style=\"text-align: right;\">\n",
       "      <th></th>\n",
       "      <th>Loan_Status</th>\n",
       "      <th>Current_Loan_Amount</th>\n",
       "      <th>Term</th>\n",
       "      <th>Credit_Score</th>\n",
       "      <th>Annual_Income</th>\n",
       "      <th>Years_in_current_job</th>\n",
       "      <th>Home_Ownership</th>\n",
       "      <th>Purpose</th>\n",
       "      <th>Monthly_Debt</th>\n",
       "      <th>Years_of_Credit_History</th>\n",
       "      <th>Number_of_Open_Accounts</th>\n",
       "      <th>Number_of_Credit_Problems</th>\n",
       "      <th>Current_Credit_Balance</th>\n",
       "      <th>Maximum_Open_Credit</th>\n",
       "      <th>Bankruptcies</th>\n",
       "      <th>Tax_Liens</th>\n",
       "    </tr>\n",
       "  </thead>\n",
       "  <tbody>\n",
       "    <tr>\n",
       "      <th>30180</th>\n",
       "      <td>0.0</td>\n",
       "      <td>32340.0</td>\n",
       "      <td>Short Term</td>\n",
       "      <td>Good</td>\n",
       "      <td>1.378277e+06</td>\n",
       "      <td>2.0</td>\n",
       "      <td>Rent</td>\n",
       "      <td>Debt Consolidation</td>\n",
       "      <td>9620.46</td>\n",
       "      <td>15.3</td>\n",
       "      <td>3.0</td>\n",
       "      <td>0.0</td>\n",
       "      <td>0.0</td>\n",
       "      <td>NaN</td>\n",
       "      <td>0.0</td>\n",
       "      <td>0.0</td>\n",
       "    </tr>\n",
       "    <tr>\n",
       "      <th>98710</th>\n",
       "      <td>0.0</td>\n",
       "      <td>45144.0</td>\n",
       "      <td>Short Term</td>\n",
       "      <td>Good</td>\n",
       "      <td>1.806995e+06</td>\n",
       "      <td>15.0</td>\n",
       "      <td>Rent</td>\n",
       "      <td>Debt Consolidation</td>\n",
       "      <td>36290.38</td>\n",
       "      <td>22.4</td>\n",
       "      <td>9.0</td>\n",
       "      <td>0.0</td>\n",
       "      <td>0.0</td>\n",
       "      <td>NaN</td>\n",
       "      <td>0.0</td>\n",
       "      <td>0.0</td>\n",
       "    </tr>\n",
       "  </tbody>\n",
       "</table>\n",
       "</div>"
      ],
      "text/plain": [
       "       Loan_Status  Current_Loan_Amount        Term Credit_Score  \\\n",
       "30180          0.0              32340.0  Short Term         Good   \n",
       "98710          0.0              45144.0  Short Term         Good   \n",
       "\n",
       "       Annual_Income  Years_in_current_job Home_Ownership             Purpose  \\\n",
       "30180   1.378277e+06                   2.0           Rent  Debt Consolidation   \n",
       "98710   1.806995e+06                  15.0           Rent  Debt Consolidation   \n",
       "\n",
       "       Monthly_Debt  Years_of_Credit_History  Number_of_Open_Accounts  \\\n",
       "30180       9620.46                     15.3                      3.0   \n",
       "98710      36290.38                     22.4                      9.0   \n",
       "\n",
       "       Number_of_Credit_Problems  Current_Credit_Balance  Maximum_Open_Credit  \\\n",
       "30180                        0.0                     0.0                  NaN   \n",
       "98710                        0.0                     0.0                  NaN   \n",
       "\n",
       "       Bankruptcies  Tax_Liens  \n",
       "30180           0.0        0.0  \n",
       "98710           0.0        0.0  "
      ]
     },
     "execution_count": 57,
     "metadata": {},
     "output_type": "execute_result"
    }
   ],
   "source": [
    "null_MaxOpnCrdt.head(5)"
   ]
  },
  {
   "cell_type": "code",
   "execution_count": 58,
   "metadata": {},
   "outputs": [],
   "source": [
    "dfLoan[\"Maximum_Open_Credit\"] = dfLoan[\"Maximum_Open_Credit\"].fillna(0)"
   ]
  },
  {
   "cell_type": "code",
   "execution_count": 59,
   "metadata": {},
   "outputs": [
    {
     "data": {
      "text/plain": [
       "11484"
      ]
     },
     "execution_count": 59,
     "metadata": {},
     "output_type": "execute_result"
    }
   ],
   "source": [
    "#Since current loan amount = 99999999 seems to be unrealistic, we will drop these rows from the dataset\n",
    "dfLoanCurrLoanAmt = dfLoan[dfLoan[\"Current_Loan_Amount\"]== 99999999]\n",
    "dfLoanCurrLoanAmt.Current_Loan_Amount.count()"
   ]
  },
  {
   "cell_type": "code",
   "execution_count": 60,
   "metadata": {},
   "outputs": [],
   "source": [
    "dfLoan = dfLoan[dfLoan['Current_Loan_Amount']!= 99999999]"
   ]
  },
  {
   "cell_type": "code",
   "execution_count": 61,
   "metadata": {},
   "outputs": [
    {
     "data": {
      "text/plain": [
       "(88516, 16)"
      ]
     },
     "execution_count": 61,
     "metadata": {},
     "output_type": "execute_result"
    }
   ],
   "source": [
    "dfLoan.shape\n"
   ]
  },
  {
   "cell_type": "code",
   "execution_count": 62,
   "metadata": {},
   "outputs": [
    {
     "data": {
      "text/plain": [
       "count    88516.000000\n",
       "mean         0.170517\n",
       "std          0.086114\n",
       "min          0.000000\n",
       "25%          0.107199\n",
       "50%          0.164000\n",
       "75%          0.225999\n",
       "max          1.327852\n",
       "Name: Debt_To_Income_Ratio, dtype: float64"
      ]
     },
     "execution_count": 62,
     "metadata": {},
     "output_type": "execute_result"
    }
   ],
   "source": [
    "# Add one feature the Debt to Income Ratio.\n",
    "# We get the monthly income to monthly debt ratio to have uniform unit.\n",
    "\n",
    "dfLoan[\"Debt_To_Income_Ratio\"] = dfLoan[\"Monthly_Debt\"] / dfLoan[\"Annual_Income\"]*12\n",
    "dfLoan[\"Debt_To_Income_Ratio\"].describe()\n",
    "\n",
    "\n"
   ]
  },
  {
   "cell_type": "code",
   "execution_count": 63,
   "metadata": {
    "scrolled": true
   },
   "outputs": [
    {
     "data": {
      "text/plain": [
       "Index(['Loan_Status', 'Current_Loan_Amount', 'Term', 'Credit_Score',\n",
       "       'Annual_Income', 'Years_in_current_job', 'Home_Ownership', 'Purpose',\n",
       "       'Monthly_Debt', 'Years_of_Credit_History', 'Number_of_Open_Accounts',\n",
       "       'Number_of_Credit_Problems', 'Current_Credit_Balance',\n",
       "       'Maximum_Open_Credit', 'Bankruptcies', 'Tax_Liens',\n",
       "       'Debt_To_Income_Ratio'],\n",
       "      dtype='object')"
      ]
     },
     "execution_count": 63,
     "metadata": {},
     "output_type": "execute_result"
    }
   ],
   "source": [
    "dfLoan.columns"
   ]
  },
  {
   "cell_type": "code",
   "execution_count": 64,
   "metadata": {},
   "outputs": [
    {
     "data": {
      "text/html": [
       "<div>\n",
       "<style scoped>\n",
       "    .dataframe tbody tr th:only-of-type {\n",
       "        vertical-align: middle;\n",
       "    }\n",
       "\n",
       "    .dataframe tbody tr th {\n",
       "        vertical-align: top;\n",
       "    }\n",
       "\n",
       "    .dataframe thead th {\n",
       "        text-align: right;\n",
       "    }\n",
       "</style>\n",
       "<table border=\"1\" class=\"dataframe\">\n",
       "  <thead>\n",
       "    <tr style=\"text-align: right;\">\n",
       "      <th></th>\n",
       "      <th>Loan_Status</th>\n",
       "      <th>Current_Loan_Amount</th>\n",
       "      <th>Annual_Income</th>\n",
       "      <th>Years_in_current_job</th>\n",
       "      <th>Monthly_Debt</th>\n",
       "      <th>Years_of_Credit_History</th>\n",
       "      <th>Number_of_Open_Accounts</th>\n",
       "      <th>Number_of_Credit_Problems</th>\n",
       "      <th>Current_Credit_Balance</th>\n",
       "      <th>Maximum_Open_Credit</th>\n",
       "      <th>Bankruptcies</th>\n",
       "      <th>Tax_Liens</th>\n",
       "      <th>Debt_To_Income_Ratio</th>\n",
       "    </tr>\n",
       "  </thead>\n",
       "  <tbody>\n",
       "    <tr>\n",
       "      <th>count</th>\n",
       "      <td>88516.000000</td>\n",
       "      <td>88516.000000</td>\n",
       "      <td>8.851600e+04</td>\n",
       "      <td>88516.000000</td>\n",
       "      <td>88516.000000</td>\n",
       "      <td>88516.000000</td>\n",
       "      <td>88516.000000</td>\n",
       "      <td>88516.000000</td>\n",
       "      <td>8.851600e+04</td>\n",
       "      <td>8.851600e+04</td>\n",
       "      <td>88516.000000</td>\n",
       "      <td>88516.000000</td>\n",
       "      <td>88516.000000</td>\n",
       "    </tr>\n",
       "    <tr>\n",
       "      <th>mean</th>\n",
       "      <td>0.744238</td>\n",
       "      <td>312313.597881</td>\n",
       "      <td>1.374335e+06</td>\n",
       "      <td>8.039597</td>\n",
       "      <td>18511.522083</td>\n",
       "      <td>18.152483</td>\n",
       "      <td>11.127762</td>\n",
       "      <td>0.168727</td>\n",
       "      <td>2.943458e+05</td>\n",
       "      <td>7.651977e+05</td>\n",
       "      <td>0.117515</td>\n",
       "      <td>0.029509</td>\n",
       "      <td>0.170517</td>\n",
       "    </tr>\n",
       "    <tr>\n",
       "      <th>std</th>\n",
       "      <td>0.436291</td>\n",
       "      <td>186262.167690</td>\n",
       "      <td>9.771977e+05</td>\n",
       "      <td>5.201068</td>\n",
       "      <td>12173.763600</td>\n",
       "      <td>6.999045</td>\n",
       "      <td>5.005283</td>\n",
       "      <td>0.484092</td>\n",
       "      <td>3.761272e+05</td>\n",
       "      <td>8.892459e+06</td>\n",
       "      <td>0.351201</td>\n",
       "      <td>0.259985</td>\n",
       "      <td>0.086114</td>\n",
       "    </tr>\n",
       "    <tr>\n",
       "      <th>min</th>\n",
       "      <td>0.000000</td>\n",
       "      <td>10802.000000</td>\n",
       "      <td>7.662700e+04</td>\n",
       "      <td>0.500000</td>\n",
       "      <td>0.000000</td>\n",
       "      <td>3.600000</td>\n",
       "      <td>0.000000</td>\n",
       "      <td>0.000000</td>\n",
       "      <td>0.000000e+00</td>\n",
       "      <td>0.000000e+00</td>\n",
       "      <td>0.000000</td>\n",
       "      <td>0.000000</td>\n",
       "      <td>0.000000</td>\n",
       "    </tr>\n",
       "    <tr>\n",
       "      <th>25%</th>\n",
       "      <td>0.000000</td>\n",
       "      <td>172342.500000</td>\n",
       "      <td>9.366050e+05</td>\n",
       "      <td>3.000000</td>\n",
       "      <td>10253.730000</td>\n",
       "      <td>13.400000</td>\n",
       "      <td>8.000000</td>\n",
       "      <td>0.000000</td>\n",
       "      <td>1.129170e+05</td>\n",
       "      <td>2.718320e+05</td>\n",
       "      <td>0.000000</td>\n",
       "      <td>0.000000</td>\n",
       "      <td>0.107199</td>\n",
       "    </tr>\n",
       "    <tr>\n",
       "      <th>50%</th>\n",
       "      <td>1.000000</td>\n",
       "      <td>267344.000000</td>\n",
       "      <td>1.378277e+06</td>\n",
       "      <td>8.000000</td>\n",
       "      <td>16275.495000</td>\n",
       "      <td>16.900000</td>\n",
       "      <td>10.000000</td>\n",
       "      <td>0.000000</td>\n",
       "      <td>2.100355e+05</td>\n",
       "      <td>4.644750e+05</td>\n",
       "      <td>0.000000</td>\n",
       "      <td>0.000000</td>\n",
       "      <td>0.164000</td>\n",
       "    </tr>\n",
       "    <tr>\n",
       "      <th>75%</th>\n",
       "      <td>1.000000</td>\n",
       "      <td>432663.000000</td>\n",
       "      <td>1.489296e+06</td>\n",
       "      <td>15.000000</td>\n",
       "      <td>24059.415000</td>\n",
       "      <td>21.600000</td>\n",
       "      <td>14.000000</td>\n",
       "      <td>0.000000</td>\n",
       "      <td>3.678780e+05</td>\n",
       "      <td>7.772600e+05</td>\n",
       "      <td>0.000000</td>\n",
       "      <td>0.000000</td>\n",
       "      <td>0.225999</td>\n",
       "    </tr>\n",
       "    <tr>\n",
       "      <th>max</th>\n",
       "      <td>1.000000</td>\n",
       "      <td>789250.000000</td>\n",
       "      <td>1.655574e+08</td>\n",
       "      <td>15.000000</td>\n",
       "      <td>435843.280000</td>\n",
       "      <td>70.500000</td>\n",
       "      <td>76.000000</td>\n",
       "      <td>15.000000</td>\n",
       "      <td>3.287897e+07</td>\n",
       "      <td>1.539738e+09</td>\n",
       "      <td>7.000000</td>\n",
       "      <td>15.000000</td>\n",
       "      <td>1.327852</td>\n",
       "    </tr>\n",
       "  </tbody>\n",
       "</table>\n",
       "</div>"
      ],
      "text/plain": [
       "        Loan_Status  Current_Loan_Amount  Annual_Income  Years_in_current_job  \\\n",
       "count  88516.000000         88516.000000   8.851600e+04          88516.000000   \n",
       "mean       0.744238        312313.597881   1.374335e+06              8.039597   \n",
       "std        0.436291        186262.167690   9.771977e+05              5.201068   \n",
       "min        0.000000         10802.000000   7.662700e+04              0.500000   \n",
       "25%        0.000000        172342.500000   9.366050e+05              3.000000   \n",
       "50%        1.000000        267344.000000   1.378277e+06              8.000000   \n",
       "75%        1.000000        432663.000000   1.489296e+06             15.000000   \n",
       "max        1.000000        789250.000000   1.655574e+08             15.000000   \n",
       "\n",
       "        Monthly_Debt  Years_of_Credit_History  Number_of_Open_Accounts  \\\n",
       "count   88516.000000             88516.000000             88516.000000   \n",
       "mean    18511.522083                18.152483                11.127762   \n",
       "std     12173.763600                 6.999045                 5.005283   \n",
       "min         0.000000                 3.600000                 0.000000   \n",
       "25%     10253.730000                13.400000                 8.000000   \n",
       "50%     16275.495000                16.900000                10.000000   \n",
       "75%     24059.415000                21.600000                14.000000   \n",
       "max    435843.280000                70.500000                76.000000   \n",
       "\n",
       "       Number_of_Credit_Problems  Current_Credit_Balance  Maximum_Open_Credit  \\\n",
       "count               88516.000000            8.851600e+04         8.851600e+04   \n",
       "mean                    0.168727            2.943458e+05         7.651977e+05   \n",
       "std                     0.484092            3.761272e+05         8.892459e+06   \n",
       "min                     0.000000            0.000000e+00         0.000000e+00   \n",
       "25%                     0.000000            1.129170e+05         2.718320e+05   \n",
       "50%                     0.000000            2.100355e+05         4.644750e+05   \n",
       "75%                     0.000000            3.678780e+05         7.772600e+05   \n",
       "max                    15.000000            3.287897e+07         1.539738e+09   \n",
       "\n",
       "       Bankruptcies     Tax_Liens  Debt_To_Income_Ratio  \n",
       "count  88516.000000  88516.000000          88516.000000  \n",
       "mean       0.117515      0.029509              0.170517  \n",
       "std        0.351201      0.259985              0.086114  \n",
       "min        0.000000      0.000000              0.000000  \n",
       "25%        0.000000      0.000000              0.107199  \n",
       "50%        0.000000      0.000000              0.164000  \n",
       "75%        0.000000      0.000000              0.225999  \n",
       "max        7.000000     15.000000              1.327852  "
      ]
     },
     "execution_count": 64,
     "metadata": {},
     "output_type": "execute_result"
    }
   ],
   "source": [
    "dfLoan.describe()"
   ]
  },
  {
   "cell_type": "code",
   "execution_count": 65,
   "metadata": {},
   "outputs": [
    {
     "data": {
      "text/plain": [
       "Loan_Status                  float64\n",
       "Current_Loan_Amount          float64\n",
       "Term                          object\n",
       "Credit_Score                  object\n",
       "Annual_Income                float64\n",
       "Years_in_current_job         float64\n",
       "Home_Ownership                object\n",
       "Purpose                       object\n",
       "Monthly_Debt                 float64\n",
       "Years_of_Credit_History      float64\n",
       "Number_of_Open_Accounts      float64\n",
       "Number_of_Credit_Problems    float64\n",
       "Current_Credit_Balance       float64\n",
       "Maximum_Open_Credit          float64\n",
       "Bankruptcies                 float64\n",
       "Tax_Liens                    float64\n",
       "Debt_To_Income_Ratio         float64\n",
       "dtype: object"
      ]
     },
     "execution_count": 65,
     "metadata": {},
     "output_type": "execute_result"
    }
   ],
   "source": [
    "dfLoan.dtypes"
   ]
  },
  {
   "cell_type": "code",
   "execution_count": 66,
   "metadata": {},
   "outputs": [
    {
     "data": {
      "text/html": [
       "<div>\n",
       "<style scoped>\n",
       "    .dataframe tbody tr th:only-of-type {\n",
       "        vertical-align: middle;\n",
       "    }\n",
       "\n",
       "    .dataframe tbody tr th {\n",
       "        vertical-align: top;\n",
       "    }\n",
       "\n",
       "    .dataframe thead th {\n",
       "        text-align: right;\n",
       "    }\n",
       "</style>\n",
       "<table border=\"1\" class=\"dataframe\">\n",
       "  <thead>\n",
       "    <tr style=\"text-align: right;\">\n",
       "      <th></th>\n",
       "      <th>Current_Loan_Amount</th>\n",
       "      <th>Term</th>\n",
       "      <th>Credit_Score</th>\n",
       "      <th>Annual_Income</th>\n",
       "      <th>Years_in_current_job</th>\n",
       "      <th>Home_Ownership</th>\n",
       "      <th>Purpose</th>\n",
       "      <th>Monthly_Debt</th>\n",
       "      <th>Years_of_Credit_History</th>\n",
       "      <th>Number_of_Open_Accounts</th>\n",
       "      <th>Number_of_Credit_Problems</th>\n",
       "      <th>Current_Credit_Balance</th>\n",
       "      <th>Maximum_Open_Credit</th>\n",
       "      <th>Bankruptcies</th>\n",
       "      <th>Tax_Liens</th>\n",
       "      <th>Debt_To_Income_Ratio</th>\n",
       "    </tr>\n",
       "    <tr>\n",
       "      <th>Loan_Status</th>\n",
       "      <th></th>\n",
       "      <th></th>\n",
       "      <th></th>\n",
       "      <th></th>\n",
       "      <th></th>\n",
       "      <th></th>\n",
       "      <th></th>\n",
       "      <th></th>\n",
       "      <th></th>\n",
       "      <th></th>\n",
       "      <th></th>\n",
       "      <th></th>\n",
       "      <th></th>\n",
       "      <th></th>\n",
       "      <th></th>\n",
       "      <th></th>\n",
       "    </tr>\n",
       "  </thead>\n",
       "  <tbody>\n",
       "    <tr>\n",
       "      <th>0.0</th>\n",
       "      <td>22639</td>\n",
       "      <td>22639</td>\n",
       "      <td>22639</td>\n",
       "      <td>22639</td>\n",
       "      <td>22639</td>\n",
       "      <td>22639</td>\n",
       "      <td>22639</td>\n",
       "      <td>22639</td>\n",
       "      <td>22639</td>\n",
       "      <td>22639</td>\n",
       "      <td>22639</td>\n",
       "      <td>22639</td>\n",
       "      <td>22639</td>\n",
       "      <td>22639</td>\n",
       "      <td>22639</td>\n",
       "      <td>22639</td>\n",
       "    </tr>\n",
       "    <tr>\n",
       "      <th>1.0</th>\n",
       "      <td>65877</td>\n",
       "      <td>65877</td>\n",
       "      <td>65877</td>\n",
       "      <td>65877</td>\n",
       "      <td>65877</td>\n",
       "      <td>65877</td>\n",
       "      <td>65877</td>\n",
       "      <td>65877</td>\n",
       "      <td>65877</td>\n",
       "      <td>65877</td>\n",
       "      <td>65877</td>\n",
       "      <td>65877</td>\n",
       "      <td>65877</td>\n",
       "      <td>65877</td>\n",
       "      <td>65877</td>\n",
       "      <td>65877</td>\n",
       "    </tr>\n",
       "  </tbody>\n",
       "</table>\n",
       "</div>"
      ],
      "text/plain": [
       "             Current_Loan_Amount   Term  Credit_Score  Annual_Income  \\\n",
       "Loan_Status                                                            \n",
       "0.0                        22639  22639         22639          22639   \n",
       "1.0                        65877  65877         65877          65877   \n",
       "\n",
       "             Years_in_current_job  Home_Ownership  Purpose  Monthly_Debt  \\\n",
       "Loan_Status                                                                \n",
       "0.0                         22639           22639    22639         22639   \n",
       "1.0                         65877           65877    65877         65877   \n",
       "\n",
       "             Years_of_Credit_History  Number_of_Open_Accounts  \\\n",
       "Loan_Status                                                     \n",
       "0.0                            22639                    22639   \n",
       "1.0                            65877                    65877   \n",
       "\n",
       "             Number_of_Credit_Problems  Current_Credit_Balance  \\\n",
       "Loan_Status                                                      \n",
       "0.0                              22639                   22639   \n",
       "1.0                              65877                   65877   \n",
       "\n",
       "             Maximum_Open_Credit  Bankruptcies  Tax_Liens  \\\n",
       "Loan_Status                                                 \n",
       "0.0                        22639         22639      22639   \n",
       "1.0                        65877         65877      65877   \n",
       "\n",
       "             Debt_To_Income_Ratio  \n",
       "Loan_Status                        \n",
       "0.0                         22639  \n",
       "1.0                         65877  "
      ]
     },
     "execution_count": 66,
     "metadata": {},
     "output_type": "execute_result"
    }
   ],
   "source": [
    "dfLoan.groupby(['Loan_Status']).count()"
   ]
  },
  {
   "cell_type": "code",
   "execution_count": 67,
   "metadata": {},
   "outputs": [
    {
     "data": {
      "text/html": [
       "<div>\n",
       "<style scoped>\n",
       "    .dataframe tbody tr th:only-of-type {\n",
       "        vertical-align: middle;\n",
       "    }\n",
       "\n",
       "    .dataframe tbody tr th {\n",
       "        vertical-align: top;\n",
       "    }\n",
       "\n",
       "    .dataframe thead th {\n",
       "        text-align: right;\n",
       "    }\n",
       "</style>\n",
       "<table border=\"1\" class=\"dataframe\">\n",
       "  <thead>\n",
       "    <tr style=\"text-align: right;\">\n",
       "      <th></th>\n",
       "      <th>Loan_Status</th>\n",
       "      <th>Current_Loan_Amount</th>\n",
       "      <th>Annual_Income</th>\n",
       "      <th>Years_in_current_job</th>\n",
       "      <th>Monthly_Debt</th>\n",
       "      <th>Years_of_Credit_History</th>\n",
       "      <th>Number_of_Open_Accounts</th>\n",
       "      <th>Number_of_Credit_Problems</th>\n",
       "      <th>Current_Credit_Balance</th>\n",
       "      <th>Maximum_Open_Credit</th>\n",
       "      <th>Bankruptcies</th>\n",
       "      <th>Tax_Liens</th>\n",
       "      <th>Debt_To_Income_Ratio</th>\n",
       "    </tr>\n",
       "  </thead>\n",
       "  <tbody>\n",
       "    <tr>\n",
       "      <th>0</th>\n",
       "      <td>1.0</td>\n",
       "      <td>445412.0</td>\n",
       "      <td>1.167493e+06</td>\n",
       "      <td>8.0</td>\n",
       "      <td>5214.74</td>\n",
       "      <td>17.2</td>\n",
       "      <td>6.0</td>\n",
       "      <td>1.0</td>\n",
       "      <td>228190.0</td>\n",
       "      <td>416746.0</td>\n",
       "      <td>1.0</td>\n",
       "      <td>0.0</td>\n",
       "      <td>0.053599</td>\n",
       "    </tr>\n",
       "    <tr>\n",
       "      <th>1</th>\n",
       "      <td>1.0</td>\n",
       "      <td>262328.0</td>\n",
       "      <td>1.378277e+06</td>\n",
       "      <td>15.0</td>\n",
       "      <td>33295.98</td>\n",
       "      <td>21.1</td>\n",
       "      <td>35.0</td>\n",
       "      <td>0.0</td>\n",
       "      <td>229976.0</td>\n",
       "      <td>850784.0</td>\n",
       "      <td>0.0</td>\n",
       "      <td>0.0</td>\n",
       "      <td>0.289892</td>\n",
       "    </tr>\n",
       "    <tr>\n",
       "      <th>3</th>\n",
       "      <td>1.0</td>\n",
       "      <td>347666.0</td>\n",
       "      <td>8.069490e+05</td>\n",
       "      <td>3.0</td>\n",
       "      <td>8741.90</td>\n",
       "      <td>12.0</td>\n",
       "      <td>9.0</td>\n",
       "      <td>0.0</td>\n",
       "      <td>256329.0</td>\n",
       "      <td>386958.0</td>\n",
       "      <td>0.0</td>\n",
       "      <td>0.0</td>\n",
       "      <td>0.129999</td>\n",
       "    </tr>\n",
       "    <tr>\n",
       "      <th>4</th>\n",
       "      <td>1.0</td>\n",
       "      <td>176220.0</td>\n",
       "      <td>1.378277e+06</td>\n",
       "      <td>5.0</td>\n",
       "      <td>20639.70</td>\n",
       "      <td>6.1</td>\n",
       "      <td>15.0</td>\n",
       "      <td>0.0</td>\n",
       "      <td>253460.0</td>\n",
       "      <td>427174.0</td>\n",
       "      <td>0.0</td>\n",
       "      <td>0.0</td>\n",
       "      <td>0.179700</td>\n",
       "    </tr>\n",
       "    <tr>\n",
       "      <th>5</th>\n",
       "      <td>0.0</td>\n",
       "      <td>206602.0</td>\n",
       "      <td>8.968570e+05</td>\n",
       "      <td>15.0</td>\n",
       "      <td>16367.74</td>\n",
       "      <td>17.3</td>\n",
       "      <td>6.0</td>\n",
       "      <td>0.0</td>\n",
       "      <td>215308.0</td>\n",
       "      <td>272448.0</td>\n",
       "      <td>0.0</td>\n",
       "      <td>0.0</td>\n",
       "      <td>0.219001</td>\n",
       "    </tr>\n",
       "  </tbody>\n",
       "</table>\n",
       "</div>"
      ],
      "text/plain": [
       "   Loan_Status  Current_Loan_Amount  Annual_Income  Years_in_current_job  \\\n",
       "0          1.0             445412.0   1.167493e+06                   8.0   \n",
       "1          1.0             262328.0   1.378277e+06                  15.0   \n",
       "3          1.0             347666.0   8.069490e+05                   3.0   \n",
       "4          1.0             176220.0   1.378277e+06                   5.0   \n",
       "5          0.0             206602.0   8.968570e+05                  15.0   \n",
       "\n",
       "   Monthly_Debt  Years_of_Credit_History  Number_of_Open_Accounts  \\\n",
       "0       5214.74                     17.2                      6.0   \n",
       "1      33295.98                     21.1                     35.0   \n",
       "3       8741.90                     12.0                      9.0   \n",
       "4      20639.70                      6.1                     15.0   \n",
       "5      16367.74                     17.3                      6.0   \n",
       "\n",
       "   Number_of_Credit_Problems  Current_Credit_Balance  Maximum_Open_Credit  \\\n",
       "0                        1.0                228190.0             416746.0   \n",
       "1                        0.0                229976.0             850784.0   \n",
       "3                        0.0                256329.0             386958.0   \n",
       "4                        0.0                253460.0             427174.0   \n",
       "5                        0.0                215308.0             272448.0   \n",
       "\n",
       "   Bankruptcies  Tax_Liens  Debt_To_Income_Ratio  \n",
       "0           1.0        0.0              0.053599  \n",
       "1           0.0        0.0              0.289892  \n",
       "3           0.0        0.0              0.129999  \n",
       "4           0.0        0.0              0.179700  \n",
       "5           0.0        0.0              0.219001  "
      ]
     },
     "execution_count": 67,
     "metadata": {},
     "output_type": "execute_result"
    }
   ],
   "source": [
    "dfLoan_num = dfLoan.select_dtypes(include=['float64'])\n",
    "dfLoan_num.head(5)"
   ]
  },
  {
   "cell_type": "code",
   "execution_count": 68,
   "metadata": {},
   "outputs": [
    {
     "data": {
      "text/html": [
       "<div>\n",
       "<style scoped>\n",
       "    .dataframe tbody tr th:only-of-type {\n",
       "        vertical-align: middle;\n",
       "    }\n",
       "\n",
       "    .dataframe tbody tr th {\n",
       "        vertical-align: top;\n",
       "    }\n",
       "\n",
       "    .dataframe thead th {\n",
       "        text-align: right;\n",
       "    }\n",
       "</style>\n",
       "<table border=\"1\" class=\"dataframe\">\n",
       "  <thead>\n",
       "    <tr style=\"text-align: right;\">\n",
       "      <th></th>\n",
       "      <th>Term</th>\n",
       "      <th>Credit_Score</th>\n",
       "      <th>Home_Ownership</th>\n",
       "      <th>Purpose</th>\n",
       "    </tr>\n",
       "  </thead>\n",
       "  <tbody>\n",
       "    <tr>\n",
       "      <th>0</th>\n",
       "      <td>Short Term</td>\n",
       "      <td>Good</td>\n",
       "      <td>Home Mortgage</td>\n",
       "      <td>Home Improvements</td>\n",
       "    </tr>\n",
       "    <tr>\n",
       "      <th>1</th>\n",
       "      <td>Short Term</td>\n",
       "      <td>Good</td>\n",
       "      <td>Home Mortgage</td>\n",
       "      <td>Debt Consolidation</td>\n",
       "    </tr>\n",
       "    <tr>\n",
       "      <th>3</th>\n",
       "      <td>Long Term</td>\n",
       "      <td>Good</td>\n",
       "      <td>Own Home</td>\n",
       "      <td>Debt Consolidation</td>\n",
       "    </tr>\n",
       "    <tr>\n",
       "      <th>4</th>\n",
       "      <td>Short Term</td>\n",
       "      <td>Good</td>\n",
       "      <td>Rent</td>\n",
       "      <td>Debt Consolidation</td>\n",
       "    </tr>\n",
       "    <tr>\n",
       "      <th>5</th>\n",
       "      <td>Short Term</td>\n",
       "      <td>Good</td>\n",
       "      <td>Home Mortgage</td>\n",
       "      <td>Debt Consolidation</td>\n",
       "    </tr>\n",
       "  </tbody>\n",
       "</table>\n",
       "</div>"
      ],
      "text/plain": [
       "         Term Credit_Score Home_Ownership             Purpose\n",
       "0  Short Term         Good  Home Mortgage   Home Improvements\n",
       "1  Short Term         Good  Home Mortgage  Debt Consolidation\n",
       "3   Long Term         Good       Own Home  Debt Consolidation\n",
       "4  Short Term         Good           Rent  Debt Consolidation\n",
       "5  Short Term         Good  Home Mortgage  Debt Consolidation"
      ]
     },
     "execution_count": 68,
     "metadata": {},
     "output_type": "execute_result"
    }
   ],
   "source": [
    "dfLoan_cat = dfLoan.select_dtypes(include=[object])\n",
    "dfLoan_cat.head(5)"
   ]
  },
  {
   "cell_type": "code",
   "execution_count": 69,
   "metadata": {},
   "outputs": [],
   "source": [
    "from sklearn.preprocessing import LabelEncoder\n",
    "le_Term = LabelEncoder()\n",
    "le_Credit_Score = LabelEncoder()\n",
    "le_HomeOwnership = LabelEncoder()\n",
    "le_Purpose = LabelEncoder()\n",
    "dfLoan['Term'] = le_Term.fit_transform(dfLoan.Term)\n",
    "dfLoan['Credit_Score'] = le_Credit_Score.fit_transform(dfLoan.Credit_Score)\n",
    "dfLoan['Home_Ownership'] = le_HomeOwnership.fit_transform(dfLoan.Home_Ownership)\n",
    "dfLoan['Purpose'] = le_Purpose.fit_transform(dfLoan.Purpose)"
   ]
  },
  {
   "cell_type": "code",
   "execution_count": 70,
   "metadata": {
    "scrolled": true
   },
   "outputs": [
    {
     "data": {
      "text/html": [
       "<div>\n",
       "<style scoped>\n",
       "    .dataframe tbody tr th:only-of-type {\n",
       "        vertical-align: middle;\n",
       "    }\n",
       "\n",
       "    .dataframe tbody tr th {\n",
       "        vertical-align: top;\n",
       "    }\n",
       "\n",
       "    .dataframe thead th {\n",
       "        text-align: right;\n",
       "    }\n",
       "</style>\n",
       "<table border=\"1\" class=\"dataframe\">\n",
       "  <thead>\n",
       "    <tr style=\"text-align: right;\">\n",
       "      <th></th>\n",
       "      <th>Loan_Status</th>\n",
       "      <th>Current_Loan_Amount</th>\n",
       "      <th>Term</th>\n",
       "      <th>Credit_Score</th>\n",
       "      <th>Annual_Income</th>\n",
       "      <th>Years_in_current_job</th>\n",
       "      <th>Home_Ownership</th>\n",
       "      <th>Purpose</th>\n",
       "      <th>Monthly_Debt</th>\n",
       "      <th>Years_of_Credit_History</th>\n",
       "      <th>Number_of_Open_Accounts</th>\n",
       "      <th>Number_of_Credit_Problems</th>\n",
       "      <th>Current_Credit_Balance</th>\n",
       "      <th>Maximum_Open_Credit</th>\n",
       "      <th>Bankruptcies</th>\n",
       "      <th>Tax_Liens</th>\n",
       "      <th>Debt_To_Income_Ratio</th>\n",
       "    </tr>\n",
       "  </thead>\n",
       "  <tbody>\n",
       "    <tr>\n",
       "      <th>0</th>\n",
       "      <td>1.0</td>\n",
       "      <td>445412.0</td>\n",
       "      <td>1</td>\n",
       "      <td>1</td>\n",
       "      <td>1.167493e+06</td>\n",
       "      <td>8.0</td>\n",
       "      <td>1</td>\n",
       "      <td>5</td>\n",
       "      <td>5214.74</td>\n",
       "      <td>17.2</td>\n",
       "      <td>6.0</td>\n",
       "      <td>1.0</td>\n",
       "      <td>228190.0</td>\n",
       "      <td>416746.0</td>\n",
       "      <td>1.0</td>\n",
       "      <td>0.0</td>\n",
       "      <td>0.053599</td>\n",
       "    </tr>\n",
       "    <tr>\n",
       "      <th>1</th>\n",
       "      <td>1.0</td>\n",
       "      <td>262328.0</td>\n",
       "      <td>1</td>\n",
       "      <td>1</td>\n",
       "      <td>1.378277e+06</td>\n",
       "      <td>15.0</td>\n",
       "      <td>1</td>\n",
       "      <td>3</td>\n",
       "      <td>33295.98</td>\n",
       "      <td>21.1</td>\n",
       "      <td>35.0</td>\n",
       "      <td>0.0</td>\n",
       "      <td>229976.0</td>\n",
       "      <td>850784.0</td>\n",
       "      <td>0.0</td>\n",
       "      <td>0.0</td>\n",
       "      <td>0.289892</td>\n",
       "    </tr>\n",
       "    <tr>\n",
       "      <th>3</th>\n",
       "      <td>1.0</td>\n",
       "      <td>347666.0</td>\n",
       "      <td>0</td>\n",
       "      <td>1</td>\n",
       "      <td>8.069490e+05</td>\n",
       "      <td>3.0</td>\n",
       "      <td>2</td>\n",
       "      <td>3</td>\n",
       "      <td>8741.90</td>\n",
       "      <td>12.0</td>\n",
       "      <td>9.0</td>\n",
       "      <td>0.0</td>\n",
       "      <td>256329.0</td>\n",
       "      <td>386958.0</td>\n",
       "      <td>0.0</td>\n",
       "      <td>0.0</td>\n",
       "      <td>0.129999</td>\n",
       "    </tr>\n",
       "    <tr>\n",
       "      <th>4</th>\n",
       "      <td>1.0</td>\n",
       "      <td>176220.0</td>\n",
       "      <td>1</td>\n",
       "      <td>1</td>\n",
       "      <td>1.378277e+06</td>\n",
       "      <td>5.0</td>\n",
       "      <td>3</td>\n",
       "      <td>3</td>\n",
       "      <td>20639.70</td>\n",
       "      <td>6.1</td>\n",
       "      <td>15.0</td>\n",
       "      <td>0.0</td>\n",
       "      <td>253460.0</td>\n",
       "      <td>427174.0</td>\n",
       "      <td>0.0</td>\n",
       "      <td>0.0</td>\n",
       "      <td>0.179700</td>\n",
       "    </tr>\n",
       "    <tr>\n",
       "      <th>5</th>\n",
       "      <td>0.0</td>\n",
       "      <td>206602.0</td>\n",
       "      <td>1</td>\n",
       "      <td>1</td>\n",
       "      <td>8.968570e+05</td>\n",
       "      <td>15.0</td>\n",
       "      <td>1</td>\n",
       "      <td>3</td>\n",
       "      <td>16367.74</td>\n",
       "      <td>17.3</td>\n",
       "      <td>6.0</td>\n",
       "      <td>0.0</td>\n",
       "      <td>215308.0</td>\n",
       "      <td>272448.0</td>\n",
       "      <td>0.0</td>\n",
       "      <td>0.0</td>\n",
       "      <td>0.219001</td>\n",
       "    </tr>\n",
       "  </tbody>\n",
       "</table>\n",
       "</div>"
      ],
      "text/plain": [
       "   Loan_Status  Current_Loan_Amount  Term  Credit_Score  Annual_Income  \\\n",
       "0          1.0             445412.0     1             1   1.167493e+06   \n",
       "1          1.0             262328.0     1             1   1.378277e+06   \n",
       "3          1.0             347666.0     0             1   8.069490e+05   \n",
       "4          1.0             176220.0     1             1   1.378277e+06   \n",
       "5          0.0             206602.0     1             1   8.968570e+05   \n",
       "\n",
       "   Years_in_current_job  Home_Ownership  Purpose  Monthly_Debt  \\\n",
       "0                   8.0               1        5       5214.74   \n",
       "1                  15.0               1        3      33295.98   \n",
       "3                   3.0               2        3       8741.90   \n",
       "4                   5.0               3        3      20639.70   \n",
       "5                  15.0               1        3      16367.74   \n",
       "\n",
       "   Years_of_Credit_History  Number_of_Open_Accounts  \\\n",
       "0                     17.2                      6.0   \n",
       "1                     21.1                     35.0   \n",
       "3                     12.0                      9.0   \n",
       "4                      6.1                     15.0   \n",
       "5                     17.3                      6.0   \n",
       "\n",
       "   Number_of_Credit_Problems  Current_Credit_Balance  Maximum_Open_Credit  \\\n",
       "0                        1.0                228190.0             416746.0   \n",
       "1                        0.0                229976.0             850784.0   \n",
       "3                        0.0                256329.0             386958.0   \n",
       "4                        0.0                253460.0             427174.0   \n",
       "5                        0.0                215308.0             272448.0   \n",
       "\n",
       "   Bankruptcies  Tax_Liens  Debt_To_Income_Ratio  \n",
       "0           1.0        0.0              0.053599  \n",
       "1           0.0        0.0              0.289892  \n",
       "3           0.0        0.0              0.129999  \n",
       "4           0.0        0.0              0.179700  \n",
       "5           0.0        0.0              0.219001  "
      ]
     },
     "execution_count": 70,
     "metadata": {},
     "output_type": "execute_result"
    }
   ],
   "source": [
    "dfLoan.head(5)"
   ]
  },
  {
   "cell_type": "code",
   "execution_count": 71,
   "metadata": {},
   "outputs": [
    {
     "data": {
      "text/plain": [
       "Debt_To_Income_Ratio        -0.074681\n",
       "Home_Ownership              -0.055579\n",
       "Current_Loan_Amount         -0.039850\n",
       "Number_of_Open_Accounts     -0.013050\n",
       "Tax_Liens                   -0.010553\n",
       "Monthly_Debt                -0.006696\n",
       "Number_of_Credit_Problems   -0.002043\n",
       "Purpose                      0.000253\n",
       "Bankruptcies                 0.007184\n",
       "Maximum_Open_Credit          0.008881\n",
       "Years_in_current_job         0.008928\n",
       "Current_Credit_Balance       0.010018\n",
       "Years_of_Credit_History      0.021840\n",
       "Annual_Income                0.048022\n",
       "Credit_Score                 0.092475\n",
       "Term                         0.105838\n",
       "Loan_Status                  1.000000\n",
       "Name: Loan_Status, dtype: float64"
      ]
     },
     "execution_count": 71,
     "metadata": {},
     "output_type": "execute_result"
    }
   ],
   "source": [
    "dfLoan.corr()['Loan_Status'].sort_values()"
   ]
  },
  {
   "cell_type": "code",
   "execution_count": 72,
   "metadata": {},
   "outputs": [
    {
     "data": {
      "image/png": "[encoded data removed]",
      "text/plain": [
       "<Figure size 432x288 with 2 Axes>"
      ]
     },
     "metadata": {
      "needs_background": "light"
     },
     "output_type": "display_data"
    }
   ],
   "source": [
    "sns.heatmap(dfLoan.iloc[:, 1:].corr(), center=0);"
   ]
  },
  {
   "cell_type": "code",
   "execution_count": 73,
   "metadata": {},
   "outputs": [],
   "source": [
    "#Load cleaned dataset to csv file\n",
    "\n",
    "dfLoan.to_csv('creditTrain_cleaned.csv',index=False)\n"
   ]
  },
  {
   "cell_type": "code",
   "execution_count": 74,
   "metadata": {},
   "outputs": [
    {
     "name": "stdout",
     "output_type": "stream",
     "text": [
      "X: (88516, 16)\n",
      "y: (88516,)\n"
     ]
    }
   ],
   "source": [
    "X = dfLoan.drop(\"Loan_Status\",axis=1)\n",
    "y = dfLoan['Loan_Status']\n",
    "print('X:', X.shape)\n",
    "print('y:', y.shape)"
   ]
  },
  {
   "cell_type": "code",
   "execution_count": 75,
   "metadata": {},
   "outputs": [
    {
     "data": {
      "text/plain": [
       "Index(['Current_Loan_Amount', 'Term', 'Credit_Score', 'Annual_Income',\n",
       "       'Years_in_current_job', 'Home_Ownership', 'Purpose', 'Monthly_Debt',\n",
       "       'Years_of_Credit_History', 'Number_of_Open_Accounts',\n",
       "       'Number_of_Credit_Problems', 'Current_Credit_Balance',\n",
       "       'Maximum_Open_Credit', 'Bankruptcies', 'Tax_Liens',\n",
       "       'Debt_To_Income_Ratio'],\n",
       "      dtype='object')"
      ]
     },
     "execution_count": 75,
     "metadata": {},
     "output_type": "execute_result"
    }
   ],
   "source": [
    "X.columns"
   ]
  },
  {
   "cell_type": "markdown",
   "metadata": {},
   "source": [
    "## Exploring/cleaning credit_test dataset\n",
    "\n",
    "This dataset does not contain the target column which is the Loan_Status hence we will use this dataset in doing predictions."
   ]
  },
  {
   "cell_type": "code",
   "execution_count": 76,
   "metadata": {},
   "outputs": [
    {
     "data": {
      "text/plain": [
       "(10353, 18)"
      ]
     },
     "execution_count": 76,
     "metadata": {},
     "output_type": "execute_result"
    }
   ],
   "source": [
    "df_test.shape"
   ]
  },
  {
   "cell_type": "code",
   "execution_count": 77,
   "metadata": {},
   "outputs": [
    {
     "data": {
      "text/plain": [
       "Index(['Loan ID', 'Customer ID', 'Current Loan Amount', 'Term', 'Credit Score',\n",
       "       'Annual Income', 'Years in current job', 'Home Ownership', 'Purpose',\n",
       "       'Monthly Debt', 'Years of Credit History',\n",
       "       'Months since last delinquent', 'Number of Open Accounts',\n",
       "       'Number of Credit Problems', 'Current Credit Balance',\n",
       "       'Maximum Open Credit', 'Bankruptcies', 'Tax Liens'],\n",
       "      dtype='object')"
      ]
     },
     "execution_count": 77,
     "metadata": {},
     "output_type": "execute_result"
    }
   ],
   "source": [
    "df_test.columns"
   ]
  },
  {
   "cell_type": "markdown",
   "metadata": {},
   "source": [
    "Replace spaces in all column names with space with underscore."
   ]
  },
  {
   "cell_type": "code",
   "execution_count": 78,
   "metadata": {},
   "outputs": [],
   "source": [
    "df_test.columns = [c.replace(' ', '_') for c in df_test.columns]"
   ]
  },
  {
   "cell_type": "code",
   "execution_count": 79,
   "metadata": {},
   "outputs": [
    {
     "data": {
      "text/plain": [
       "Index(['Loan_ID', 'Customer_ID', 'Current_Loan_Amount', 'Term', 'Credit_Score',\n",
       "       'Annual_Income', 'Years_in_current_job', 'Home_Ownership', 'Purpose',\n",
       "       'Monthly_Debt', 'Years_of_Credit_History',\n",
       "       'Months_since_last_delinquent', 'Number_of_Open_Accounts',\n",
       "       'Number_of_Credit_Problems', 'Current_Credit_Balance',\n",
       "       'Maximum_Open_Credit', 'Bankruptcies', 'Tax_Liens'],\n",
       "      dtype='object')"
      ]
     },
     "execution_count": 79,
     "metadata": {},
     "output_type": "execute_result"
    }
   ],
   "source": [
    "df_test.columns"
   ]
  },
  {
   "cell_type": "code",
   "execution_count": 80,
   "metadata": {},
   "outputs": [
    {
     "data": {
      "text/plain": [
       "Loan_ID                          353\n",
       "Customer_ID                      353\n",
       "Current_Loan_Amount              353\n",
       "Term                             353\n",
       "Credit_Score                    2334\n",
       "Annual_Income                   2334\n",
       "Years_in_current_job             780\n",
       "Home_Ownership                   353\n",
       "Purpose                          353\n",
       "Monthly_Debt                     353\n",
       "Years_of_Credit_History          353\n",
       "Months_since_last_delinquent    5659\n",
       "Number_of_Open_Accounts          353\n",
       "Number_of_Credit_Problems        353\n",
       "Current_Credit_Balance           353\n",
       "Maximum_Open_Credit              353\n",
       "Bankruptcies                     375\n",
       "Tax_Liens                        354\n",
       "dtype: int64"
      ]
     },
     "execution_count": 80,
     "metadata": {},
     "output_type": "execute_result"
    }
   ],
   "source": [
    "df_test.isnull().sum()"
   ]
  },
  {
   "cell_type": "code",
   "execution_count": 81,
   "metadata": {},
   "outputs": [],
   "source": [
    "null_Loan_ID_tst = df_test[df_test['Loan_ID'].isna()]"
   ]
  },
  {
   "cell_type": "code",
   "execution_count": 82,
   "metadata": {},
   "outputs": [
    {
     "data": {
      "text/html": [
       "<div>\n",
       "<style scoped>\n",
       "    .dataframe tbody tr th:only-of-type {\n",
       "        vertical-align: middle;\n",
       "    }\n",
       "\n",
       "    .dataframe tbody tr th {\n",
       "        vertical-align: top;\n",
       "    }\n",
       "\n",
       "    .dataframe thead th {\n",
       "        text-align: right;\n",
       "    }\n",
       "</style>\n",
       "<table border=\"1\" class=\"dataframe\">\n",
       "  <thead>\n",
       "    <tr style=\"text-align: right;\">\n",
       "      <th></th>\n",
       "      <th>Loan_ID</th>\n",
       "      <th>Customer_ID</th>\n",
       "      <th>Current_Loan_Amount</th>\n",
       "      <th>Term</th>\n",
       "      <th>Credit_Score</th>\n",
       "      <th>Annual_Income</th>\n",
       "      <th>Years_in_current_job</th>\n",
       "      <th>Home_Ownership</th>\n",
       "      <th>Purpose</th>\n",
       "      <th>Monthly_Debt</th>\n",
       "      <th>Years_of_Credit_History</th>\n",
       "      <th>Months_since_last_delinquent</th>\n",
       "      <th>Number_of_Open_Accounts</th>\n",
       "      <th>Number_of_Credit_Problems</th>\n",
       "      <th>Current_Credit_Balance</th>\n",
       "      <th>Maximum_Open_Credit</th>\n",
       "      <th>Bankruptcies</th>\n",
       "      <th>Tax_Liens</th>\n",
       "    </tr>\n",
       "  </thead>\n",
       "  <tbody>\n",
       "    <tr>\n",
       "      <th>10000</th>\n",
       "      <td>NaN</td>\n",
       "      <td>NaN</td>\n",
       "      <td>NaN</td>\n",
       "      <td>NaN</td>\n",
       "      <td>NaN</td>\n",
       "      <td>NaN</td>\n",
       "      <td>NaN</td>\n",
       "      <td>NaN</td>\n",
       "      <td>NaN</td>\n",
       "      <td>NaN</td>\n",
       "      <td>NaN</td>\n",
       "      <td>NaN</td>\n",
       "      <td>NaN</td>\n",
       "      <td>NaN</td>\n",
       "      <td>NaN</td>\n",
       "      <td>NaN</td>\n",
       "      <td>NaN</td>\n",
       "      <td>NaN</td>\n",
       "    </tr>\n",
       "    <tr>\n",
       "      <th>10001</th>\n",
       "      <td>NaN</td>\n",
       "      <td>NaN</td>\n",
       "      <td>NaN</td>\n",
       "      <td>NaN</td>\n",
       "      <td>NaN</td>\n",
       "      <td>NaN</td>\n",
       "      <td>NaN</td>\n",
       "      <td>NaN</td>\n",
       "      <td>NaN</td>\n",
       "      <td>NaN</td>\n",
       "      <td>NaN</td>\n",
       "      <td>NaN</td>\n",
       "      <td>NaN</td>\n",
       "      <td>NaN</td>\n",
       "      <td>NaN</td>\n",
       "      <td>NaN</td>\n",
       "      <td>NaN</td>\n",
       "      <td>NaN</td>\n",
       "    </tr>\n",
       "    <tr>\n",
       "      <th>10002</th>\n",
       "      <td>NaN</td>\n",
       "      <td>NaN</td>\n",
       "      <td>NaN</td>\n",
       "      <td>NaN</td>\n",
       "      <td>NaN</td>\n",
       "      <td>NaN</td>\n",
       "      <td>NaN</td>\n",
       "      <td>NaN</td>\n",
       "      <td>NaN</td>\n",
       "      <td>NaN</td>\n",
       "      <td>NaN</td>\n",
       "      <td>NaN</td>\n",
       "      <td>NaN</td>\n",
       "      <td>NaN</td>\n",
       "      <td>NaN</td>\n",
       "      <td>NaN</td>\n",
       "      <td>NaN</td>\n",
       "      <td>NaN</td>\n",
       "    </tr>\n",
       "    <tr>\n",
       "      <th>10003</th>\n",
       "      <td>NaN</td>\n",
       "      <td>NaN</td>\n",
       "      <td>NaN</td>\n",
       "      <td>NaN</td>\n",
       "      <td>NaN</td>\n",
       "      <td>NaN</td>\n",
       "      <td>NaN</td>\n",
       "      <td>NaN</td>\n",
       "      <td>NaN</td>\n",
       "      <td>NaN</td>\n",
       "      <td>NaN</td>\n",
       "      <td>NaN</td>\n",
       "      <td>NaN</td>\n",
       "      <td>NaN</td>\n",
       "      <td>NaN</td>\n",
       "      <td>NaN</td>\n",
       "      <td>NaN</td>\n",
       "      <td>NaN</td>\n",
       "    </tr>\n",
       "    <tr>\n",
       "      <th>10004</th>\n",
       "      <td>NaN</td>\n",
       "      <td>NaN</td>\n",
       "      <td>NaN</td>\n",
       "      <td>NaN</td>\n",
       "      <td>NaN</td>\n",
       "      <td>NaN</td>\n",
       "      <td>NaN</td>\n",
       "      <td>NaN</td>\n",
       "      <td>NaN</td>\n",
       "      <td>NaN</td>\n",
       "      <td>NaN</td>\n",
       "      <td>NaN</td>\n",
       "      <td>NaN</td>\n",
       "      <td>NaN</td>\n",
       "      <td>NaN</td>\n",
       "      <td>NaN</td>\n",
       "      <td>NaN</td>\n",
       "      <td>NaN</td>\n",
       "    </tr>\n",
       "  </tbody>\n",
       "</table>\n",
       "</div>"
      ],
      "text/plain": [
       "      Loan_ID Customer_ID  Current_Loan_Amount Term  Credit_Score  \\\n",
       "10000     NaN         NaN                  NaN  NaN           NaN   \n",
       "10001     NaN         NaN                  NaN  NaN           NaN   \n",
       "10002     NaN         NaN                  NaN  NaN           NaN   \n",
       "10003     NaN         NaN                  NaN  NaN           NaN   \n",
       "10004     NaN         NaN                  NaN  NaN           NaN   \n",
       "\n",
       "       Annual_Income Years_in_current_job Home_Ownership Purpose  \\\n",
       "10000            NaN                  NaN            NaN     NaN   \n",
       "10001            NaN                  NaN            NaN     NaN   \n",
       "10002            NaN                  NaN            NaN     NaN   \n",
       "10003            NaN                  NaN            NaN     NaN   \n",
       "10004            NaN                  NaN            NaN     NaN   \n",
       "\n",
       "       Monthly_Debt  Years_of_Credit_History  Months_since_last_delinquent  \\\n",
       "10000           NaN                      NaN                           NaN   \n",
       "10001           NaN                      NaN                           NaN   \n",
       "10002           NaN                      NaN                           NaN   \n",
       "10003           NaN                      NaN                           NaN   \n",
       "10004           NaN                      NaN                           NaN   \n",
       "\n",
       "       Number_of_Open_Accounts  Number_of_Credit_Problems  \\\n",
       "10000                      NaN                        NaN   \n",
       "10001                      NaN                        NaN   \n",
       "10002                      NaN                        NaN   \n",
       "10003                      NaN                        NaN   \n",
       "10004                      NaN                        NaN   \n",
       "\n",
       "       Current_Credit_Balance  Maximum_Open_Credit  Bankruptcies  Tax_Liens  \n",
       "10000                     NaN                  NaN           NaN        NaN  \n",
       "10001                     NaN                  NaN           NaN        NaN  \n",
       "10002                     NaN                  NaN           NaN        NaN  \n",
       "10003                     NaN                  NaN           NaN        NaN  \n",
       "10004                     NaN                  NaN           NaN        NaN  "
      ]
     },
     "execution_count": 82,
     "metadata": {},
     "output_type": "execute_result"
    }
   ],
   "source": [
    "null_Loan_ID_tst.head(5)"
   ]
  },
  {
   "cell_type": "code",
   "execution_count": 83,
   "metadata": {},
   "outputs": [
    {
     "data": {
      "text/html": [
       "<div>\n",
       "<style scoped>\n",
       "    .dataframe tbody tr th:only-of-type {\n",
       "        vertical-align: middle;\n",
       "    }\n",
       "\n",
       "    .dataframe tbody tr th {\n",
       "        vertical-align: top;\n",
       "    }\n",
       "\n",
       "    .dataframe thead th {\n",
       "        text-align: right;\n",
       "    }\n",
       "</style>\n",
       "<table border=\"1\" class=\"dataframe\">\n",
       "  <thead>\n",
       "    <tr style=\"text-align: right;\">\n",
       "      <th></th>\n",
       "      <th>Loan_ID</th>\n",
       "      <th>Customer_ID</th>\n",
       "      <th>Current_Loan_Amount</th>\n",
       "      <th>Term</th>\n",
       "      <th>Credit_Score</th>\n",
       "      <th>Annual_Income</th>\n",
       "      <th>Years_in_current_job</th>\n",
       "      <th>Home_Ownership</th>\n",
       "      <th>Purpose</th>\n",
       "      <th>Monthly_Debt</th>\n",
       "      <th>Years_of_Credit_History</th>\n",
       "      <th>Months_since_last_delinquent</th>\n",
       "      <th>Number_of_Open_Accounts</th>\n",
       "      <th>Number_of_Credit_Problems</th>\n",
       "      <th>Current_Credit_Balance</th>\n",
       "      <th>Maximum_Open_Credit</th>\n",
       "      <th>Bankruptcies</th>\n",
       "      <th>Tax_Liens</th>\n",
       "    </tr>\n",
       "  </thead>\n",
       "  <tbody>\n",
       "    <tr>\n",
       "      <th>10348</th>\n",
       "      <td>NaN</td>\n",
       "      <td>NaN</td>\n",
       "      <td>NaN</td>\n",
       "      <td>NaN</td>\n",
       "      <td>NaN</td>\n",
       "      <td>NaN</td>\n",
       "      <td>NaN</td>\n",
       "      <td>NaN</td>\n",
       "      <td>NaN</td>\n",
       "      <td>NaN</td>\n",
       "      <td>NaN</td>\n",
       "      <td>NaN</td>\n",
       "      <td>NaN</td>\n",
       "      <td>NaN</td>\n",
       "      <td>NaN</td>\n",
       "      <td>NaN</td>\n",
       "      <td>NaN</td>\n",
       "      <td>NaN</td>\n",
       "    </tr>\n",
       "    <tr>\n",
       "      <th>10349</th>\n",
       "      <td>NaN</td>\n",
       "      <td>NaN</td>\n",
       "      <td>NaN</td>\n",
       "      <td>NaN</td>\n",
       "      <td>NaN</td>\n",
       "      <td>NaN</td>\n",
       "      <td>NaN</td>\n",
       "      <td>NaN</td>\n",
       "      <td>NaN</td>\n",
       "      <td>NaN</td>\n",
       "      <td>NaN</td>\n",
       "      <td>NaN</td>\n",
       "      <td>NaN</td>\n",
       "      <td>NaN</td>\n",
       "      <td>NaN</td>\n",
       "      <td>NaN</td>\n",
       "      <td>NaN</td>\n",
       "      <td>NaN</td>\n",
       "    </tr>\n",
       "    <tr>\n",
       "      <th>10350</th>\n",
       "      <td>NaN</td>\n",
       "      <td>NaN</td>\n",
       "      <td>NaN</td>\n",
       "      <td>NaN</td>\n",
       "      <td>NaN</td>\n",
       "      <td>NaN</td>\n",
       "      <td>NaN</td>\n",
       "      <td>NaN</td>\n",
       "      <td>NaN</td>\n",
       "      <td>NaN</td>\n",
       "      <td>NaN</td>\n",
       "      <td>NaN</td>\n",
       "      <td>NaN</td>\n",
       "      <td>NaN</td>\n",
       "      <td>NaN</td>\n",
       "      <td>NaN</td>\n",
       "      <td>NaN</td>\n",
       "      <td>NaN</td>\n",
       "    </tr>\n",
       "    <tr>\n",
       "      <th>10351</th>\n",
       "      <td>NaN</td>\n",
       "      <td>NaN</td>\n",
       "      <td>NaN</td>\n",
       "      <td>NaN</td>\n",
       "      <td>NaN</td>\n",
       "      <td>NaN</td>\n",
       "      <td>NaN</td>\n",
       "      <td>NaN</td>\n",
       "      <td>NaN</td>\n",
       "      <td>NaN</td>\n",
       "      <td>NaN</td>\n",
       "      <td>NaN</td>\n",
       "      <td>NaN</td>\n",
       "      <td>NaN</td>\n",
       "      <td>NaN</td>\n",
       "      <td>NaN</td>\n",
       "      <td>NaN</td>\n",
       "      <td>NaN</td>\n",
       "    </tr>\n",
       "    <tr>\n",
       "      <th>10352</th>\n",
       "      <td>NaN</td>\n",
       "      <td>NaN</td>\n",
       "      <td>NaN</td>\n",
       "      <td>NaN</td>\n",
       "      <td>NaN</td>\n",
       "      <td>NaN</td>\n",
       "      <td>NaN</td>\n",
       "      <td>NaN</td>\n",
       "      <td>NaN</td>\n",
       "      <td>NaN</td>\n",
       "      <td>NaN</td>\n",
       "      <td>NaN</td>\n",
       "      <td>NaN</td>\n",
       "      <td>NaN</td>\n",
       "      <td>NaN</td>\n",
       "      <td>NaN</td>\n",
       "      <td>NaN</td>\n",
       "      <td>NaN</td>\n",
       "    </tr>\n",
       "  </tbody>\n",
       "</table>\n",
       "</div>"
      ],
      "text/plain": [
       "      Loan_ID Customer_ID  Current_Loan_Amount Term  Credit_Score  \\\n",
       "10348     NaN         NaN                  NaN  NaN           NaN   \n",
       "10349     NaN         NaN                  NaN  NaN           NaN   \n",
       "10350     NaN         NaN                  NaN  NaN           NaN   \n",
       "10351     NaN         NaN                  NaN  NaN           NaN   \n",
       "10352     NaN         NaN                  NaN  NaN           NaN   \n",
       "\n",
       "       Annual_Income Years_in_current_job Home_Ownership Purpose  \\\n",
       "10348            NaN                  NaN            NaN     NaN   \n",
       "10349            NaN                  NaN            NaN     NaN   \n",
       "10350            NaN                  NaN            NaN     NaN   \n",
       "10351            NaN                  NaN            NaN     NaN   \n",
       "10352            NaN                  NaN            NaN     NaN   \n",
       "\n",
       "       Monthly_Debt  Years_of_Credit_History  Months_since_last_delinquent  \\\n",
       "10348           NaN                      NaN                           NaN   \n",
       "10349           NaN                      NaN                           NaN   \n",
       "10350           NaN                      NaN                           NaN   \n",
       "10351           NaN                      NaN                           NaN   \n",
       "10352           NaN                      NaN                           NaN   \n",
       "\n",
       "       Number_of_Open_Accounts  Number_of_Credit_Problems  \\\n",
       "10348                      NaN                        NaN   \n",
       "10349                      NaN                        NaN   \n",
       "10350                      NaN                        NaN   \n",
       "10351                      NaN                        NaN   \n",
       "10352                      NaN                        NaN   \n",
       "\n",
       "       Current_Credit_Balance  Maximum_Open_Credit  Bankruptcies  Tax_Liens  \n",
       "10348                     NaN                  NaN           NaN        NaN  \n",
       "10349                     NaN                  NaN           NaN        NaN  \n",
       "10350                     NaN                  NaN           NaN        NaN  \n",
       "10351                     NaN                  NaN           NaN        NaN  \n",
       "10352                     NaN                  NaN           NaN        NaN  "
      ]
     },
     "execution_count": 83,
     "metadata": {},
     "output_type": "execute_result"
    }
   ],
   "source": [
    "null_Loan_ID_tst.tail(5)"
   ]
  },
  {
   "cell_type": "code",
   "execution_count": 84,
   "metadata": {},
   "outputs": [],
   "source": [
    "dfLoanTst = df_test[df_test['Loan_ID'].notnull()]"
   ]
  },
  {
   "cell_type": "markdown",
   "metadata": {},
   "source": [
    "As shown above, where Loan_ID is null, the values of the rest of the columns are all nulls as well. We will just drop these rows as these will not be relevant in testing the model."
   ]
  },
  {
   "cell_type": "code",
   "execution_count": 85,
   "metadata": {},
   "outputs": [
    {
     "data": {
      "text/plain": [
       "Loan_ID                            0\n",
       "Customer_ID                        0\n",
       "Current_Loan_Amount                0\n",
       "Term                               0\n",
       "Credit_Score                    1981\n",
       "Annual_Income                   1981\n",
       "Years_in_current_job             427\n",
       "Home_Ownership                     0\n",
       "Purpose                            0\n",
       "Monthly_Debt                       0\n",
       "Years_of_Credit_History            0\n",
       "Months_since_last_delinquent    5306\n",
       "Number_of_Open_Accounts            0\n",
       "Number_of_Credit_Problems          0\n",
       "Current_Credit_Balance             0\n",
       "Maximum_Open_Credit                0\n",
       "Bankruptcies                      22\n",
       "Tax_Liens                          1\n",
       "dtype: int64"
      ]
     },
     "execution_count": 85,
     "metadata": {},
     "output_type": "execute_result"
    }
   ],
   "source": [
    "dfLoanTst.isnull().sum()"
   ]
  },
  {
   "cell_type": "code",
   "execution_count": 86,
   "metadata": {},
   "outputs": [],
   "source": [
    "dfLoanTst = dfLoanTst.drop(['Months_since_last_delinquent','Loan_ID', 'Customer_ID'], axis=1)"
   ]
  },
  {
   "cell_type": "code",
   "execution_count": 87,
   "metadata": {},
   "outputs": [
    {
     "data": {
      "text/plain": [
       "Index(['Current_Loan_Amount', 'Term', 'Credit_Score', 'Annual_Income',\n",
       "       'Years_in_current_job', 'Home_Ownership', 'Purpose', 'Monthly_Debt',\n",
       "       'Years_of_Credit_History', 'Number_of_Open_Accounts',\n",
       "       'Number_of_Credit_Problems', 'Current_Credit_Balance',\n",
       "       'Maximum_Open_Credit', 'Bankruptcies', 'Tax_Liens'],\n",
       "      dtype='object')"
      ]
     },
     "execution_count": 87,
     "metadata": {},
     "output_type": "execute_result"
    }
   ],
   "source": [
    "dfLoanTst.columns"
   ]
  },
  {
   "cell_type": "code",
   "execution_count": 88,
   "metadata": {},
   "outputs": [],
   "source": [
    "dfLoanTst['Years_in_current_job'] = dfLoanTst['Years_in_current_job'].map({'< 1 year':0.5,'2 years':2,'3 years':3,'4 years':4,'5 years':5,\n",
    "'6 years':6, '7 years':7,'8 years':8,'9 years':9, '10+ years':15})"
   ]
  },
  {
   "cell_type": "markdown",
   "metadata": {},
   "source": [
    "### Cleaning credit score\n"
   ]
  },
  {
   "cell_type": "markdown",
   "metadata": {},
   "source": [
    "Note that credit score attribute based from the data has values above 850 and seems that zero were added at the end, so we\n",
    " will need to remove the zeo for credit score above 850 by dividing credit score by 10\n",
    " dfLoan[\"Credit Score\",\">850\"]\n",
    " "
   ]
  },
  {
   "cell_type": "code",
   "execution_count": 89,
   "metadata": {},
   "outputs": [],
   "source": [
    "dfLoanTst['Credit_Score'] = dfLoanTst['Credit_Score'].apply(lambda val: (val /10) if val>850 else val)"
   ]
  },
  {
   "cell_type": "code",
   "execution_count": 90,
   "metadata": {
    "scrolled": true
   },
   "outputs": [
    {
     "data": {
      "text/plain": [
       "array([747., 734., 709., 727., 744., 741., 733.,  nan, 736., 683., 723.,\n",
       "       680., 696., 729., 742., 715., 722., 740., 708., 705., 738., 717.,\n",
       "       706., 647., 712., 704., 646., 682., 713., 716., 649., 688., 702.,\n",
       "       674., 746., 719., 707., 726., 731., 751., 685., 721., 711., 652.,\n",
       "       748., 667., 743., 690., 701., 730., 697., 699., 648., 673., 749.,\n",
       "       657., 664., 725., 675., 720., 728., 724., 695., 643., 745., 714.,\n",
       "       737., 606., 634., 735., 710., 732., 663., 676., 698., 750., 668.,\n",
       "       703., 694., 656., 650., 718., 665., 693., 662., 689., 617., 670.,\n",
       "       671., 608., 679., 621., 692., 640., 660., 651., 739., 700., 684.,\n",
       "       686., 639., 631., 666., 678., 628., 633., 645., 681., 691., 620.,\n",
       "       659., 604., 669., 661., 641., 642., 658., 655., 612., 627., 672.,\n",
       "       654., 598., 623., 687., 636., 629., 653., 595., 602., 644., 677.,\n",
       "       618., 616., 611., 630., 626., 588., 601., 613., 632., 637., 635.,\n",
       "       622., 615., 624., 609., 625., 586., 614., 638., 600., 610., 599.,\n",
       "       605., 596., 619., 603., 607., 597., 594., 585., 587.])"
      ]
     },
     "execution_count": 90,
     "metadata": {},
     "output_type": "execute_result"
    }
   ],
   "source": [
    "dfLoanTst['Credit_Score'].unique()\n",
    "#Now Credit Score above 850 is now normalized."
   ]
  },
  {
   "cell_type": "code",
   "execution_count": 91,
   "metadata": {},
   "outputs": [],
   "source": [
    "#Fill the null Credit Score with the mean credit score\n",
    "dfLoanTst[\"Credit_Score\"] = dfLoanTst[\"Credit_Score\"].fillna(dfLoanTst[\"Credit_Score\"].mean())"
   ]
  },
  {
   "cell_type": "code",
   "execution_count": 92,
   "metadata": {},
   "outputs": [
    {
     "data": {
      "text/plain": [
       "0"
      ]
     },
     "execution_count": 92,
     "metadata": {},
     "output_type": "execute_result"
    }
   ],
   "source": [
    "#check if there are rows where Loan_ID is null\n",
    "dfLoanTst.Credit_Score.isnull().sum()"
   ]
  },
  {
   "cell_type": "code",
   "execution_count": 93,
   "metadata": {},
   "outputs": [],
   "source": [
    "dfLoanTst['Credit_Score'] = dfLoanTst['Credit_Score'].apply(lambda val: \"Poor\" if np.isreal(val) and val < 580 else val)\n",
    "dfLoanTst['Credit_Score'] = dfLoanTst['Credit_Score'].apply(lambda val: \"Average\" if np.isreal(val) and (val >= 580 and val < 670) else val)\n",
    "dfLoanTst['Credit_Score'] = dfLoanTst['Credit_Score'].apply(lambda val: \"Good\" if np.isreal(val) and (val >= 670 and val < 740) else val)\n",
    "dfLoanTst['Credit_Score'] = dfLoanTst['Credit_Score'].apply(lambda val: \"Very Good\" if np.isreal(val) and (val >= 740 and val < 800) else val)\n",
    "dfLoanTst['Credit_Score'] = dfLoanTst['Credit_Score'].apply(lambda val: \"Exceptional\" if np.isreal(val) and (val >= 800 and val <= 850) else val)"
   ]
  },
  {
   "cell_type": "code",
   "execution_count": 94,
   "metadata": {},
   "outputs": [],
   "source": [
    "dfLoanTst[\"Years_in_current_job\"] = dfLoanTst[\"Years_in_current_job\"].fillna(dfLoanTst[\"Years_in_current_job\"].mean())"
   ]
  },
  {
   "cell_type": "code",
   "execution_count": 95,
   "metadata": {},
   "outputs": [],
   "source": [
    "dfLoanTst[\"Annual_Income\"] = dfLoanTst[\"Annual_Income\"].fillna(dfLoanTst[\"Annual_Income\"].mean())"
   ]
  },
  {
   "cell_type": "code",
   "execution_count": 96,
   "metadata": {},
   "outputs": [],
   "source": [
    "dfLoanTst[\"Bankruptcies\"] = dfLoanTst[\"Bankruptcies\"].fillna(0)"
   ]
  },
  {
   "cell_type": "code",
   "execution_count": 97,
   "metadata": {},
   "outputs": [],
   "source": [
    "dfLoanTst[\"Tax_Liens\"] = dfLoanTst[\"Tax_Liens\"].fillna(0)"
   ]
  },
  {
   "cell_type": "code",
   "execution_count": 98,
   "metadata": {},
   "outputs": [],
   "source": [
    "dfLoanTst[\"Maximum_Open_Credit\"] = dfLoanTst[\"Maximum_Open_Credit\"].fillna(0)"
   ]
  },
  {
   "cell_type": "code",
   "execution_count": 99,
   "metadata": {},
   "outputs": [
    {
     "data": {
      "text/plain": [
       "1133"
      ]
     },
     "execution_count": 99,
     "metadata": {},
     "output_type": "execute_result"
    }
   ],
   "source": [
    "dfLoanTst[dfLoanTst['Current_Loan_Amount']== 99999999].Current_Loan_Amount.count()"
   ]
  },
  {
   "cell_type": "code",
   "execution_count": 100,
   "metadata": {},
   "outputs": [],
   "source": [
    "dfLoanTst = dfLoanTst[dfLoanTst['Current_Loan_Amount']!= 99999999]"
   ]
  },
  {
   "cell_type": "code",
   "execution_count": 101,
   "metadata": {},
   "outputs": [
    {
     "data": {
      "text/plain": [
       "(8867, 15)"
      ]
     },
     "execution_count": 101,
     "metadata": {},
     "output_type": "execute_result"
    }
   ],
   "source": [
    "dfLoanTst.shape"
   ]
  },
  {
   "cell_type": "code",
   "execution_count": 102,
   "metadata": {},
   "outputs": [
    {
     "data": {
      "text/plain": [
       "count    8867.000000\n",
       "mean        0.171251\n",
       "std         0.090101\n",
       "min         0.000000\n",
       "25%         0.107000\n",
       "50%         0.164001\n",
       "75%         0.227110\n",
       "max         2.007657\n",
       "Name: Debt_To_Income_Ratio, dtype: float64"
      ]
     },
     "execution_count": 102,
     "metadata": {},
     "output_type": "execute_result"
    }
   ],
   "source": [
    "# Add one feature the Debt to Income Ratio.\n",
    "# We get the monthly income to monthly debt ratio to have uniform unit.\n",
    "\n",
    "dfLoanTst[\"Debt_To_Income_Ratio\"] = dfLoanTst[\"Monthly_Debt\"] / dfLoanTst[\"Annual_Income\"]*12\n",
    "dfLoanTst[\"Debt_To_Income_Ratio\"].describe()\n",
    "\n",
    "\n"
   ]
  },
  {
   "cell_type": "code",
   "execution_count": 103,
   "metadata": {},
   "outputs": [
    {
     "data": {
      "text/plain": [
       "Current_Loan_Amount          0\n",
       "Term                         0\n",
       "Credit_Score                 0\n",
       "Annual_Income                0\n",
       "Years_in_current_job         0\n",
       "Home_Ownership               0\n",
       "Purpose                      0\n",
       "Monthly_Debt                 0\n",
       "Years_of_Credit_History      0\n",
       "Number_of_Open_Accounts      0\n",
       "Number_of_Credit_Problems    0\n",
       "Current_Credit_Balance       0\n",
       "Maximum_Open_Credit          0\n",
       "Bankruptcies                 0\n",
       "Tax_Liens                    0\n",
       "Debt_To_Income_Ratio         0\n",
       "dtype: int64"
      ]
     },
     "execution_count": 103,
     "metadata": {},
     "output_type": "execute_result"
    }
   ],
   "source": [
    "dfLoanTst.isnull().sum()"
   ]
  },
  {
   "cell_type": "code",
   "execution_count": 104,
   "metadata": {},
   "outputs": [
    {
     "data": {
      "text/html": [
       "<div>\n",
       "<style scoped>\n",
       "    .dataframe tbody tr th:only-of-type {\n",
       "        vertical-align: middle;\n",
       "    }\n",
       "\n",
       "    .dataframe tbody tr th {\n",
       "        vertical-align: top;\n",
       "    }\n",
       "\n",
       "    .dataframe thead th {\n",
       "        text-align: right;\n",
       "    }\n",
       "</style>\n",
       "<table border=\"1\" class=\"dataframe\">\n",
       "  <thead>\n",
       "    <tr style=\"text-align: right;\">\n",
       "      <th></th>\n",
       "      <th>Current_Loan_Amount</th>\n",
       "      <th>Annual_Income</th>\n",
       "      <th>Years_in_current_job</th>\n",
       "      <th>Monthly_Debt</th>\n",
       "      <th>Years_of_Credit_History</th>\n",
       "      <th>Number_of_Open_Accounts</th>\n",
       "      <th>Number_of_Credit_Problems</th>\n",
       "      <th>Current_Credit_Balance</th>\n",
       "      <th>Maximum_Open_Credit</th>\n",
       "      <th>Bankruptcies</th>\n",
       "      <th>Tax_Liens</th>\n",
       "      <th>Debt_To_Income_Ratio</th>\n",
       "    </tr>\n",
       "  </thead>\n",
       "  <tbody>\n",
       "    <tr>\n",
       "      <th>0</th>\n",
       "      <td>611314.0</td>\n",
       "      <td>2074116.0</td>\n",
       "      <td>15.0</td>\n",
       "      <td>42000.83</td>\n",
       "      <td>21.8</td>\n",
       "      <td>9.0</td>\n",
       "      <td>0.0</td>\n",
       "      <td>621908.0</td>\n",
       "      <td>1058970.0</td>\n",
       "      <td>0.0</td>\n",
       "      <td>0.0</td>\n",
       "      <td>0.243000</td>\n",
       "    </tr>\n",
       "    <tr>\n",
       "      <th>1</th>\n",
       "      <td>266662.0</td>\n",
       "      <td>1919190.0</td>\n",
       "      <td>15.0</td>\n",
       "      <td>36624.40</td>\n",
       "      <td>19.4</td>\n",
       "      <td>11.0</td>\n",
       "      <td>0.0</td>\n",
       "      <td>679573.0</td>\n",
       "      <td>904442.0</td>\n",
       "      <td>0.0</td>\n",
       "      <td>0.0</td>\n",
       "      <td>0.228999</td>\n",
       "    </tr>\n",
       "    <tr>\n",
       "      <th>2</th>\n",
       "      <td>153494.0</td>\n",
       "      <td>871112.0</td>\n",
       "      <td>2.0</td>\n",
       "      <td>8391.73</td>\n",
       "      <td>12.5</td>\n",
       "      <td>10.0</td>\n",
       "      <td>0.0</td>\n",
       "      <td>38532.0</td>\n",
       "      <td>388036.0</td>\n",
       "      <td>0.0</td>\n",
       "      <td>0.0</td>\n",
       "      <td>0.115600</td>\n",
       "    </tr>\n",
       "    <tr>\n",
       "      <th>3</th>\n",
       "      <td>176242.0</td>\n",
       "      <td>780083.0</td>\n",
       "      <td>15.0</td>\n",
       "      <td>16771.87</td>\n",
       "      <td>16.5</td>\n",
       "      <td>16.0</td>\n",
       "      <td>1.0</td>\n",
       "      <td>156940.0</td>\n",
       "      <td>531322.0</td>\n",
       "      <td>1.0</td>\n",
       "      <td>0.0</td>\n",
       "      <td>0.258001</td>\n",
       "    </tr>\n",
       "    <tr>\n",
       "      <th>4</th>\n",
       "      <td>321992.0</td>\n",
       "      <td>1761148.0</td>\n",
       "      <td>15.0</td>\n",
       "      <td>39478.77</td>\n",
       "      <td>26.0</td>\n",
       "      <td>14.0</td>\n",
       "      <td>0.0</td>\n",
       "      <td>359765.0</td>\n",
       "      <td>468072.0</td>\n",
       "      <td>0.0</td>\n",
       "      <td>0.0</td>\n",
       "      <td>0.268998</td>\n",
       "    </tr>\n",
       "  </tbody>\n",
       "</table>\n",
       "</div>"
      ],
      "text/plain": [
       "   Current_Loan_Amount  Annual_Income  Years_in_current_job  Monthly_Debt  \\\n",
       "0             611314.0      2074116.0                  15.0      42000.83   \n",
       "1             266662.0      1919190.0                  15.0      36624.40   \n",
       "2             153494.0       871112.0                   2.0       8391.73   \n",
       "3             176242.0       780083.0                  15.0      16771.87   \n",
       "4             321992.0      1761148.0                  15.0      39478.77   \n",
       "\n",
       "   Years_of_Credit_History  Number_of_Open_Accounts  \\\n",
       "0                     21.8                      9.0   \n",
       "1                     19.4                     11.0   \n",
       "2                     12.5                     10.0   \n",
       "3                     16.5                     16.0   \n",
       "4                     26.0                     14.0   \n",
       "\n",
       "   Number_of_Credit_Problems  Current_Credit_Balance  Maximum_Open_Credit  \\\n",
       "0                        0.0                621908.0            1058970.0   \n",
       "1                        0.0                679573.0             904442.0   \n",
       "2                        0.0                 38532.0             388036.0   \n",
       "3                        1.0                156940.0             531322.0   \n",
       "4                        0.0                359765.0             468072.0   \n",
       "\n",
       "   Bankruptcies  Tax_Liens  Debt_To_Income_Ratio  \n",
       "0           0.0        0.0              0.243000  \n",
       "1           0.0        0.0              0.228999  \n",
       "2           0.0        0.0              0.115600  \n",
       "3           1.0        0.0              0.258001  \n",
       "4           0.0        0.0              0.268998  "
      ]
     },
     "execution_count": 104,
     "metadata": {},
     "output_type": "execute_result"
    }
   ],
   "source": [
    "dfLoanTst_num = dfLoanTst.select_dtypes(include=['float64'])\n",
    "dfLoanTst_num.head(5)"
   ]
  },
  {
   "cell_type": "code",
   "execution_count": 105,
   "metadata": {},
   "outputs": [
    {
     "data": {
      "text/html": [
       "<div>\n",
       "<style scoped>\n",
       "    .dataframe tbody tr th:only-of-type {\n",
       "        vertical-align: middle;\n",
       "    }\n",
       "\n",
       "    .dataframe tbody tr th {\n",
       "        vertical-align: top;\n",
       "    }\n",
       "\n",
       "    .dataframe thead th {\n",
       "        text-align: right;\n",
       "    }\n",
       "</style>\n",
       "<table border=\"1\" class=\"dataframe\">\n",
       "  <thead>\n",
       "    <tr style=\"text-align: right;\">\n",
       "      <th></th>\n",
       "      <th>Term</th>\n",
       "      <th>Credit_Score</th>\n",
       "      <th>Home_Ownership</th>\n",
       "      <th>Purpose</th>\n",
       "    </tr>\n",
       "  </thead>\n",
       "  <tbody>\n",
       "    <tr>\n",
       "      <th>0</th>\n",
       "      <td>Short Term</td>\n",
       "      <td>Very Good</td>\n",
       "      <td>Home Mortgage</td>\n",
       "      <td>Debt Consolidation</td>\n",
       "    </tr>\n",
       "    <tr>\n",
       "      <th>1</th>\n",
       "      <td>Short Term</td>\n",
       "      <td>Good</td>\n",
       "      <td>Home Mortgage</td>\n",
       "      <td>Debt Consolidation</td>\n",
       "    </tr>\n",
       "    <tr>\n",
       "      <th>2</th>\n",
       "      <td>Short Term</td>\n",
       "      <td>Good</td>\n",
       "      <td>Rent</td>\n",
       "      <td>Debt Consolidation</td>\n",
       "    </tr>\n",
       "    <tr>\n",
       "      <th>3</th>\n",
       "      <td>Short Term</td>\n",
       "      <td>Good</td>\n",
       "      <td>Rent</td>\n",
       "      <td>Debt Consolidation</td>\n",
       "    </tr>\n",
       "    <tr>\n",
       "      <th>4</th>\n",
       "      <td>Short Term</td>\n",
       "      <td>Very Good</td>\n",
       "      <td>Home Mortgage</td>\n",
       "      <td>Debt Consolidation</td>\n",
       "    </tr>\n",
       "  </tbody>\n",
       "</table>\n",
       "</div>"
      ],
      "text/plain": [
       "         Term Credit_Score Home_Ownership             Purpose\n",
       "0  Short Term    Very Good  Home Mortgage  Debt Consolidation\n",
       "1  Short Term         Good  Home Mortgage  Debt Consolidation\n",
       "2  Short Term         Good           Rent  Debt Consolidation\n",
       "3  Short Term         Good           Rent  Debt Consolidation\n",
       "4  Short Term    Very Good  Home Mortgage  Debt Consolidation"
      ]
     },
     "execution_count": 105,
     "metadata": {},
     "output_type": "execute_result"
    }
   ],
   "source": [
    "dfLoanTst_cat = dfLoanTst.select_dtypes(include=[object])\n",
    "dfLoanTst_cat.head(5)"
   ]
  },
  {
   "cell_type": "code",
   "execution_count": 106,
   "metadata": {},
   "outputs": [],
   "source": [
    "from sklearn.preprocessing import LabelEncoder\n",
    "le_Term = LabelEncoder()\n",
    "le_Credit_Score = LabelEncoder()\n",
    "le_HomeOwnership = LabelEncoder()\n",
    "le_Purpose = LabelEncoder()\n",
    "dfLoanTst['Term'] = le_Term.fit_transform(dfLoanTst.Term)\n",
    "dfLoanTst['Credit_Score'] = le_Credit_Score.fit_transform(dfLoanTst.Credit_Score)\n",
    "dfLoanTst['Home_Ownership'] = le_HomeOwnership.fit_transform(dfLoanTst.Home_Ownership)\n",
    "dfLoanTst['Purpose'] = le_Purpose.fit_transform(dfLoanTst.Purpose)"
   ]
  },
  {
   "cell_type": "code",
   "execution_count": 107,
   "metadata": {
    "scrolled": true
   },
   "outputs": [
    {
     "data": {
      "text/html": [
       "<div>\n",
       "<style scoped>\n",
       "    .dataframe tbody tr th:only-of-type {\n",
       "        vertical-align: middle;\n",
       "    }\n",
       "\n",
       "    .dataframe tbody tr th {\n",
       "        vertical-align: top;\n",
       "    }\n",
       "\n",
       "    .dataframe thead th {\n",
       "        text-align: right;\n",
       "    }\n",
       "</style>\n",
       "<table border=\"1\" class=\"dataframe\">\n",
       "  <thead>\n",
       "    <tr style=\"text-align: right;\">\n",
       "      <th></th>\n",
       "      <th>Current_Loan_Amount</th>\n",
       "      <th>Term</th>\n",
       "      <th>Credit_Score</th>\n",
       "      <th>Annual_Income</th>\n",
       "      <th>Years_in_current_job</th>\n",
       "      <th>Home_Ownership</th>\n",
       "      <th>Purpose</th>\n",
       "      <th>Monthly_Debt</th>\n",
       "      <th>Years_of_Credit_History</th>\n",
       "      <th>Number_of_Open_Accounts</th>\n",
       "      <th>Number_of_Credit_Problems</th>\n",
       "      <th>Current_Credit_Balance</th>\n",
       "      <th>Maximum_Open_Credit</th>\n",
       "      <th>Bankruptcies</th>\n",
       "      <th>Tax_Liens</th>\n",
       "      <th>Debt_To_Income_Ratio</th>\n",
       "    </tr>\n",
       "  </thead>\n",
       "  <tbody>\n",
       "    <tr>\n",
       "      <th>0</th>\n",
       "      <td>611314.0</td>\n",
       "      <td>1</td>\n",
       "      <td>2</td>\n",
       "      <td>2074116.0</td>\n",
       "      <td>15.0</td>\n",
       "      <td>1</td>\n",
       "      <td>3</td>\n",
       "      <td>42000.83</td>\n",
       "      <td>21.8</td>\n",
       "      <td>9.0</td>\n",
       "      <td>0.0</td>\n",
       "      <td>621908.0</td>\n",
       "      <td>1058970.0</td>\n",
       "      <td>0.0</td>\n",
       "      <td>0.0</td>\n",
       "      <td>0.243000</td>\n",
       "    </tr>\n",
       "    <tr>\n",
       "      <th>1</th>\n",
       "      <td>266662.0</td>\n",
       "      <td>1</td>\n",
       "      <td>1</td>\n",
       "      <td>1919190.0</td>\n",
       "      <td>15.0</td>\n",
       "      <td>1</td>\n",
       "      <td>3</td>\n",
       "      <td>36624.40</td>\n",
       "      <td>19.4</td>\n",
       "      <td>11.0</td>\n",
       "      <td>0.0</td>\n",
       "      <td>679573.0</td>\n",
       "      <td>904442.0</td>\n",
       "      <td>0.0</td>\n",
       "      <td>0.0</td>\n",
       "      <td>0.228999</td>\n",
       "    </tr>\n",
       "    <tr>\n",
       "      <th>2</th>\n",
       "      <td>153494.0</td>\n",
       "      <td>1</td>\n",
       "      <td>1</td>\n",
       "      <td>871112.0</td>\n",
       "      <td>2.0</td>\n",
       "      <td>3</td>\n",
       "      <td>3</td>\n",
       "      <td>8391.73</td>\n",
       "      <td>12.5</td>\n",
       "      <td>10.0</td>\n",
       "      <td>0.0</td>\n",
       "      <td>38532.0</td>\n",
       "      <td>388036.0</td>\n",
       "      <td>0.0</td>\n",
       "      <td>0.0</td>\n",
       "      <td>0.115600</td>\n",
       "    </tr>\n",
       "    <tr>\n",
       "      <th>3</th>\n",
       "      <td>176242.0</td>\n",
       "      <td>1</td>\n",
       "      <td>1</td>\n",
       "      <td>780083.0</td>\n",
       "      <td>15.0</td>\n",
       "      <td>3</td>\n",
       "      <td>3</td>\n",
       "      <td>16771.87</td>\n",
       "      <td>16.5</td>\n",
       "      <td>16.0</td>\n",
       "      <td>1.0</td>\n",
       "      <td>156940.0</td>\n",
       "      <td>531322.0</td>\n",
       "      <td>1.0</td>\n",
       "      <td>0.0</td>\n",
       "      <td>0.258001</td>\n",
       "    </tr>\n",
       "    <tr>\n",
       "      <th>4</th>\n",
       "      <td>321992.0</td>\n",
       "      <td>1</td>\n",
       "      <td>2</td>\n",
       "      <td>1761148.0</td>\n",
       "      <td>15.0</td>\n",
       "      <td>1</td>\n",
       "      <td>3</td>\n",
       "      <td>39478.77</td>\n",
       "      <td>26.0</td>\n",
       "      <td>14.0</td>\n",
       "      <td>0.0</td>\n",
       "      <td>359765.0</td>\n",
       "      <td>468072.0</td>\n",
       "      <td>0.0</td>\n",
       "      <td>0.0</td>\n",
       "      <td>0.268998</td>\n",
       "    </tr>\n",
       "  </tbody>\n",
       "</table>\n",
       "</div>"
      ],
      "text/plain": [
       "   Current_Loan_Amount  Term  Credit_Score  Annual_Income  \\\n",
       "0             611314.0     1             2      2074116.0   \n",
       "1             266662.0     1             1      1919190.0   \n",
       "2             153494.0     1             1       871112.0   \n",
       "3             176242.0     1             1       780083.0   \n",
       "4             321992.0     1             2      1761148.0   \n",
       "\n",
       "   Years_in_current_job  Home_Ownership  Purpose  Monthly_Debt  \\\n",
       "0                  15.0               1        3      42000.83   \n",
       "1                  15.0               1        3      36624.40   \n",
       "2                   2.0               3        3       8391.73   \n",
       "3                  15.0               3        3      16771.87   \n",
       "4                  15.0               1        3      39478.77   \n",
       "\n",
       "   Years_of_Credit_History  Number_of_Open_Accounts  \\\n",
       "0                     21.8                      9.0   \n",
       "1                     19.4                     11.0   \n",
       "2                     12.5                     10.0   \n",
       "3                     16.5                     16.0   \n",
       "4                     26.0                     14.0   \n",
       "\n",
       "   Number_of_Credit_Problems  Current_Credit_Balance  Maximum_Open_Credit  \\\n",
       "0                        0.0                621908.0            1058970.0   \n",
       "1                        0.0                679573.0             904442.0   \n",
       "2                        0.0                 38532.0             388036.0   \n",
       "3                        1.0                156940.0             531322.0   \n",
       "4                        0.0                359765.0             468072.0   \n",
       "\n",
       "   Bankruptcies  Tax_Liens  Debt_To_Income_Ratio  \n",
       "0           0.0        0.0              0.243000  \n",
       "1           0.0        0.0              0.228999  \n",
       "2           0.0        0.0              0.115600  \n",
       "3           1.0        0.0              0.258001  \n",
       "4           0.0        0.0              0.268998  "
      ]
     },
     "execution_count": 107,
     "metadata": {},
     "output_type": "execute_result"
    }
   ],
   "source": [
    "dfLoanTst.head(5)"
   ]
  },
  {
   "cell_type": "code",
   "execution_count": 108,
   "metadata": {},
   "outputs": [],
   "source": [
    "#Load to csv file\n",
    "dfLoanTst.to_csv('creditTest_cleaned.csv',index=False)\n"
   ]
  },
  {
   "cell_type": "code",
   "execution_count": null,
   "metadata": {},
   "outputs": [],
   "source": []
  },
  {
   "cell_type": "code",
   "execution_count": null,
   "metadata": {},
   "outputs": [],
   "source": []
  }
 ],
 "metadata": {
  "kernelspec": {
   "display_name": "Python 3",
   "language": "python",
   "name": "python3"
  },
  "language_info": {
   "codemirror_mode": {
    "name": "ipython",
    "version": 3
   },
   "file_extension": ".py",
   "mimetype": "text/x-python",
   "name": "python",
   "nbconvert_exporter": "python",
   "pygments_lexer": "ipython3",
   "version": "3.7.3"
  }
 },
 "nbformat": 4,
 "nbformat_minor": 1
}
