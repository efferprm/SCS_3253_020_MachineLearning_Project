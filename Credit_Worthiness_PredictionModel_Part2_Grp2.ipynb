{
 "cells": [
  {
   "cell_type": "markdown",
   "metadata": {},
   "source": [
    "\n",
    "# Credit Worthiness Prediction Model\n",
    "## Modeling and Prediction\n"
   ]
  },
  {
   "cell_type": "markdown",
   "metadata": {},
   "source": [
    "### Team Members:\n",
    "\n",
    "<pre> Pablo Macaraeg</pre>\n",
    "<pre> Jennifer Macaraeg</pre>\n",
    "<pre> John Derek Requejo</pre>\n"
   ]
  },
  {
   "cell_type": "markdown",
   "metadata": {},
   "source": [
    "### Loading Libraries"
   ]
  },
  {
   "cell_type": "code",
   "execution_count": 1,
   "metadata": {
    "_cell_guid": "b1076dfc-b9ad-4769-8c92-a6c4dae69d19",
    "_uuid": "8f2839f25d086af736a60e9eeb907d3b93b6e0e5"
   },
   "outputs": [
    {
     "data": {
      "text/html": [
       "        <script type=\"text/javascript\">\n",
       "        window.PlotlyConfig = {MathJaxConfig: 'local'};\n",
       "        if (window.MathJax) {MathJax.Hub.Config({SVG: {font: \"STIX-Web\"}});}\n",
       "        if (typeof require !== 'undefined') {\n",
       "        require.undef(\"plotly\");\n",
       "        requirejs.config({\n",
       "            paths: {\n",
       "                'plotly': ['https://cdn.plot.ly/plotly-latest.min']\n",
       "            }\n",
       "        });\n",
       "        require(['plotly'], function(Plotly) {\n",
       "            window._Plotly = Plotly;\n",
       "        });\n",
       "        }\n",
       "        </script>\n",
       "        "
      ]
     },
     "metadata": {},
     "output_type": "display_data"
    }
   ],
   "source": [
    "\n",
    "import numpy as np \n",
    "import pandas as pd \n",
    "import matplotlib.pyplot as plt\n",
    "import seaborn as sns\n",
    "from plotly.offline import init_notebook_mode, download_plotlyjs, iplot\n",
    "\n",
    "init_notebook_mode(connected=True)\n",
    "\n",
    "import warnings\n",
    "warnings.filterwarnings('ignore')\n",
    "\n",
    "# Model imports\n",
    "from sklearn.linear_model import LogisticRegression\n",
    "from sklearn.naive_bayes import GaussianNB\n",
    "from sklearn.neighbors import KNeighborsClassifier\n",
    "from sklearn.tree import DecisionTreeClassifier\n",
    "from sklearn.ensemble import RandomForestClassifier\n",
    "from sklearn.svm import SVC\n",
    "\n",
    "# Plotting imports and settings\n",
    "import seaborn as sns\n",
    "import matplotlib.pyplot as plt\n",
    "plt.style.use(\"ggplot\")\n",
    "import matplotlib as mpl\n",
    "mpl.rcParams['figure.figsize'] = (13,8)\n",
    "\n",
    "# ML imports\n",
    "from sklearn.metrics import accuracy_score, roc_auc_score, precision_score, recall_score, f1_score, confusion_matrix\n",
    "from sklearn.model_selection import train_test_split, cross_validate, StratifiedKFold\n",
    "\n",
    "\n",
    "from pathlib import Path\n",
    "from tqdm import tqdm"
   ]
  },
  {
   "cell_type": "markdown",
   "metadata": {},
   "source": [
    "### Loading the Dataset"
   ]
  },
  {
   "cell_type": "code",
   "execution_count": 2,
   "metadata": {},
   "outputs": [],
   "source": [
    "#Load cleaned dataset to csv file\n",
    "\n",
    "dfLoan = pd.read_csv('creditTrain_cleaned.csv')\n"
   ]
  },
  {
   "cell_type": "code",
   "execution_count": 3,
   "metadata": {},
   "outputs": [
    {
     "name": "stdout",
     "output_type": "stream",
     "text": [
      "X: (88516, 16)\n",
      "y: (88516,)\n"
     ]
    }
   ],
   "source": [
    "X = dfLoan.drop(\"Loan_Status\",axis=1)\n",
    "y = dfLoan['Loan_Status']\n",
    "print('X:', X.shape)\n",
    "print('y:', y.shape)"
   ]
  },
  {
   "cell_type": "code",
   "execution_count": 4,
   "metadata": {},
   "outputs": [
    {
     "data": {
      "text/plain": [
       "Index(['Current_Loan_Amount', 'Term', 'Credit_Score', 'Annual_Income',\n",
       "       'Years_in_current_job', 'Home_Ownership', 'Purpose', 'Monthly_Debt',\n",
       "       'Years_of_Credit_History', 'Number_of_Open_Accounts',\n",
       "       'Number_of_Credit_Problems', 'Current_Credit_Balance',\n",
       "       'Maximum_Open_Credit', 'Bankruptcies', 'Tax_Liens',\n",
       "       'Debt_To_Income_Ratio'],\n",
       "      dtype='object')"
      ]
     },
     "execution_count": 4,
     "metadata": {},
     "output_type": "execute_result"
    }
   ],
   "source": [
    "X.columns"
   ]
  },
  {
   "cell_type": "code",
   "execution_count": 5,
   "metadata": {},
   "outputs": [],
   "source": [
    "X_train, X_test, y_train, y_test = train_test_split(X, y, test_size=0.25, stratify=y, shuffle=True)"
   ]
  },
  {
   "cell_type": "code",
   "execution_count": 6,
   "metadata": {},
   "outputs": [],
   "source": [
    "skf = StratifiedKFold(n_splits=5, shuffle=True)\n",
    "fold_indices = skf.split(X_train, y_train)"
   ]
  },
  {
   "cell_type": "markdown",
   "metadata": {},
   "source": [
    "# Predictive Modeling and Classification"
   ]
  },
  {
   "cell_type": "markdown",
   "metadata": {},
   "source": [
    "Build the ML models and fit them to the dataset.\n",
    "* Logistic Regression\n",
    "* Naive Bayes\n",
    "* K Nearest Neighbors\n",
    "* Random Forests\n",
    "* Decision Tree\n",
    "* Support Vector Machine"
   ]
  },
  {
   "cell_type": "code",
   "execution_count": 7,
   "metadata": {},
   "outputs": [],
   "source": [
    "def init_models():\n",
    "    return [LogisticRegression(solver='lbfgs'),\n",
    "            GaussianNB(),\n",
    "            KNeighborsClassifier(n_neighbors=2),\n",
    "            RandomForestClassifier(n_estimators=100),\n",
    "            DecisionTreeClassifier(),\n",
    "            SVC(gamma='scale')]\n",
    "\n",
    "def calc_metrics(model, X, y):\n",
    "    y_hat = model.predict(X)\n",
    "    metrics = [accuracy_score, precision_score, recall_score, f1_score, roc_auc_score]\n",
    "    scores = [fn(y, y_hat) for fn in metrics]\n",
    "    return scores"
   ]
  },
  {
   "cell_type": "code",
   "execution_count": 8,
   "metadata": {},
   "outputs": [
    {
     "name": "stderr",
     "output_type": "stream",
     "text": [
      "100%|██████████| 6/6 [01:37<00:00, 26.77s/it]\n",
      "100%|██████████| 6/6 [01:40<00:00, 27.62s/it]\n",
      "100%|██████████| 6/6 [01:40<00:00, 27.51s/it]\n",
      "100%|██████████| 6/6 [01:38<00:00, 27.17s/it]\n",
      "100%|██████████| 6/6 [01:39<00:00, 27.38s/it]\n"
     ]
    }
   ],
   "source": [
    "fold_model_sets = []\n",
    "fold_model_metrics = []\n",
    "\n",
    "for train_idx, val_idx in fold_indices:\n",
    "    # Split training for cross val fold\n",
    "    X_fold = X_train.iloc[train_idx, :]\n",
    "    y_fold = y_train.iloc[train_idx]\n",
    "    X_val = X_train.iloc[val_idx, :]\n",
    "    y_val = y_train.iloc[val_idx]\n",
    "\n",
    "    # Fit models\n",
    "    models = init_models()\n",
    "    fit_models = []\n",
    "    fit_metrics = []\n",
    "    for model in tqdm(models):\n",
    "        fit_models.append(model.fit(X_fold, y_fold))\n",
    "        fit_metrics.append(calc_metrics(model, X_val, y_val))\n",
    "    \n",
    "    # Store models and metrics for fold\n",
    "    fold_model_sets.append(fit_models)\n",
    "    fold_model_metrics.append(fit_metrics)\n",
    "\n",
    "# Move to numpy\n",
    "fold_model_metrics = np.array(fold_model_metrics)"
   ]
  },
  {
   "cell_type": "markdown",
   "metadata": {},
   "source": [
    "Average validation scores to determine the best model."
   ]
  },
  {
   "cell_type": "code",
   "execution_count": 9,
   "metadata": {},
   "outputs": [
    {
     "data": {
      "text/plain": [
       "(5, 6, 5)"
      ]
     },
     "execution_count": 9,
     "metadata": {},
     "output_type": "execute_result"
    }
   ],
   "source": [
    "fold_model_metrics.shape"
   ]
  },
  {
   "cell_type": "code",
   "execution_count": 10,
   "metadata": {},
   "outputs": [
    {
     "name": "stdout",
     "output_type": "stream",
     "text": [
      "\n",
      "\n",
      "LogisticRegression\n",
      "__________________\n",
      "Accuracy: 0.744 (max 0.744)\n",
      "Precision: 0.744 (max 0.744)\n",
      "Recall: 1.000 (max 1.000)\n",
      "F1: 0.853 (max 0.853)\n",
      "AUC: 0.500 (max 0.500)\n",
      "\n",
      "\n",
      "GaussianNB\n",
      "__________\n",
      "Accuracy: 0.393 (max 0.606)\n",
      "Precision: 0.772 (max 0.806)\n",
      "Recall: 0.266 (max 0.692)\n",
      "F1: 0.343 (max 0.723)\n",
      "AUC: 0.513 (max 0.524)\n",
      "\n",
      "\n",
      "KNeighborsClassifier\n",
      "____________________\n",
      "Accuracy: 0.562 (max 0.569)\n",
      "Precision: 0.766 (max 0.770)\n",
      "Recall: 0.593 (max 0.600)\n",
      "F1: 0.669 (max 0.674)\n",
      "AUC: 0.533 (max 0.539)\n",
      "\n",
      "\n",
      "RandomForestClassifier\n",
      "______________________\n",
      "Accuracy: 0.745 (max 0.746)\n",
      "Precision: 0.754 (max 0.755)\n",
      "Recall: 0.975 (max 0.977)\n",
      "F1: 0.850 (max 0.851)\n",
      "AUC: 0.524 (max 0.526)\n",
      "\n",
      "\n",
      "DecisionTreeClassifier\n",
      "______________________\n",
      "Accuracy: 0.665 (max 0.670)\n",
      "Precision: 0.772 (max 0.775)\n",
      "Recall: 0.780 (max 0.785)\n",
      "F1: 0.776 (max 0.780)\n",
      "AUC: 0.555 (max 0.561)\n",
      "\n",
      "\n",
      "SVC\n",
      "___\n",
      "Accuracy: 0.744 (max 0.744)\n",
      "Precision: 0.744 (max 0.744)\n",
      "Recall: 1.000 (max 1.000)\n",
      "F1: 0.853 (max 0.853)\n",
      "AUC: 0.500 (max 0.500)\n"
     ]
    }
   ],
   "source": [
    "models = init_models()\n",
    "model_names = []\n",
    "metric_names = ['Accuracy', 'Precision', 'Recall', 'F1', 'AUC']\n",
    "\n",
    "mean_model_metrics = fold_model_metrics.mean(axis=0)\n",
    "max_model_metrics = fold_model_metrics.max(axis=0)\n",
    "\n",
    "for i in range(mean_model_metrics.shape[0]):\n",
    "    print('\\n')\n",
    "    model_name = str(models[i]).split('(')[0]\n",
    "    model_names.append(model_name)\n",
    "    print(model_name)\n",
    "    \n",
    "    print('_' * len(model_name))\n",
    "    \n",
    "    for j in range(mean_model_metrics.shape[1]):\n",
    "        print(f\"{metric_names[j]}: {mean_model_metrics[i, j]:.3f} (max {max_model_metrics[i, j]:.3f})\")"
   ]
  },
  {
   "cell_type": "code",
   "execution_count": 11,
   "metadata": {},
   "outputs": [
    {
     "data": {
      "text/html": [
       "<div>\n",
       "<style scoped>\n",
       "    .dataframe tbody tr th:only-of-type {\n",
       "        vertical-align: middle;\n",
       "    }\n",
       "\n",
       "    .dataframe tbody tr th {\n",
       "        vertical-align: top;\n",
       "    }\n",
       "\n",
       "    .dataframe thead th {\n",
       "        text-align: right;\n",
       "    }\n",
       "</style>\n",
       "<table border=\"1\" class=\"dataframe\">\n",
       "  <thead>\n",
       "    <tr style=\"text-align: right;\">\n",
       "      <th></th>\n",
       "      <th>LogisticRegression</th>\n",
       "      <th>GaussianNB</th>\n",
       "      <th>KNeighborsClassifier</th>\n",
       "      <th>RandomForestClassifier</th>\n",
       "      <th>DecisionTreeClassifier</th>\n",
       "      <th>SVC</th>\n",
       "    </tr>\n",
       "  </thead>\n",
       "  <tbody>\n",
       "    <tr>\n",
       "      <th>Accuracy</th>\n",
       "      <td>0.744242</td>\n",
       "      <td>0.392533</td>\n",
       "      <td>0.562354</td>\n",
       "      <td>0.744574</td>\n",
       "      <td>0.664995</td>\n",
       "      <td>0.744227</td>\n",
       "    </tr>\n",
       "    <tr>\n",
       "      <th>Precision</th>\n",
       "      <td>0.744242</td>\n",
       "      <td>0.771659</td>\n",
       "      <td>0.766060</td>\n",
       "      <td>0.753766</td>\n",
       "      <td>0.772322</td>\n",
       "      <td>0.744238</td>\n",
       "    </tr>\n",
       "    <tr>\n",
       "      <th>Recall</th>\n",
       "      <td>1.000000</td>\n",
       "      <td>0.266360</td>\n",
       "      <td>0.593062</td>\n",
       "      <td>0.975449</td>\n",
       "      <td>0.779732</td>\n",
       "      <td>0.999980</td>\n",
       "    </tr>\n",
       "    <tr>\n",
       "      <th>F1</th>\n",
       "      <td>0.853370</td>\n",
       "      <td>0.343187</td>\n",
       "      <td>0.668541</td>\n",
       "      <td>0.850397</td>\n",
       "      <td>0.776008</td>\n",
       "      <td>0.853360</td>\n",
       "    </tr>\n",
       "    <tr>\n",
       "      <th>AUC</th>\n",
       "      <td>0.500000</td>\n",
       "      <td>0.513034</td>\n",
       "      <td>0.533029</td>\n",
       "      <td>0.524093</td>\n",
       "      <td>0.555424</td>\n",
       "      <td>0.499990</td>\n",
       "    </tr>\n",
       "  </tbody>\n",
       "</table>\n",
       "</div>"
      ],
      "text/plain": [
       "           LogisticRegression  GaussianNB  KNeighborsClassifier  \\\n",
       "Accuracy             0.744242    0.392533              0.562354   \n",
       "Precision            0.744242    0.771659              0.766060   \n",
       "Recall               1.000000    0.266360              0.593062   \n",
       "F1                   0.853370    0.343187              0.668541   \n",
       "AUC                  0.500000    0.513034              0.533029   \n",
       "\n",
       "           RandomForestClassifier  DecisionTreeClassifier       SVC  \n",
       "Accuracy                 0.744574                0.664995  0.744227  \n",
       "Precision                0.753766                0.772322  0.744238  \n",
       "Recall                   0.975449                0.779732  0.999980  \n",
       "F1                       0.850397                0.776008  0.853360  \n",
       "AUC                      0.524093                0.555424  0.499990  "
      ]
     },
     "execution_count": 11,
     "metadata": {},
     "output_type": "execute_result"
    }
   ],
   "source": [
    "metrics = pd.DataFrame(mean_model_metrics.T, columns=model_names, index=metric_names)\n",
    "metrics"
   ]
  },
  {
   "cell_type": "markdown",
   "metadata": {},
   "source": [
    "# Tune"
   ]
  },
  {
   "cell_type": "code",
   "execution_count": 12,
   "metadata": {},
   "outputs": [
    {
     "data": {
      "text/plain": [
       "SVC(C=1.0, cache_size=200, class_weight=None, coef0=0.0,\n",
       "    decision_function_shape='ovr', degree=3, gamma='scale', kernel='rbf',\n",
       "    max_iter=-1, probability=False, random_state=None, shrinking=True,\n",
       "    tol=0.001, verbose=False)"
      ]
     },
     "execution_count": 12,
     "metadata": {},
     "output_type": "execute_result"
    }
   ],
   "source": [
    "model = SVC(gamma='scale')\n",
    "model.fit(X_train, y_train)"
   ]
  },
  {
   "cell_type": "code",
   "execution_count": 13,
   "metadata": {},
   "outputs": [
    {
     "name": "stdout",
     "output_type": "stream",
     "text": [
      "Accuracy: 0.744\n",
      "Precision: 0.744\n",
      "Recall: 1.000\n",
      "F1: 0.853\n",
      "AUC: 0.500\n"
     ]
    }
   ],
   "source": [
    "for i, metric in enumerate(calc_metrics(model, X_test, y_test)):\n",
    "        print(f\"{metric_names[i]}: {metric:.3f}\")"
   ]
  },
  {
   "cell_type": "markdown",
   "metadata": {},
   "source": [
    "# Model Performance and Confusion Matrix"
   ]
  },
  {
   "cell_type": "code",
   "execution_count": 14,
   "metadata": {},
   "outputs": [
    {
     "name": "stderr",
     "output_type": "stream",
     "text": [
      "100%|██████████| 6/6 [02:43<00:00, 45.58s/it]\n"
     ]
    }
   ],
   "source": [
    "test_models = init_models()\n",
    "test_metrics = np.zeros([len(test_models), len(metric_names)])\n",
    "for i, model in enumerate(tqdm(test_models)):\n",
    "    test_models[i] = model.fit(X_train, y_train)\n",
    "    test_metrics[i, :] = np.array(calc_metrics(model, X_test, y_test))"
   ]
  },
  {
   "cell_type": "code",
   "execution_count": 15,
   "metadata": {},
   "outputs": [
    {
     "data": {
      "text/plain": [
       "Text(0.5, 1.0, 'Test Performance')"
      ]
     },
     "execution_count": 15,
     "metadata": {},
     "output_type": "execute_result"
    },
    {
     "data": {
      "image/png": "[encoded data removed]",
      "text/plain": [
       "<Figure size 432x288 with 1 Axes>"
      ]
     },
     "metadata": {
      "needs_background": "light"
     },
     "output_type": "display_data"
    }
   ],
   "source": [
    "metrics.T.plot.bar()\n",
    "plt.legend(loc='lower center')\n",
    "plt.ylim([0.75, 1])\n",
    "plt.title('Test Performance')"
   ]
  },
  {
   "cell_type": "code",
   "execution_count": 16,
   "metadata": {},
   "outputs": [
    {
     "name": "stdout",
     "output_type": "stream",
     "text": [
      "[[    0  5660]\n",
      " [    0 16469]]\n"
     ]
    },
    {
     "data": {
      "image/png": "[encoded data removed]",
      "text/plain": [
       "<Figure size 432x288 with 2 Axes>"
      ]
     },
     "metadata": {
      "needs_background": "light"
     },
     "output_type": "display_data"
    }
   ],
   "source": [
    "y_hat = test_models[-1].predict(X_test)\n",
    "conf = confusion_matrix(y_test, y_hat)\n",
    "print(conf)\n",
    "sns.heatmap(conf);"
   ]
  },
  {
   "cell_type": "code",
   "execution_count": 17,
   "metadata": {},
   "outputs": [
    {
     "data": {
      "text/plain": [
       "array([], shape=(0, 0), dtype=int64)"
      ]
     },
     "execution_count": 17,
     "metadata": {},
     "output_type": "execute_result"
    }
   ],
   "source": [
    "mask = y_hat == 0\n",
    "conf = confusion_matrix(y_test[mask], y_hat[mask])\n",
    "conf"
   ]
  },
  {
   "cell_type": "markdown",
   "metadata": {},
   "source": [
    "# Balancing of Data"
   ]
  },
  {
   "cell_type": "markdown",
   "metadata": {},
   "source": [
    "<pre>Based on the given dataset, the data is imbalance based on loan Status, hence, we need to \n",
    "balance the data to have more accurate prediction.\n",
    "To balance the data, we replicated the charged off multiple times until the data become\n",
    "balanced.</pre>"
   ]
  },
  {
   "cell_type": "code",
   "execution_count": 18,
   "metadata": {},
   "outputs": [
    {
     "data": {
      "text/plain": [
       "(133794, 17)"
      ]
     },
     "execution_count": 18,
     "metadata": {},
     "output_type": "execute_result"
    }
   ],
   "source": [
    "dfLoan_new = dfLoan[dfLoan['Loan_Status'] == 0] # get the charged off rows since this is the minority\n",
    "dfLoan_new2 = dfLoan.append(dfLoan_new)\n",
    "dfLoan_new3 = dfLoan_new2.append(dfLoan_new)\n",
    "\n",
    "dfLoan_new3.shape"
   ]
  },
  {
   "cell_type": "code",
   "execution_count": 19,
   "metadata": {},
   "outputs": [
    {
     "data": {
      "text/html": [
       "<div>\n",
       "<style scoped>\n",
       "    .dataframe tbody tr th:only-of-type {\n",
       "        vertical-align: middle;\n",
       "    }\n",
       "\n",
       "    .dataframe tbody tr th {\n",
       "        vertical-align: top;\n",
       "    }\n",
       "\n",
       "    .dataframe thead th {\n",
       "        text-align: right;\n",
       "    }\n",
       "</style>\n",
       "<table border=\"1\" class=\"dataframe\">\n",
       "  <thead>\n",
       "    <tr style=\"text-align: right;\">\n",
       "      <th></th>\n",
       "      <th>Loan_Status</th>\n",
       "      <th>Current_Loan_Amount</th>\n",
       "      <th>Term</th>\n",
       "      <th>Credit_Score</th>\n",
       "      <th>Annual_Income</th>\n",
       "      <th>Years_in_current_job</th>\n",
       "      <th>Home_Ownership</th>\n",
       "      <th>Purpose</th>\n",
       "      <th>Monthly_Debt</th>\n",
       "      <th>Years_of_Credit_History</th>\n",
       "      <th>Number_of_Open_Accounts</th>\n",
       "      <th>Number_of_Credit_Problems</th>\n",
       "      <th>Current_Credit_Balance</th>\n",
       "      <th>Maximum_Open_Credit</th>\n",
       "      <th>Bankruptcies</th>\n",
       "      <th>Tax_Liens</th>\n",
       "      <th>Debt_To_Income_Ratio</th>\n",
       "    </tr>\n",
       "  </thead>\n",
       "  <tbody>\n",
       "    <tr>\n",
       "      <th>count</th>\n",
       "      <td>133794.000000</td>\n",
       "      <td>133794.000000</td>\n",
       "      <td>133794.000000</td>\n",
       "      <td>133794.000000</td>\n",
       "      <td>1.337940e+05</td>\n",
       "      <td>133794.00000</td>\n",
       "      <td>133794.000000</td>\n",
       "      <td>133794.000000</td>\n",
       "      <td>133794.000000</td>\n",
       "      <td>133794.000000</td>\n",
       "      <td>133794.000000</td>\n",
       "      <td>133794.000000</td>\n",
       "      <td>1.337940e+05</td>\n",
       "      <td>1.337940e+05</td>\n",
       "      <td>133794.000000</td>\n",
       "      <td>133794.000000</td>\n",
       "      <td>133794.000000</td>\n",
       "    </tr>\n",
       "    <tr>\n",
       "      <th>mean</th>\n",
       "      <td>0.492376</td>\n",
       "      <td>316598.492832</td>\n",
       "      <td>0.684537</td>\n",
       "      <td>1.074988</td>\n",
       "      <td>1.347245e+06</td>\n",
       "      <td>8.01279</td>\n",
       "      <td>1.967719</td>\n",
       "      <td>3.807136</td>\n",
       "      <td>18558.576566</td>\n",
       "      <td>18.064242</td>\n",
       "      <td>11.165471</td>\n",
       "      <td>0.169298</td>\n",
       "      <td>2.921706e+05</td>\n",
       "      <td>7.196064e+05</td>\n",
       "      <td>0.116059</td>\n",
       "      <td>0.031093</td>\n",
       "      <td>0.174230</td>\n",
       "    </tr>\n",
       "    <tr>\n",
       "      <th>std</th>\n",
       "      <td>0.499944</td>\n",
       "      <td>186236.685047</td>\n",
       "      <td>0.464702</td>\n",
       "      <td>0.459935</td>\n",
       "      <td>1.103442e+06</td>\n",
       "      <td>5.17671</td>\n",
       "      <td>0.955082</td>\n",
       "      <td>2.307851</td>\n",
       "      <td>12173.246264</td>\n",
       "      <td>7.030994</td>\n",
       "      <td>5.020334</td>\n",
       "      <td>0.486668</td>\n",
       "      <td>3.759529e+05</td>\n",
       "      <td>7.328281e+06</td>\n",
       "      <td>0.348997</td>\n",
       "      <td>0.266898</td>\n",
       "      <td>0.086574</td>\n",
       "    </tr>\n",
       "    <tr>\n",
       "      <th>min</th>\n",
       "      <td>0.000000</td>\n",
       "      <td>10802.000000</td>\n",
       "      <td>0.000000</td>\n",
       "      <td>0.000000</td>\n",
       "      <td>7.662700e+04</td>\n",
       "      <td>0.50000</td>\n",
       "      <td>0.000000</td>\n",
       "      <td>0.000000</td>\n",
       "      <td>0.000000</td>\n",
       "      <td>3.600000</td>\n",
       "      <td>0.000000</td>\n",
       "      <td>0.000000</td>\n",
       "      <td>0.000000e+00</td>\n",
       "      <td>0.000000e+00</td>\n",
       "      <td>0.000000</td>\n",
       "      <td>0.000000</td>\n",
       "      <td>0.000000</td>\n",
       "    </tr>\n",
       "    <tr>\n",
       "      <th>25%</th>\n",
       "      <td>0.000000</td>\n",
       "      <td>174636.000000</td>\n",
       "      <td>0.000000</td>\n",
       "      <td>1.000000</td>\n",
       "      <td>9.209110e+05</td>\n",
       "      <td>3.00000</td>\n",
       "      <td>1.000000</td>\n",
       "      <td>3.000000</td>\n",
       "      <td>10348.017500</td>\n",
       "      <td>13.300000</td>\n",
       "      <td>8.000000</td>\n",
       "      <td>0.000000</td>\n",
       "      <td>1.147030e+05</td>\n",
       "      <td>2.691260e+05</td>\n",
       "      <td>0.000000</td>\n",
       "      <td>0.000000</td>\n",
       "      <td>0.110755</td>\n",
       "    </tr>\n",
       "    <tr>\n",
       "      <th>50%</th>\n",
       "      <td>0.000000</td>\n",
       "      <td>269852.000000</td>\n",
       "      <td>1.000000</td>\n",
       "      <td>1.000000</td>\n",
       "      <td>1.371078e+06</td>\n",
       "      <td>8.00000</td>\n",
       "      <td>2.000000</td>\n",
       "      <td>3.000000</td>\n",
       "      <td>16333.160000</td>\n",
       "      <td>16.800000</td>\n",
       "      <td>10.000000</td>\n",
       "      <td>0.000000</td>\n",
       "      <td>2.113940e+05</td>\n",
       "      <td>4.573360e+05</td>\n",
       "      <td>0.000000</td>\n",
       "      <td>0.000000</td>\n",
       "      <td>0.168001</td>\n",
       "    </tr>\n",
       "    <tr>\n",
       "      <th>75%</th>\n",
       "      <td>1.000000</td>\n",
       "      <td>435028.000000</td>\n",
       "      <td>1.000000</td>\n",
       "      <td>1.000000</td>\n",
       "      <td>1.435080e+06</td>\n",
       "      <td>15.00000</td>\n",
       "      <td>3.000000</td>\n",
       "      <td>3.000000</td>\n",
       "      <td>24052.480000</td>\n",
       "      <td>21.500000</td>\n",
       "      <td>14.000000</td>\n",
       "      <td>0.000000</td>\n",
       "      <td>3.675312e+05</td>\n",
       "      <td>7.599680e+05</td>\n",
       "      <td>0.000000</td>\n",
       "      <td>0.000000</td>\n",
       "      <td>0.230998</td>\n",
       "    </tr>\n",
       "    <tr>\n",
       "      <th>max</th>\n",
       "      <td>1.000000</td>\n",
       "      <td>789250.000000</td>\n",
       "      <td>1.000000</td>\n",
       "      <td>2.000000</td>\n",
       "      <td>1.655574e+08</td>\n",
       "      <td>15.00000</td>\n",
       "      <td>3.000000</td>\n",
       "      <td>15.000000</td>\n",
       "      <td>435843.280000</td>\n",
       "      <td>70.500000</td>\n",
       "      <td>76.000000</td>\n",
       "      <td>15.000000</td>\n",
       "      <td>3.287897e+07</td>\n",
       "      <td>1.539738e+09</td>\n",
       "      <td>7.000000</td>\n",
       "      <td>15.000000</td>\n",
       "      <td>1.327852</td>\n",
       "    </tr>\n",
       "  </tbody>\n",
       "</table>\n",
       "</div>"
      ],
      "text/plain": [
       "         Loan_Status  Current_Loan_Amount           Term   Credit_Score  \\\n",
       "count  133794.000000        133794.000000  133794.000000  133794.000000   \n",
       "mean        0.492376        316598.492832       0.684537       1.074988   \n",
       "std         0.499944        186236.685047       0.464702       0.459935   \n",
       "min         0.000000         10802.000000       0.000000       0.000000   \n",
       "25%         0.000000        174636.000000       0.000000       1.000000   \n",
       "50%         0.000000        269852.000000       1.000000       1.000000   \n",
       "75%         1.000000        435028.000000       1.000000       1.000000   \n",
       "max         1.000000        789250.000000       1.000000       2.000000   \n",
       "\n",
       "       Annual_Income  Years_in_current_job  Home_Ownership        Purpose  \\\n",
       "count   1.337940e+05          133794.00000   133794.000000  133794.000000   \n",
       "mean    1.347245e+06               8.01279        1.967719       3.807136   \n",
       "std     1.103442e+06               5.17671        0.955082       2.307851   \n",
       "min     7.662700e+04               0.50000        0.000000       0.000000   \n",
       "25%     9.209110e+05               3.00000        1.000000       3.000000   \n",
       "50%     1.371078e+06               8.00000        2.000000       3.000000   \n",
       "75%     1.435080e+06              15.00000        3.000000       3.000000   \n",
       "max     1.655574e+08              15.00000        3.000000      15.000000   \n",
       "\n",
       "        Monthly_Debt  Years_of_Credit_History  Number_of_Open_Accounts  \\\n",
       "count  133794.000000            133794.000000            133794.000000   \n",
       "mean    18558.576566                18.064242                11.165471   \n",
       "std     12173.246264                 7.030994                 5.020334   \n",
       "min         0.000000                 3.600000                 0.000000   \n",
       "25%     10348.017500                13.300000                 8.000000   \n",
       "50%     16333.160000                16.800000                10.000000   \n",
       "75%     24052.480000                21.500000                14.000000   \n",
       "max    435843.280000                70.500000                76.000000   \n",
       "\n",
       "       Number_of_Credit_Problems  Current_Credit_Balance  Maximum_Open_Credit  \\\n",
       "count              133794.000000            1.337940e+05         1.337940e+05   \n",
       "mean                    0.169298            2.921706e+05         7.196064e+05   \n",
       "std                     0.486668            3.759529e+05         7.328281e+06   \n",
       "min                     0.000000            0.000000e+00         0.000000e+00   \n",
       "25%                     0.000000            1.147030e+05         2.691260e+05   \n",
       "50%                     0.000000            2.113940e+05         4.573360e+05   \n",
       "75%                     0.000000            3.675312e+05         7.599680e+05   \n",
       "max                    15.000000            3.287897e+07         1.539738e+09   \n",
       "\n",
       "        Bankruptcies      Tax_Liens  Debt_To_Income_Ratio  \n",
       "count  133794.000000  133794.000000         133794.000000  \n",
       "mean        0.116059       0.031093              0.174230  \n",
       "std         0.348997       0.266898              0.086574  \n",
       "min         0.000000       0.000000              0.000000  \n",
       "25%         0.000000       0.000000              0.110755  \n",
       "50%         0.000000       0.000000              0.168001  \n",
       "75%         0.000000       0.000000              0.230998  \n",
       "max         7.000000      15.000000              1.327852  "
      ]
     },
     "execution_count": 19,
     "metadata": {},
     "output_type": "execute_result"
    }
   ],
   "source": [
    "dfLoan_new3.describe()"
   ]
  },
  {
   "cell_type": "code",
   "execution_count": 20,
   "metadata": {},
   "outputs": [],
   "source": [
    "dfLoanBal = dfLoan_new3"
   ]
  },
  {
   "cell_type": "code",
   "execution_count": 21,
   "metadata": {},
   "outputs": [
    {
     "name": "stdout",
     "output_type": "stream",
     "text": [
      "X: (133794, 16)\n",
      "y: (133794,)\n"
     ]
    }
   ],
   "source": [
    "X2 = dfLoanBal.drop(\"Loan_Status\",axis=1)\n",
    "y2 = dfLoanBal['Loan_Status']\n",
    "print('X:', X2.shape)\n",
    "print('y:', y2.shape)"
   ]
  },
  {
   "cell_type": "code",
   "execution_count": 22,
   "metadata": {},
   "outputs": [],
   "source": [
    "X2_train, X2_test, y2_train, y2_test = train_test_split(X2, y2, test_size=0.25, stratify=y2, shuffle=True)"
   ]
  },
  {
   "cell_type": "code",
   "execution_count": 23,
   "metadata": {},
   "outputs": [],
   "source": [
    "skf = StratifiedKFold(n_splits=5, shuffle=True)\n",
    "fold_indices = skf.split(X2_train, y2_train)"
   ]
  },
  {
   "cell_type": "markdown",
   "metadata": {},
   "source": [
    "# Model the Balanced Dataset"
   ]
  },
  {
   "cell_type": "code",
   "execution_count": 24,
   "metadata": {},
   "outputs": [],
   "source": [
    "def init_models():\n",
    "    return [LogisticRegression(solver='lbfgs'),\n",
    "            GaussianNB(),\n",
    "            KNeighborsClassifier(n_neighbors=2),\n",
    "            RandomForestClassifier(n_estimators=100),\n",
    "            DecisionTreeClassifier(),\n",
    "            SVC(gamma='scale')]\n",
    "\n",
    "def calc_metrics(model, X2, y2):\n",
    "    y_hat = model.predict(X2)\n",
    "    metrics = [accuracy_score, precision_score, recall_score, f1_score, roc_auc_score]\n",
    "    scores = [fn(y2, y_hat) for fn in metrics]\n",
    "    return scores"
   ]
  },
  {
   "cell_type": "code",
   "execution_count": 25,
   "metadata": {},
   "outputs": [
    {
     "name": "stderr",
     "output_type": "stream",
     "text": [
      "100%|██████████| 6/6 [06:52<00:00, 119.90s/it]\n",
      "100%|██████████| 6/6 [07:09<00:00, 124.83s/it]\n",
      "100%|██████████| 6/6 [06:51<00:00, 119.07s/it]\n",
      "100%|██████████| 6/6 [07:10<00:00, 124.76s/it]\n",
      "100%|██████████| 6/6 [07:23<00:00, 128.54s/it]\n"
     ]
    }
   ],
   "source": [
    "fold_model_sets = []\n",
    "fold_model_metrics = []\n",
    "\n",
    "for train_idx, val_idx in fold_indices:\n",
    "    # Split training for cross val fold\n",
    "    X_fold = X2_train.iloc[train_idx, :]\n",
    "    y_fold = y2_train.iloc[train_idx]\n",
    "    X_val = X2_train.iloc[val_idx, :]\n",
    "    y_val = y2_train.iloc[val_idx]\n",
    "\n",
    "    # Fit models\n",
    "    models = init_models()\n",
    "    fit_models = []\n",
    "    fit_metrics = []\n",
    "    for model in tqdm(models):\n",
    "        fit_models.append(model.fit(X_fold, y_fold))\n",
    "        fit_metrics.append(calc_metrics(model, X_val, y_val))\n",
    "    \n",
    "    # Store models and metrics for fold\n",
    "    fold_model_sets.append(fit_models)\n",
    "    fold_model_metrics.append(fit_metrics)\n",
    "\n",
    "# Move to numpy\n",
    "fold_model_metrics = np.array(fold_model_metrics)"
   ]
  },
  {
   "cell_type": "code",
   "execution_count": 26,
   "metadata": {},
   "outputs": [
    {
     "data": {
      "text/plain": [
       "(5, 6, 5)"
      ]
     },
     "execution_count": 26,
     "metadata": {},
     "output_type": "execute_result"
    }
   ],
   "source": [
    "fold_model_metrics.shape"
   ]
  },
  {
   "cell_type": "code",
   "execution_count": 27,
   "metadata": {},
   "outputs": [
    {
     "name": "stdout",
     "output_type": "stream",
     "text": [
      "\n",
      "\n",
      "LogisticRegression\n",
      "__________________\n",
      "Accuracy: 0.558 (max 0.562)\n",
      "Precision: 0.557 (max 0.561)\n",
      "Recall: 0.502 (max 0.511)\n",
      "F1: 0.528 (max 0.533)\n",
      "AUC: 0.557 (max 0.561)\n",
      "\n",
      "\n",
      "GaussianNB\n",
      "__________\n",
      "Accuracy: 0.511 (max 0.516)\n",
      "Precision: 0.589 (max 0.639)\n",
      "Recall: 0.042 (max 0.155)\n",
      "F1: 0.070 (max 0.240)\n",
      "AUC: 0.504 (max 0.511)\n",
      "\n",
      "\n",
      "KNeighborsClassifier\n",
      "____________________\n",
      "Accuracy: 0.709 (max 0.714)\n",
      "Precision: 0.877 (max 0.884)\n",
      "Recall: 0.475 (max 0.482)\n",
      "F1: 0.617 (max 0.624)\n",
      "AUC: 0.705 (max 0.711)\n",
      "\n",
      "\n",
      "RandomForestClassifier\n",
      "______________________\n",
      "Accuracy: 0.861 (max 0.862)\n",
      "Precision: 0.887 (max 0.889)\n",
      "Recall: 0.821 (max 0.826)\n",
      "F1: 0.853 (max 0.855)\n",
      "AUC: 0.860 (max 0.862)\n",
      "\n",
      "\n",
      "DecisionTreeClassifier\n",
      "______________________\n",
      "Accuracy: 0.813 (max 0.815)\n",
      "Precision: 0.881 (max 0.887)\n",
      "Recall: 0.717 (max 0.722)\n",
      "F1: 0.790 (max 0.793)\n",
      "AUC: 0.811 (max 0.814)\n",
      "\n",
      "\n",
      "SVC\n",
      "___\n",
      "Accuracy: 0.559 (max 0.564)\n",
      "Precision: 0.561 (max 0.564)\n",
      "Recall: 0.476 (max 0.507)\n",
      "F1: 0.515 (max 0.534)\n",
      "AUC: 0.557 (max 0.563)\n"
     ]
    }
   ],
   "source": [
    "models = init_models()\n",
    "model_names = []\n",
    "metric_names = ['Accuracy', 'Precision', 'Recall', 'F1', 'AUC']\n",
    "\n",
    "mean_model_metrics = fold_model_metrics.mean(axis=0)\n",
    "max_model_metrics = fold_model_metrics.max(axis=0)\n",
    "\n",
    "for i in range(mean_model_metrics.shape[0]):\n",
    "    print('\\n')\n",
    "    model_name = str(models[i]).split('(')[0]\n",
    "    model_names.append(model_name)\n",
    "    print(model_name)\n",
    "    \n",
    "    print('_' * len(model_name))\n",
    "    \n",
    "    for j in range(mean_model_metrics.shape[1]):\n",
    "        print(f\"{metric_names[j]}: {mean_model_metrics[i, j]:.3f} (max {max_model_metrics[i, j]:.3f})\")"
   ]
  },
  {
   "cell_type": "code",
   "execution_count": 28,
   "metadata": {},
   "outputs": [
    {
     "data": {
      "text/html": [
       "<div>\n",
       "<style scoped>\n",
       "    .dataframe tbody tr th:only-of-type {\n",
       "        vertical-align: middle;\n",
       "    }\n",
       "\n",
       "    .dataframe tbody tr th {\n",
       "        vertical-align: top;\n",
       "    }\n",
       "\n",
       "    .dataframe thead th {\n",
       "        text-align: right;\n",
       "    }\n",
       "</style>\n",
       "<table border=\"1\" class=\"dataframe\">\n",
       "  <thead>\n",
       "    <tr style=\"text-align: right;\">\n",
       "      <th></th>\n",
       "      <th>LogisticRegression</th>\n",
       "      <th>GaussianNB</th>\n",
       "      <th>KNeighborsClassifier</th>\n",
       "      <th>RandomForestClassifier</th>\n",
       "      <th>DecisionTreeClassifier</th>\n",
       "      <th>SVC</th>\n",
       "    </tr>\n",
       "  </thead>\n",
       "  <tbody>\n",
       "    <tr>\n",
       "      <th>Accuracy</th>\n",
       "      <td>0.558005</td>\n",
       "      <td>0.511296</td>\n",
       "      <td>0.708864</td>\n",
       "      <td>0.860501</td>\n",
       "      <td>0.812796</td>\n",
       "      <td>0.558513</td>\n",
       "    </tr>\n",
       "    <tr>\n",
       "      <th>Precision</th>\n",
       "      <td>0.556717</td>\n",
       "      <td>0.589008</td>\n",
       "      <td>0.876905</td>\n",
       "      <td>0.886950</td>\n",
       "      <td>0.880754</td>\n",
       "      <td>0.560882</td>\n",
       "    </tr>\n",
       "    <tr>\n",
       "      <th>Recall</th>\n",
       "      <td>0.502307</td>\n",
       "      <td>0.042300</td>\n",
       "      <td>0.475449</td>\n",
       "      <td>0.821385</td>\n",
       "      <td>0.716868</td>\n",
       "      <td>0.475975</td>\n",
       "    </tr>\n",
       "    <tr>\n",
       "      <th>F1</th>\n",
       "      <td>0.528101</td>\n",
       "      <td>0.070063</td>\n",
       "      <td>0.616585</td>\n",
       "      <td>0.852903</td>\n",
       "      <td>0.790397</td>\n",
       "      <td>0.514823</td>\n",
       "    </tr>\n",
       "    <tr>\n",
       "      <th>AUC</th>\n",
       "      <td>0.557169</td>\n",
       "      <td>0.504257</td>\n",
       "      <td>0.705361</td>\n",
       "      <td>0.859914</td>\n",
       "      <td>0.811356</td>\n",
       "      <td>0.557274</td>\n",
       "    </tr>\n",
       "  </tbody>\n",
       "</table>\n",
       "</div>"
      ],
      "text/plain": [
       "           LogisticRegression  GaussianNB  KNeighborsClassifier  \\\n",
       "Accuracy             0.558005    0.511296              0.708864   \n",
       "Precision            0.556717    0.589008              0.876905   \n",
       "Recall               0.502307    0.042300              0.475449   \n",
       "F1                   0.528101    0.070063              0.616585   \n",
       "AUC                  0.557169    0.504257              0.705361   \n",
       "\n",
       "           RandomForestClassifier  DecisionTreeClassifier       SVC  \n",
       "Accuracy                 0.860501                0.812796  0.558513  \n",
       "Precision                0.886950                0.880754  0.560882  \n",
       "Recall                   0.821385                0.716868  0.475975  \n",
       "F1                       0.852903                0.790397  0.514823  \n",
       "AUC                      0.859914                0.811356  0.557274  "
      ]
     },
     "execution_count": 28,
     "metadata": {},
     "output_type": "execute_result"
    }
   ],
   "source": [
    "metrics = pd.DataFrame(mean_model_metrics.T, columns=model_names, index=metric_names)\n",
    "metrics"
   ]
  },
  {
   "cell_type": "code",
   "execution_count": 29,
   "metadata": {},
   "outputs": [
    {
     "data": {
      "text/plain": [
       "SVC(C=1.0, cache_size=200, class_weight=None, coef0=0.0,\n",
       "    decision_function_shape='ovr', degree=3, gamma='scale', kernel='rbf',\n",
       "    max_iter=-1, probability=False, random_state=None, shrinking=True,\n",
       "    tol=0.001, verbose=False)"
      ]
     },
     "execution_count": 29,
     "metadata": {},
     "output_type": "execute_result"
    }
   ],
   "source": [
    "model = SVC(gamma='scale')\n",
    "model.fit(X2_train, y2_train)"
   ]
  },
  {
   "cell_type": "code",
   "execution_count": 30,
   "metadata": {},
   "outputs": [
    {
     "name": "stdout",
     "output_type": "stream",
     "text": [
      "Accuracy: 0.562\n",
      "Precision: 0.564\n",
      "Recall: 0.490\n",
      "F1: 0.524\n",
      "AUC: 0.561\n"
     ]
    }
   ],
   "source": [
    "for i, metric in enumerate(calc_metrics(model, X2_test, y2_test)):\n",
    "        print(f\"{metric_names[i]}: {metric:.3f}\")"
   ]
  },
  {
   "cell_type": "code",
   "execution_count": 31,
   "metadata": {},
   "outputs": [
    {
     "name": "stderr",
     "output_type": "stream",
     "text": [
      "100%|██████████| 6/6 [11:37<00:00, 204.12s/it]\n"
     ]
    }
   ],
   "source": [
    "test_models = init_models()\n",
    "test_metrics = np.zeros([len(test_models), len(metric_names)])\n",
    "for i, model in enumerate(tqdm(test_models)):\n",
    "    test_models[i] = model.fit(X2_train, y2_train)\n",
    "    test_metrics[i, :] = np.array(calc_metrics(model, X2_test, y2_test))"
   ]
  },
  {
   "cell_type": "code",
   "execution_count": 32,
   "metadata": {},
   "outputs": [
    {
     "data": {
      "text/plain": [
       "Text(0.5, 1.0, 'Test Performance')"
      ]
     },
     "execution_count": 32,
     "metadata": {},
     "output_type": "execute_result"
    },
    {
     "data": {
      "image/png": "[encoded data removed]",
      "text/plain": [
       "<Figure size 432x288 with 1 Axes>"
      ]
     },
     "metadata": {
      "needs_background": "light"
     },
     "output_type": "display_data"
    }
   ],
   "source": [
    "metrics.T.plot.bar()\n",
    "plt.legend(loc='lower center')\n",
    "plt.ylim([0.75, 1])\n",
    "plt.title('Test Performance')"
   ]
  },
  {
   "cell_type": "code",
   "execution_count": 33,
   "metadata": {},
   "outputs": [
    {
     "name": "stdout",
     "output_type": "stream",
     "text": [
      "[[10738  6242]\n",
      " [ 8407  8062]]\n"
     ]
    },
    {
     "data": {
      "image/png": "[encoded data removed]",
      "text/plain": [
       "<Figure size 432x288 with 2 Axes>"
      ]
     },
     "metadata": {
      "needs_background": "light"
     },
     "output_type": "display_data"
    }
   ],
   "source": [
    "y_hat = test_models[-1].predict(X2_test)\n",
    "conf = confusion_matrix(y2_test, y_hat)\n",
    "print(conf)\n",
    "sns.heatmap(conf);"
   ]
  },
  {
   "cell_type": "markdown",
   "metadata": {},
   "source": [
    "## Save the Final Model"
   ]
  },
  {
   "cell_type": "code",
   "execution_count": 35,
   "metadata": {},
   "outputs": [],
   "source": [
    "# Save Model Using Pickle\n",
    "import pickle\n",
    "\n",
    "# Fit the model on training set\n",
    "model = RandomForestClassifier()\n",
    "model.fit(X2_train, y2_train)\n",
    "# save the model to disk\n",
    "filename = 'finalized_model.sav'\n",
    "pickle.dump(model, open(filename, 'wb'))\n",
    "\n"
   ]
  },
  {
   "cell_type": "code",
   "execution_count": 37,
   "metadata": {},
   "outputs": [
    {
     "name": "stdout",
     "output_type": "stream",
     "text": [
      "0.8603844659033155\n"
     ]
    }
   ],
   "source": [
    "# load the model from disk\n",
    "loaded_model = pickle.load(open(filename, 'rb'))\n",
    "result = loaded_model.score(X2_test, y2_test)\n",
    "print(result)"
   ]
  },
  {
   "cell_type": "markdown",
   "metadata": {},
   "source": [
    "# Predict"
   ]
  },
  {
   "cell_type": "code",
   "execution_count": 53,
   "metadata": {},
   "outputs": [],
   "source": [
    "# example of making a single class prediction\n",
    "from sklearn.datasets.samples_generator import make_blobs\n",
    "\n",
    "data = pd.read_csv('creditTest_cleaned.csv')\n",
    "\n",
    "\n",
    "data.loc[:,'prediction'] = loaded_model.predict(data)\n",
    "\n"
   ]
  },
  {
   "cell_type": "code",
   "execution_count": 55,
   "metadata": {},
   "outputs": [
    {
     "data": {
      "text/html": [
       "<div>\n",
       "<style scoped>\n",
       "    .dataframe tbody tr th:only-of-type {\n",
       "        vertical-align: middle;\n",
       "    }\n",
       "\n",
       "    .dataframe tbody tr th {\n",
       "        vertical-align: top;\n",
       "    }\n",
       "\n",
       "    .dataframe thead th {\n",
       "        text-align: right;\n",
       "    }\n",
       "</style>\n",
       "<table border=\"1\" class=\"dataframe\">\n",
       "  <thead>\n",
       "    <tr style=\"text-align: right;\">\n",
       "      <th></th>\n",
       "      <th>Current_Loan_Amount</th>\n",
       "      <th>Term</th>\n",
       "      <th>Credit_Score</th>\n",
       "      <th>Annual_Income</th>\n",
       "      <th>Years_in_current_job</th>\n",
       "      <th>Home_Ownership</th>\n",
       "      <th>Purpose</th>\n",
       "      <th>Monthly_Debt</th>\n",
       "      <th>Years_of_Credit_History</th>\n",
       "      <th>Number_of_Open_Accounts</th>\n",
       "      <th>Number_of_Credit_Problems</th>\n",
       "      <th>Current_Credit_Balance</th>\n",
       "      <th>Maximum_Open_Credit</th>\n",
       "      <th>Bankruptcies</th>\n",
       "      <th>Tax_Liens</th>\n",
       "      <th>Debt_To_Income_Ratio</th>\n",
       "      <th>prediction</th>\n",
       "    </tr>\n",
       "  </thead>\n",
       "  <tbody>\n",
       "    <tr>\n",
       "      <th>0</th>\n",
       "      <td>611314.0</td>\n",
       "      <td>1</td>\n",
       "      <td>2</td>\n",
       "      <td>2074116.0</td>\n",
       "      <td>15.0</td>\n",
       "      <td>1</td>\n",
       "      <td>3</td>\n",
       "      <td>42000.83</td>\n",
       "      <td>21.8</td>\n",
       "      <td>9.0</td>\n",
       "      <td>0.0</td>\n",
       "      <td>621908.0</td>\n",
       "      <td>1058970.0</td>\n",
       "      <td>0.0</td>\n",
       "      <td>0.0</td>\n",
       "      <td>0.243000</td>\n",
       "      <td>1.0</td>\n",
       "    </tr>\n",
       "    <tr>\n",
       "      <th>1</th>\n",
       "      <td>266662.0</td>\n",
       "      <td>1</td>\n",
       "      <td>1</td>\n",
       "      <td>1919190.0</td>\n",
       "      <td>15.0</td>\n",
       "      <td>1</td>\n",
       "      <td>3</td>\n",
       "      <td>36624.40</td>\n",
       "      <td>19.4</td>\n",
       "      <td>11.0</td>\n",
       "      <td>0.0</td>\n",
       "      <td>679573.0</td>\n",
       "      <td>904442.0</td>\n",
       "      <td>0.0</td>\n",
       "      <td>0.0</td>\n",
       "      <td>0.228999</td>\n",
       "      <td>1.0</td>\n",
       "    </tr>\n",
       "    <tr>\n",
       "      <th>2</th>\n",
       "      <td>153494.0</td>\n",
       "      <td>1</td>\n",
       "      <td>1</td>\n",
       "      <td>871112.0</td>\n",
       "      <td>2.0</td>\n",
       "      <td>3</td>\n",
       "      <td>3</td>\n",
       "      <td>8391.73</td>\n",
       "      <td>12.5</td>\n",
       "      <td>10.0</td>\n",
       "      <td>0.0</td>\n",
       "      <td>38532.0</td>\n",
       "      <td>388036.0</td>\n",
       "      <td>0.0</td>\n",
       "      <td>0.0</td>\n",
       "      <td>0.115600</td>\n",
       "      <td>0.0</td>\n",
       "    </tr>\n",
       "    <tr>\n",
       "      <th>3</th>\n",
       "      <td>176242.0</td>\n",
       "      <td>1</td>\n",
       "      <td>1</td>\n",
       "      <td>780083.0</td>\n",
       "      <td>15.0</td>\n",
       "      <td>3</td>\n",
       "      <td>3</td>\n",
       "      <td>16771.87</td>\n",
       "      <td>16.5</td>\n",
       "      <td>16.0</td>\n",
       "      <td>1.0</td>\n",
       "      <td>156940.0</td>\n",
       "      <td>531322.0</td>\n",
       "      <td>1.0</td>\n",
       "      <td>0.0</td>\n",
       "      <td>0.258001</td>\n",
       "      <td>0.0</td>\n",
       "    </tr>\n",
       "    <tr>\n",
       "      <th>4</th>\n",
       "      <td>321992.0</td>\n",
       "      <td>1</td>\n",
       "      <td>2</td>\n",
       "      <td>1761148.0</td>\n",
       "      <td>15.0</td>\n",
       "      <td>1</td>\n",
       "      <td>3</td>\n",
       "      <td>39478.77</td>\n",
       "      <td>26.0</td>\n",
       "      <td>14.0</td>\n",
       "      <td>0.0</td>\n",
       "      <td>359765.0</td>\n",
       "      <td>468072.0</td>\n",
       "      <td>0.0</td>\n",
       "      <td>0.0</td>\n",
       "      <td>0.268998</td>\n",
       "      <td>1.0</td>\n",
       "    </tr>\n",
       "  </tbody>\n",
       "</table>\n",
       "</div>"
      ],
      "text/plain": [
       "   Current_Loan_Amount  Term  Credit_Score  Annual_Income  \\\n",
       "0             611314.0     1             2      2074116.0   \n",
       "1             266662.0     1             1      1919190.0   \n",
       "2             153494.0     1             1       871112.0   \n",
       "3             176242.0     1             1       780083.0   \n",
       "4             321992.0     1             2      1761148.0   \n",
       "\n",
       "   Years_in_current_job  Home_Ownership  Purpose  Monthly_Debt  \\\n",
       "0                  15.0               1        3      42000.83   \n",
       "1                  15.0               1        3      36624.40   \n",
       "2                   2.0               3        3       8391.73   \n",
       "3                  15.0               3        3      16771.87   \n",
       "4                  15.0               1        3      39478.77   \n",
       "\n",
       "   Years_of_Credit_History  Number_of_Open_Accounts  \\\n",
       "0                     21.8                      9.0   \n",
       "1                     19.4                     11.0   \n",
       "2                     12.5                     10.0   \n",
       "3                     16.5                     16.0   \n",
       "4                     26.0                     14.0   \n",
       "\n",
       "   Number_of_Credit_Problems  Current_Credit_Balance  Maximum_Open_Credit  \\\n",
       "0                        0.0                621908.0            1058970.0   \n",
       "1                        0.0                679573.0             904442.0   \n",
       "2                        0.0                 38532.0             388036.0   \n",
       "3                        1.0                156940.0             531322.0   \n",
       "4                        0.0                359765.0             468072.0   \n",
       "\n",
       "   Bankruptcies  Tax_Liens  Debt_To_Income_Ratio  prediction  \n",
       "0           0.0        0.0              0.243000         1.0  \n",
       "1           0.0        0.0              0.228999         1.0  \n",
       "2           0.0        0.0              0.115600         0.0  \n",
       "3           1.0        0.0              0.258001         0.0  \n",
       "4           0.0        0.0              0.268998         1.0  "
      ]
     },
     "execution_count": 55,
     "metadata": {},
     "output_type": "execute_result"
    }
   ],
   "source": [
    "# show output with prediction column\n",
    "data.to_csv('credit_data_withPrediction.csv',index=False)\n",
    "\n",
    "data.head(5)"
   ]
  },
  {
   "cell_type": "code",
   "execution_count": null,
   "metadata": {},
   "outputs": [],
   "source": []
  }
 ],
 "metadata": {
  "kernelspec": {
   "display_name": "Python 3",
   "language": "python",
   "name": "python3"
  },
  "language_info": {
   "codemirror_mode": {
    "name": "ipython",
    "version": 3
   },
   "file_extension": ".py",
   "mimetype": "text/x-python",
   "name": "python",
   "nbconvert_exporter": "python",
   "pygments_lexer": "ipython3",
   "version": "3.7.3"
  }
 },
 "nbformat": 4,
 "nbformat_minor": 1
}
